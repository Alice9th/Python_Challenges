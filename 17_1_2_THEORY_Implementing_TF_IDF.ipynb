{
  "nbformat": 4,
  "nbformat_minor": 0,
  "metadata": {
    "colab": {
      "provenance": [],
      "toc_visible": true,
      "include_colab_link": true
    },
    "kernelspec": {
      "name": "python3",
      "display_name": "Python 3"
    },
    "language_info": {
      "name": "python"
    }
  },
  "cells": [
    {
      "cell_type": "markdown",
      "metadata": {
        "id": "view-in-github",
        "colab_type": "text"
      },
      "source": [
        "<a href=\"https://colab.research.google.com/github/Alice9th/Python_Challenges/blob/master/17_1_2_THEORY_Implementing_TF_IDF.ipynb\" target=\"_parent\"><img src=\"https://colab.research.google.com/assets/colab-badge.svg\" alt=\"Open In Colab\"/></a>"
      ]
    },
    {
      "cell_type": "code",
      "execution_count": null,
      "metadata": {
        "id": "2NdwZZ1HV3eV"
      },
      "outputs": [],
      "source": [
        "# Import necessary libraries\n",
        "import numpy as np\n",
        "import pandas as pd\n",
        "from sklearn.feature_extraction.text import TfidfVectorizer\n",
        "from sklearn.datasets import fetch_20newsgroups\n",
        "from sklearn.model_selection import train_test_split\n",
        "from sklearn.linear_model import LogisticRegression\n",
        "from sklearn.metrics import accuracy_score, classification_report"
      ]
    },
    {
      "cell_type": "markdown",
      "source": [
        "# Get the data"
      ],
      "metadata": {
        "id": "puQ-vSx8YWba"
      }
    },
    {
      "cell_type": "code",
      "source": [
        "# Load the 20 newsgroups dataset\n",
        "newsgroups = fetch_20newsgroups(subset='all', categories=['sci.med', 'sci.space'], remove=('headers', 'footers', 'quotes'))"
      ],
      "metadata": {
        "id": "XHjWUN22XHFX"
      },
      "execution_count": null,
      "outputs": []
    },
    {
      "cell_type": "code",
      "source": [
        "type(newsgroups)"
      ],
      "metadata": {
        "colab": {
          "base_uri": "https://localhost:8080/",
          "height": 186
        },
        "id": "Kqtx6FXgXlGU",
        "outputId": "8b85ada2-6f08-4568-9dc5-4950e67cacaa"
      },
      "execution_count": null,
      "outputs": [
        {
          "output_type": "execute_result",
          "data": {
            "text/plain": [
              "sklearn.utils._bunch.Bunch"
            ],
            "text/html": [
              "<div style=\"max-width:800px; border: 1px solid var(--colab-border-color);\"><style>\n",
              "      pre.function-repr-contents {\n",
              "        overflow-x: auto;\n",
              "        padding: 8px 12px;\n",
              "        max-height: 500px;\n",
              "      }\n",
              "\n",
              "      pre.function-repr-contents.function-repr-contents-collapsed {\n",
              "        cursor: pointer;\n",
              "        max-height: 100px;\n",
              "      }\n",
              "    </style>\n",
              "    <pre style=\"white-space: initial; background:\n",
              "         var(--colab-secondary-surface-color); padding: 8px 12px;\n",
              "         border-bottom: 1px solid var(--colab-border-color);\"><b>sklearn.utils._bunch.Bunch</b><br/>def __init__(**kwargs)</pre><pre class=\"function-repr-contents function-repr-contents-collapsed\" style=\"\"><a class=\"filepath\" style=\"display:none\" href=\"#\">/usr/local/lib/python3.10/dist-packages/sklearn/utils/_bunch.py</a>Container object exposing keys as attributes.\n",
              "\n",
              "Bunch objects are sometimes used as an output for functions and methods.\n",
              "They extend dictionaries by enabling values to be accessed by key,\n",
              "`bunch[&quot;value_key&quot;]`, or by an attribute, `bunch.value_key`.\n",
              "\n",
              "Examples\n",
              "--------\n",
              "&gt;&gt;&gt; from sklearn.utils import Bunch\n",
              "&gt;&gt;&gt; b = Bunch(a=1, b=2)\n",
              "&gt;&gt;&gt; b[&#x27;b&#x27;]\n",
              "2\n",
              "&gt;&gt;&gt; b.b\n",
              "2\n",
              "&gt;&gt;&gt; b.a = 3\n",
              "&gt;&gt;&gt; b[&#x27;a&#x27;]\n",
              "3\n",
              "&gt;&gt;&gt; b.c = 6\n",
              "&gt;&gt;&gt; b[&#x27;c&#x27;]\n",
              "6</pre>\n",
              "      <script>\n",
              "      if (google.colab.kernel.accessAllowed && google.colab.files && google.colab.files.view) {\n",
              "        for (const element of document.querySelectorAll('.filepath')) {\n",
              "          element.style.display = 'block'\n",
              "          element.onclick = (event) => {\n",
              "            event.preventDefault();\n",
              "            event.stopPropagation();\n",
              "            google.colab.files.view(element.textContent, 4);\n",
              "          };\n",
              "        }\n",
              "      }\n",
              "      for (const element of document.querySelectorAll('.function-repr-contents')) {\n",
              "        element.onclick = (event) => {\n",
              "          event.preventDefault();\n",
              "          event.stopPropagation();\n",
              "          element.classList.toggle('function-repr-contents-collapsed');\n",
              "        };\n",
              "      }\n",
              "      </script>\n",
              "      </div>"
            ]
          },
          "metadata": {},
          "execution_count": 3
        }
      ]
    },
    {
      "cell_type": "code",
      "source": [
        "newsgroups.keys()"
      ],
      "metadata": {
        "colab": {
          "base_uri": "https://localhost:8080/"
        },
        "id": "CgwttA8ZX22C",
        "outputId": "d4905884-a352-4c87-fa53-a902adf3b60f"
      },
      "execution_count": null,
      "outputs": [
        {
          "output_type": "execute_result",
          "data": {
            "text/plain": [
              "dict_keys(['data', 'filenames', 'target_names', 'target', 'DESCR'])"
            ]
          },
          "metadata": {},
          "execution_count": 4
        }
      ]
    },
    {
      "cell_type": "code",
      "source": [
        "print(newsgroups.DESCR)"
      ],
      "metadata": {
        "colab": {
          "base_uri": "https://localhost:8080/"
        },
        "id": "Y1-k4rUfYyzC",
        "outputId": "92769f61-7e14-4061-aa0f-b7f32bd15a68"
      },
      "execution_count": null,
      "outputs": [
        {
          "output_type": "stream",
          "name": "stdout",
          "text": [
            ".. _20newsgroups_dataset:\n",
            "\n",
            "The 20 newsgroups text dataset\n",
            "------------------------------\n",
            "\n",
            "The 20 newsgroups dataset comprises around 18000 newsgroups posts on\n",
            "20 topics split in two subsets: one for training (or development)\n",
            "and the other one for testing (or for performance evaluation). The split\n",
            "between the train and test set is based upon a messages posted before\n",
            "and after a specific date.\n",
            "\n",
            "This module contains two loaders. The first one,\n",
            ":func:`sklearn.datasets.fetch_20newsgroups`,\n",
            "returns a list of the raw texts that can be fed to text feature\n",
            "extractors such as :class:`~sklearn.feature_extraction.text.CountVectorizer`\n",
            "with custom parameters so as to extract feature vectors.\n",
            "The second one, :func:`sklearn.datasets.fetch_20newsgroups_vectorized`,\n",
            "returns ready-to-use features, i.e., it is not necessary to use a feature\n",
            "extractor.\n",
            "\n",
            "**Data Set Characteristics:**\n",
            "\n",
            "=================   ==========\n",
            "Classes                     20\n",
            "Samples total            18846\n",
            "Dimensionality               1\n",
            "Features                  text\n",
            "=================   ==========\n",
            "\n",
            ".. dropdown:: Usage\n",
            "\n",
            "  The :func:`sklearn.datasets.fetch_20newsgroups` function is a data\n",
            "  fetching / caching functions that downloads the data archive from\n",
            "  the original `20 newsgroups website <http://people.csail.mit.edu/jrennie/20Newsgroups/>`__,\n",
            "  extracts the archive contents\n",
            "  in the ``~/scikit_learn_data/20news_home`` folder and calls the\n",
            "  :func:`sklearn.datasets.load_files` on either the training or\n",
            "  testing set folder, or both of them::\n",
            "\n",
            "    >>> from sklearn.datasets import fetch_20newsgroups\n",
            "    >>> newsgroups_train = fetch_20newsgroups(subset='train')\n",
            "\n",
            "    >>> from pprint import pprint\n",
            "    >>> pprint(list(newsgroups_train.target_names))\n",
            "    ['alt.atheism',\n",
            "     'comp.graphics',\n",
            "     'comp.os.ms-windows.misc',\n",
            "     'comp.sys.ibm.pc.hardware',\n",
            "     'comp.sys.mac.hardware',\n",
            "     'comp.windows.x',\n",
            "     'misc.forsale',\n",
            "     'rec.autos',\n",
            "     'rec.motorcycles',\n",
            "     'rec.sport.baseball',\n",
            "     'rec.sport.hockey',\n",
            "     'sci.crypt',\n",
            "     'sci.electronics',\n",
            "     'sci.med',\n",
            "     'sci.space',\n",
            "     'soc.religion.christian',\n",
            "     'talk.politics.guns',\n",
            "     'talk.politics.mideast',\n",
            "     'talk.politics.misc',\n",
            "     'talk.religion.misc']\n",
            "\n",
            "  The real data lies in the ``filenames`` and ``target`` attributes. The target\n",
            "  attribute is the integer index of the category::\n",
            "\n",
            "    >>> newsgroups_train.filenames.shape\n",
            "    (11314,)\n",
            "    >>> newsgroups_train.target.shape\n",
            "    (11314,)\n",
            "    >>> newsgroups_train.target[:10]\n",
            "    array([ 7,  4,  4,  1, 14, 16, 13,  3,  2,  4])\n",
            "\n",
            "  It is possible to load only a sub-selection of the categories by passing the\n",
            "  list of the categories to load to the\n",
            "  :func:`sklearn.datasets.fetch_20newsgroups` function::\n",
            "\n",
            "    >>> cats = ['alt.atheism', 'sci.space']\n",
            "    >>> newsgroups_train = fetch_20newsgroups(subset='train', categories=cats)\n",
            "\n",
            "    >>> list(newsgroups_train.target_names)\n",
            "    ['alt.atheism', 'sci.space']\n",
            "    >>> newsgroups_train.filenames.shape\n",
            "    (1073,)\n",
            "    >>> newsgroups_train.target.shape\n",
            "    (1073,)\n",
            "    >>> newsgroups_train.target[:10]\n",
            "    array([0, 1, 1, 1, 0, 1, 1, 0, 0, 0])\n",
            "\n",
            ".. dropdown:: Converting text to vectors\n",
            "\n",
            "  In order to feed predictive or clustering models with the text data,\n",
            "  one first need to turn the text into vectors of numerical values suitable\n",
            "  for statistical analysis. This can be achieved with the utilities of the\n",
            "  ``sklearn.feature_extraction.text`` as demonstrated in the following\n",
            "  example that extract `TF-IDF <https://en.wikipedia.org/wiki/Tf-idf>`__ vectors\n",
            "  of unigram tokens from a subset of 20news::\n",
            "\n",
            "    >>> from sklearn.feature_extraction.text import TfidfVectorizer\n",
            "    >>> categories = ['alt.atheism', 'talk.religion.misc',\n",
            "    ...               'comp.graphics', 'sci.space']\n",
            "    >>> newsgroups_train = fetch_20newsgroups(subset='train',\n",
            "    ...                                       categories=categories)\n",
            "    >>> vectorizer = TfidfVectorizer()\n",
            "    >>> vectors = vectorizer.fit_transform(newsgroups_train.data)\n",
            "    >>> vectors.shape\n",
            "    (2034, 34118)\n",
            "\n",
            "  The extracted TF-IDF vectors are very sparse, with an average of 159 non-zero\n",
            "  components by sample in a more than 30000-dimensional space\n",
            "  (less than .5% non-zero features)::\n",
            "\n",
            "    >>> vectors.nnz / float(vectors.shape[0])\n",
            "    159.01327...\n",
            "\n",
            "  :func:`sklearn.datasets.fetch_20newsgroups_vectorized` is a function which\n",
            "  returns ready-to-use token counts features instead of file names.\n",
            "\n",
            ".. dropdown:: Filtering text for more realistic training\n",
            "\n",
            "  It is easy for a classifier to overfit on particular things that appear in the\n",
            "  20 Newsgroups data, such as newsgroup headers. Many classifiers achieve very\n",
            "  high F-scores, but their results would not generalize to other documents that\n",
            "  aren't from this window of time.\n",
            "\n",
            "  For example, let's look at the results of a multinomial Naive Bayes classifier,\n",
            "  which is fast to train and achieves a decent F-score::\n",
            "\n",
            "    >>> from sklearn.naive_bayes import MultinomialNB\n",
            "    >>> from sklearn import metrics\n",
            "    >>> newsgroups_test = fetch_20newsgroups(subset='test',\n",
            "    ...                                      categories=categories)\n",
            "    >>> vectors_test = vectorizer.transform(newsgroups_test.data)\n",
            "    >>> clf = MultinomialNB(alpha=.01)\n",
            "    >>> clf.fit(vectors, newsgroups_train.target)\n",
            "    MultinomialNB(alpha=0.01, class_prior=None, fit_prior=True)\n",
            "\n",
            "    >>> pred = clf.predict(vectors_test)\n",
            "    >>> metrics.f1_score(newsgroups_test.target, pred, average='macro')\n",
            "    0.88213...\n",
            "\n",
            "  (The example :ref:`sphx_glr_auto_examples_text_plot_document_classification_20newsgroups.py` shuffles\n",
            "  the training and test data, instead of segmenting by time, and in that case\n",
            "  multinomial Naive Bayes gets a much higher F-score of 0.88. Are you suspicious\n",
            "  yet of what's going on inside this classifier?)\n",
            "\n",
            "  Let's take a look at what the most informative features are:\n",
            "\n",
            "    >>> import numpy as np\n",
            "    >>> def show_top10(classifier, vectorizer, categories):\n",
            "    ...     feature_names = vectorizer.get_feature_names_out()\n",
            "    ...     for i, category in enumerate(categories):\n",
            "    ...         top10 = np.argsort(classifier.coef_[i])[-10:]\n",
            "    ...         print(\"%s: %s\" % (category, \" \".join(feature_names[top10])))\n",
            "    ...\n",
            "    >>> show_top10(clf, vectorizer, newsgroups_train.target_names)\n",
            "    alt.atheism: edu it and in you that is of to the\n",
            "    comp.graphics: edu in graphics it is for and of to the\n",
            "    sci.space: edu it that is in and space to of the\n",
            "    talk.religion.misc: not it you in is that and to of the\n",
            "\n",
            "\n",
            "  You can now see many things that these features have overfit to:\n",
            "\n",
            "  - Almost every group is distinguished by whether headers such as\n",
            "    ``NNTP-Posting-Host:`` and ``Distribution:`` appear more or less often.\n",
            "  - Another significant feature involves whether the sender is affiliated with\n",
            "    a university, as indicated either by their headers or their signature.\n",
            "  - The word \"article\" is a significant feature, based on how often people quote\n",
            "    previous posts like this: \"In article [article ID], [name] <[e-mail address]>\n",
            "    wrote:\"\n",
            "  - Other features match the names and e-mail addresses of particular people who\n",
            "    were posting at the time.\n",
            "\n",
            "  With such an abundance of clues that distinguish newsgroups, the classifiers\n",
            "  barely have to identify topics from text at all, and they all perform at the\n",
            "  same high level.\n",
            "\n",
            "  For this reason, the functions that load 20 Newsgroups data provide a\n",
            "  parameter called **remove**, telling it what kinds of information to strip out\n",
            "  of each file. **remove** should be a tuple containing any subset of\n",
            "  ``('headers', 'footers', 'quotes')``, telling it to remove headers, signature\n",
            "  blocks, and quotation blocks respectively.\n",
            "\n",
            "    >>> newsgroups_test = fetch_20newsgroups(subset='test',\n",
            "    ...                                      remove=('headers', 'footers', 'quotes'),\n",
            "    ...                                      categories=categories)\n",
            "    >>> vectors_test = vectorizer.transform(newsgroups_test.data)\n",
            "    >>> pred = clf.predict(vectors_test)\n",
            "    >>> metrics.f1_score(pred, newsgroups_test.target, average='macro')\n",
            "    0.77310...\n",
            "\n",
            "  This classifier lost over a lot of its F-score, just because we removed\n",
            "  metadata that has little to do with topic classification.\n",
            "  It loses even more if we also strip this metadata from the training data:\n",
            "\n",
            "    >>> newsgroups_train = fetch_20newsgroups(subset='train',\n",
            "    ...                                       remove=('headers', 'footers', 'quotes'),\n",
            "    ...                                       categories=categories)\n",
            "    >>> vectors = vectorizer.fit_transform(newsgroups_train.data)\n",
            "    >>> clf = MultinomialNB(alpha=.01)\n",
            "    >>> clf.fit(vectors, newsgroups_train.target)\n",
            "    MultinomialNB(alpha=0.01, class_prior=None, fit_prior=True)\n",
            "\n",
            "    >>> vectors_test = vectorizer.transform(newsgroups_test.data)\n",
            "    >>> pred = clf.predict(vectors_test)\n",
            "    >>> metrics.f1_score(newsgroups_test.target, pred, average='macro')\n",
            "    0.76995...\n",
            "\n",
            "  Some other classifiers cope better with this harder version of the task. Try the\n",
            "  :ref:`sphx_glr_auto_examples_model_selection_plot_grid_search_text_feature_extraction.py`\n",
            "  example with and without the `remove` option to compare the results.\n",
            "\n",
            ".. topic:: Data Considerations\n",
            "\n",
            "  The Cleveland Indians is a major league baseball team based in Cleveland,\n",
            "  Ohio, USA. In December 2020, it was reported that \"After several months of\n",
            "  discussion sparked by the death of George Floyd and a national reckoning over\n",
            "  race and colonialism, the Cleveland Indians have decided to change their\n",
            "  name.\" Team owner Paul Dolan \"did make it clear that the team will not make\n",
            "  its informal nickname -- the Tribe -- its new team name.\" \"It's not going to\n",
            "  be a half-step away from the Indians,\" Dolan said.\"We will not have a Native\n",
            "  American-themed name.\"\n",
            "\n",
            "  https://www.mlb.com/news/cleveland-indians-team-name-change\n",
            "\n",
            ".. topic:: Recommendation\n",
            "\n",
            "  - When evaluating text classifiers on the 20 Newsgroups data, you\n",
            "    should strip newsgroup-related metadata. In scikit-learn, you can do this\n",
            "    by setting ``remove=('headers', 'footers', 'quotes')``. The F-score will be\n",
            "    lower because it is more realistic.\n",
            "  - This text dataset contains data which may be inappropriate for certain NLP\n",
            "    applications. An example is listed in the \"Data Considerations\" section\n",
            "    above. The challenge with using current text datasets in NLP for tasks such\n",
            "    as sentence completion, clustering, and other applications is that text\n",
            "    that is culturally biased and inflammatory will propagate biases. This\n",
            "    should be taken into consideration when using the dataset, reviewing the\n",
            "    output, and the bias should be documented.\n",
            "\n",
            ".. rubric:: Examples\n",
            "\n",
            "* :ref:`sphx_glr_auto_examples_model_selection_plot_grid_search_text_feature_extraction.py`\n",
            "* :ref:`sphx_glr_auto_examples_text_plot_document_classification_20newsgroups.py`\n",
            "* :ref:`sphx_glr_auto_examples_text_plot_hashing_vs_dict_vectorizer.py`\n",
            "* :ref:`sphx_glr_auto_examples_text_plot_document_clustering.py`\n",
            "\n"
          ]
        }
      ]
    },
    {
      "cell_type": "code",
      "source": [
        "type(newsgroups['data'])"
      ],
      "metadata": {
        "colab": {
          "base_uri": "https://localhost:8080/"
        },
        "id": "SvTmNOAdX24p",
        "outputId": "9cd5047e-9dc6-4ded-92c1-6e8f16db4f91"
      },
      "execution_count": null,
      "outputs": [
        {
          "output_type": "execute_result",
          "data": {
            "text/plain": [
              "list"
            ]
          },
          "metadata": {},
          "execution_count": 6
        }
      ]
    },
    {
      "cell_type": "code",
      "source": [
        "newsgroups['data'][0:3]"
      ],
      "metadata": {
        "colab": {
          "base_uri": "https://localhost:8080/"
        },
        "id": "nMU4f_WKYOuJ",
        "outputId": "b22da482-2c55-46c9-8945-41259ecc6a6f"
      },
      "execution_count": null,
      "outputs": [
        {
          "output_type": "execute_result",
          "data": {
            "text/plain": [
              "['\\n\\n\\n\\n\\nCute anecdote, but hardly indicative of the population.  From the responses\\nI\\'ve received to that post (all from men, by the way) I get the impression\\nthat unless a person is willing to drop down and masturbate whenever the\\nneed or desire strikes, then that person is very hung up on sex.\\n\\nWith tv programs about \"boobs\" (Seinfeld) and \"masturbation (again Seinfeld)\\nand with condoms being handed out in high schools and with the teenage\\npregnancy rate and the high abortion rate here in the States, I would\\nnot assume that we American\\'s are frightened of sex.  Rather we are a bit\\nstupid about it.  Healthy sexuality does not require flamboyance or\\npromiscuity.  It requires responsibility.\\n',\n",
              " '\\n\\nYou should have heard Prof. McNally , from my days as an astronomy\\nundergraduate, denouncing photon pollution. It was easy to imagine him\\ntaking practical steps to modify the sodium lamps on the street\\noutside Mill Hill observatory with a 12-gauge shotgun :-)\\n\\nHowever, seriously, it is possible to limit the effects of\\nstreetlights, by adding a reflector, so that the light only\\nilluminates the ground, which is after all where you need it. As a\\nbonus, the power consumption required for a given illumination level\\nis reduced. Strangely enough, astronomers often seek to lobby elected\\nlocal authorities to use such lighting systems, with considerable\\nsuccess in the desert areas around the major US observatories. At\\nleast, thats what McNally told us, all those years ago.\\n( British local authorities couldn`t care less, as far as I can see )\\n\\nI suppose that the \"right\" to dark skies is no more than an aspiration,\\nbut it is a worthwhile one. Illuminated orbital billboards seem especially\\nyukky, and are presumably in the area of international law, if any, although\\nI do find the idea of a right to bear anti-satellite weapons intriguing.',\n",
              " \"\\n  Did the Russian spacecraft(s) on the ill-fated Phobos mission a few\\nyears ago send back any images of the Martian moon?  If so, does anyone know if\\nthey're housed at an ftp site?\\n  Thanks.\\n \\n\"]"
            ]
          },
          "metadata": {},
          "execution_count": 7
        }
      ]
    },
    {
      "cell_type": "code",
      "source": [
        "newsgroups.filenames"
      ],
      "metadata": {
        "colab": {
          "base_uri": "https://localhost:8080/"
        },
        "id": "xOuGwwDcYNDq",
        "outputId": "4e7e3391-4f24-49f9-8b74-be27fedfb0b0"
      },
      "execution_count": null,
      "outputs": [
        {
          "output_type": "execute_result",
          "data": {
            "text/plain": [
              "array(['/root/scikit_learn_data/20news_home/20news-bydate-test/sci.med/59604',\n",
              "       '/root/scikit_learn_data/20news_home/20news-bydate-test/sci.space/61351',\n",
              "       '/root/scikit_learn_data/20news_home/20news-bydate-train/sci.space/61188',\n",
              "       ...,\n",
              "       '/root/scikit_learn_data/20news_home/20news-bydate-train/sci.space/60954',\n",
              "       '/root/scikit_learn_data/20news_home/20news-bydate-test/sci.space/61560',\n",
              "       '/root/scikit_learn_data/20news_home/20news-bydate-train/sci.med/58911'],\n",
              "      dtype='<U86')"
            ]
          },
          "metadata": {},
          "execution_count": 8
        }
      ]
    },
    {
      "cell_type": "code",
      "source": [
        "newsgroups.target_names"
      ],
      "metadata": {
        "colab": {
          "base_uri": "https://localhost:8080/"
        },
        "id": "TOOFgqiRYgIg",
        "outputId": "2c6ac21d-6139-4807-cce4-2880118127fe"
      },
      "execution_count": null,
      "outputs": [
        {
          "output_type": "execute_result",
          "data": {
            "text/plain": [
              "['sci.med', 'sci.space']"
            ]
          },
          "metadata": {},
          "execution_count": 9
        }
      ]
    },
    {
      "cell_type": "code",
      "source": [
        "# 0: Medicine\n",
        "# 1: Space\n",
        "newsgroups.target"
      ],
      "metadata": {
        "colab": {
          "base_uri": "https://localhost:8080/"
        },
        "id": "_wf1GyiuYgKx",
        "outputId": "b2e10845-6cfe-41a5-a738-a61675c259ae"
      },
      "execution_count": null,
      "outputs": [
        {
          "output_type": "execute_result",
          "data": {
            "text/plain": [
              "array([0, 1, 1, ..., 1, 1, 0])"
            ]
          },
          "metadata": {},
          "execution_count": 10
        }
      ]
    },
    {
      "cell_type": "markdown",
      "source": [
        "# TF-IDF\n",
        "\n",
        "TF-IDF, or Term Frequency-Inverse Document Frequency, is used to evaluate the importance of a word in a document relative to a collection of documents (corpus).\n",
        "\n",
        "* Term frequency (TF): measures how frequently a term appears in a document, normalized by the document's length.\n",
        "* The inverse document frequency (IDF): assesses the rarity of the term across the entire corpus, reducing the weight of common terms.\n",
        "\n",
        "Mathematically, the formula is given by:\n",
        "\n",
        "$$ \\text{TF-IDF}(t, d) = \\text{TF}(t, d) \\times \\text{IDF}(t)\n",
        "$$\n",
        "\n",
        "Where\n",
        "\n",
        "$$ \\text{TF}(t, d) = \\frac{\\text{Number of times term } t \\text{ appears in document } d}{\\text{Total number of terms in document } d}\n",
        "$$\n",
        "\n",
        "and\n",
        "\n",
        "$$ \\text{IDF}(t) = \\log\\left(\\frac{\\text{Total number of documents}}{\\text{Number of documents containing term } t}\\right).\n",
        "$$"
      ],
      "metadata": {
        "id": "Tkaf7vnAZatt"
      }
    },
    {
      "cell_type": "markdown",
      "source": [
        "### Example TF-IDF"
      ],
      "metadata": {
        "id": "DALvNmMldQQn"
      }
    },
    {
      "cell_type": "code",
      "source": [
        "# Example tf-idf\n",
        "sample_data = [\n",
        "    \"This is the first document. Talks about a patient description\", # Doc 1\n",
        "\n",
        "    \"This document is the second document. Is more about Space Science\", # Doc 2\n",
        "\n",
        "    \"And this is the third one. is about medicine\",  # Doc 3\n",
        "\n",
        "    \"Is this the first document with some extra random words?\",  # Doc 4\n",
        "]\n",
        "\n",
        "# Create the TF-IDF vectorizer\n",
        "example_vectorizer = TfidfVectorizer(stop_words='english')\n",
        "\n",
        "# Fit and transform the dataset\n",
        "example_tfidf_matrix = example_vectorizer.fit_transform(sample_data)\n",
        "\n",
        "example_tfidf_matrix"
      ],
      "metadata": {
        "colab": {
          "base_uri": "https://localhost:8080/"
        },
        "id": "iJzg1v8VaIIw",
        "outputId": "24b38507-8703-42bb-a590-3de6a3fb07d0"
      },
      "execution_count": null,
      "outputs": [
        {
          "output_type": "execute_result",
          "data": {
            "text/plain": [
              "<4x11 sparse matrix of type '<class 'numpy.float64'>'\n",
              "\twith 13 stored elements in Compressed Sparse Row format>"
            ]
          },
          "metadata": {},
          "execution_count": 11
        }
      ]
    },
    {
      "cell_type": "code",
      "source": [
        "# Let's print the resuliting tf-idf\n",
        "print(example_tfidf_matrix)\n",
        "\n",
        "# Why we can't see all the elements?"
      ],
      "metadata": {
        "colab": {
          "base_uri": "https://localhost:8080/"
        },
        "id": "NUwAZBEHdKTm",
        "outputId": "ffeb0745-5332-4cb4-d304-d8bf1a999cad"
      },
      "execution_count": null,
      "outputs": [
        {
          "output_type": "stream",
          "name": "stdout",
          "text": [
            "  (0, 1)\t0.3457831381910465\n",
            "  (0, 9)\t0.5417361046803605\n",
            "  (0, 4)\t0.5417361046803605\n",
            "  (0, 0)\t0.5417361046803605\n",
            "  (1, 1)\t0.5932972690785747\n",
            "  (1, 7)\t0.4647574100194299\n",
            "  (1, 8)\t0.4647574100194299\n",
            "  (1, 6)\t0.4647574100194299\n",
            "  (2, 3)\t1.0\n",
            "  (3, 1)\t0.3457831381910465\n",
            "  (3, 2)\t0.5417361046803605\n",
            "  (3, 5)\t0.5417361046803605\n",
            "  (3, 10)\t0.5417361046803605\n"
          ]
        }
      ]
    },
    {
      "cell_type": "code",
      "source": [],
      "metadata": {
        "colab": {
          "base_uri": "https://localhost:8080/"
        },
        "id": "mXviCi-EWex3",
        "outputId": "7bcd5bb7-dfb3-4197-c2e5-8fd0e63a6933"
      },
      "execution_count": null,
      "outputs": [
        {
          "output_type": "execute_result",
          "data": {
            "text/plain": [
              "<4x11 sparse matrix of type '<class 'numpy.float64'>'\n",
              "\twith 13 stored elements in Compressed Sparse Row format>"
            ]
          },
          "metadata": {},
          "execution_count": 15
        }
      ]
    },
    {
      "cell_type": "code",
      "source": [
        "# Let's see the feature names\n",
        "example_vectorizer.get_feature_names_out()"
      ],
      "metadata": {
        "colab": {
          "base_uri": "https://localhost:8080/"
        },
        "id": "B1NbHEtJdEVl",
        "outputId": "d437cf69-6202-4112-f647-7832e35ea2f9"
      },
      "execution_count": null,
      "outputs": [
        {
          "output_type": "execute_result",
          "data": {
            "text/plain": [
              "array(['description', 'document', 'extra', 'medicine', 'patient',\n",
              "       'random', 'science', 'second', 'space', 'talks', 'words'],\n",
              "      dtype=object)"
            ]
          },
          "metadata": {},
          "execution_count": 62
        }
      ]
    },
    {
      "cell_type": "code",
      "source": [
        "# Let's check the matrix\n",
        "example_tfidf_matrix.toarray()"
      ],
      "metadata": {
        "colab": {
          "base_uri": "https://localhost:8080/"
        },
        "id": "4QxLU3m0cdJw",
        "outputId": "1b56f2a9-1587-45d1-b183-34bf06b690fa"
      },
      "execution_count": null,
      "outputs": [
        {
          "output_type": "execute_result",
          "data": {
            "text/plain": [
              "array([[0.5417361 , 0.34578314, 0.        , 0.        , 0.5417361 ,\n",
              "        0.        , 0.        , 0.        , 0.        , 0.5417361 ,\n",
              "        0.        ],\n",
              "       [0.        , 0.59329727, 0.        , 0.        , 0.        ,\n",
              "        0.        , 0.46475741, 0.46475741, 0.46475741, 0.        ,\n",
              "        0.        ],\n",
              "       [0.        , 0.        , 0.        , 1.        , 0.        ,\n",
              "        0.        , 0.        , 0.        , 0.        , 0.        ,\n",
              "        0.        ],\n",
              "       [0.        , 0.34578314, 0.5417361 , 0.        , 0.        ,\n",
              "        0.5417361 , 0.        , 0.        , 0.        , 0.        ,\n",
              "        0.5417361 ]])"
            ]
          },
          "metadata": {},
          "execution_count": 58
        }
      ]
    },
    {
      "cell_type": "code",
      "source": [
        "# If we inverse transform\n",
        "example_vectorizer.inverse_transform(example_tfidf_matrix)"
      ],
      "metadata": {
        "colab": {
          "base_uri": "https://localhost:8080/"
        },
        "id": "HHzXKr9Wa2a_",
        "outputId": "4c31e76d-b870-4a10-ffdb-7364c61f5f70"
      },
      "execution_count": null,
      "outputs": [
        {
          "output_type": "execute_result",
          "data": {
            "text/plain": [
              "[array(['description', 'patient', 'talks', 'document'], dtype='<U11'),\n",
              " array(['science', 'space', 'second', 'document'], dtype='<U11'),\n",
              " array(['medicine'], dtype='<U11'),\n",
              " array(['words', 'random', 'extra', 'document'], dtype='<U11')]"
            ]
          },
          "metadata": {},
          "execution_count": 43
        }
      ]
    },
    {
      "cell_type": "markdown",
      "source": [
        "## Let's apply TF-IDF to our dataset"
      ],
      "metadata": {
        "id": "MPuYSHmZdYrq"
      }
    },
    {
      "cell_type": "code",
      "source": [
        "newsgroups.target_names"
      ],
      "metadata": {
        "id": "IVeM1m29XsIW",
        "outputId": "527458c2-dff1-4e6c-e48b-98a02684ef67",
        "colab": {
          "base_uri": "https://localhost:8080/"
        }
      },
      "execution_count": null,
      "outputs": [
        {
          "output_type": "execute_result",
          "data": {
            "text/plain": [
              "['sci.med', 'sci.space']"
            ]
          },
          "metadata": {},
          "execution_count": 17
        }
      ]
    },
    {
      "cell_type": "code",
      "source": [
        "# Create the TF-IDF vectorizer\n",
        "vectorizer = TfidfVectorizer(stop_words='english')\n",
        "\n",
        "# Fit and transform the dataset\n",
        "tfidf_matrix = vectorizer.fit_transform(newsgroups.data)"
      ],
      "metadata": {
        "id": "wM7rb-gpXjCg"
      },
      "execution_count": null,
      "outputs": []
    },
    {
      "cell_type": "code",
      "source": [
        "tfidf_matrix\n",
        "# Is a 1977 x 27257 matrix :o!"
      ],
      "metadata": {
        "colab": {
          "base_uri": "https://localhost:8080/"
        },
        "id": "d5Ml6LPAZjE0",
        "outputId": "d172e23e-82fd-480b-b160-87fb74570566"
      },
      "execution_count": null,
      "outputs": [
        {
          "output_type": "execute_result",
          "data": {
            "text/plain": [
              "<1977x27257 sparse matrix of type '<class 'numpy.float64'>'\n",
              "\twith 142338 stored elements in Compressed Sparse Row format>"
            ]
          },
          "metadata": {},
          "execution_count": 34
        }
      ]
    },
    {
      "cell_type": "markdown",
      "source": [
        "### Let's use this to train a ML model"
      ],
      "metadata": {
        "id": "brA6IYH0fMmN"
      }
    },
    {
      "cell_type": "code",
      "source": [
        "# Split the data into training and test sets\n",
        "X_train, X_test, y_train, y_test = train_test_split(tfidf_matrix, newsgroups.target, test_size=0.2, random_state=42)"
      ],
      "metadata": {
        "id": "WGZbuf1yZf5K"
      },
      "execution_count": null,
      "outputs": []
    },
    {
      "cell_type": "code",
      "source": [
        "# Train a logistic regression classifier\n",
        "classifier = LogisticRegression()\n",
        "classifier.fit(X_train, y_train)"
      ],
      "metadata": {
        "colab": {
          "base_uri": "https://localhost:8080/",
          "height": 75
        },
        "id": "ViQ-Q670fQ0o",
        "outputId": "2555edf6-c045-4e3e-f29a-0e4798ee7429"
      },
      "execution_count": null,
      "outputs": [
        {
          "output_type": "execute_result",
          "data": {
            "text/plain": [
              "LogisticRegression()"
            ],
            "text/html": [
              "<style>#sk-container-id-1 {color: black;}#sk-container-id-1 pre{padding: 0;}#sk-container-id-1 div.sk-toggleable {background-color: white;}#sk-container-id-1 label.sk-toggleable__label {cursor: pointer;display: block;width: 100%;margin-bottom: 0;padding: 0.3em;box-sizing: border-box;text-align: center;}#sk-container-id-1 label.sk-toggleable__label-arrow:before {content: \"▸\";float: left;margin-right: 0.25em;color: #696969;}#sk-container-id-1 label.sk-toggleable__label-arrow:hover:before {color: black;}#sk-container-id-1 div.sk-estimator:hover label.sk-toggleable__label-arrow:before {color: black;}#sk-container-id-1 div.sk-toggleable__content {max-height: 0;max-width: 0;overflow: hidden;text-align: left;background-color: #f0f8ff;}#sk-container-id-1 div.sk-toggleable__content pre {margin: 0.2em;color: black;border-radius: 0.25em;background-color: #f0f8ff;}#sk-container-id-1 input.sk-toggleable__control:checked~div.sk-toggleable__content {max-height: 200px;max-width: 100%;overflow: auto;}#sk-container-id-1 input.sk-toggleable__control:checked~label.sk-toggleable__label-arrow:before {content: \"▾\";}#sk-container-id-1 div.sk-estimator input.sk-toggleable__control:checked~label.sk-toggleable__label {background-color: #d4ebff;}#sk-container-id-1 div.sk-label input.sk-toggleable__control:checked~label.sk-toggleable__label {background-color: #d4ebff;}#sk-container-id-1 input.sk-hidden--visually {border: 0;clip: rect(1px 1px 1px 1px);clip: rect(1px, 1px, 1px, 1px);height: 1px;margin: -1px;overflow: hidden;padding: 0;position: absolute;width: 1px;}#sk-container-id-1 div.sk-estimator {font-family: monospace;background-color: #f0f8ff;border: 1px dotted black;border-radius: 0.25em;box-sizing: border-box;margin-bottom: 0.5em;}#sk-container-id-1 div.sk-estimator:hover {background-color: #d4ebff;}#sk-container-id-1 div.sk-parallel-item::after {content: \"\";width: 100%;border-bottom: 1px solid gray;flex-grow: 1;}#sk-container-id-1 div.sk-label:hover label.sk-toggleable__label {background-color: #d4ebff;}#sk-container-id-1 div.sk-serial::before {content: \"\";position: absolute;border-left: 1px solid gray;box-sizing: border-box;top: 0;bottom: 0;left: 50%;z-index: 0;}#sk-container-id-1 div.sk-serial {display: flex;flex-direction: column;align-items: center;background-color: white;padding-right: 0.2em;padding-left: 0.2em;position: relative;}#sk-container-id-1 div.sk-item {position: relative;z-index: 1;}#sk-container-id-1 div.sk-parallel {display: flex;align-items: stretch;justify-content: center;background-color: white;position: relative;}#sk-container-id-1 div.sk-item::before, #sk-container-id-1 div.sk-parallel-item::before {content: \"\";position: absolute;border-left: 1px solid gray;box-sizing: border-box;top: 0;bottom: 0;left: 50%;z-index: -1;}#sk-container-id-1 div.sk-parallel-item {display: flex;flex-direction: column;z-index: 1;position: relative;background-color: white;}#sk-container-id-1 div.sk-parallel-item:first-child::after {align-self: flex-end;width: 50%;}#sk-container-id-1 div.sk-parallel-item:last-child::after {align-self: flex-start;width: 50%;}#sk-container-id-1 div.sk-parallel-item:only-child::after {width: 0;}#sk-container-id-1 div.sk-dashed-wrapped {border: 1px dashed gray;margin: 0 0.4em 0.5em 0.4em;box-sizing: border-box;padding-bottom: 0.4em;background-color: white;}#sk-container-id-1 div.sk-label label {font-family: monospace;font-weight: bold;display: inline-block;line-height: 1.2em;}#sk-container-id-1 div.sk-label-container {text-align: center;}#sk-container-id-1 div.sk-container {/* jupyter's `normalize.less` sets `[hidden] { display: none; }` but bootstrap.min.css set `[hidden] { display: none !important; }` so we also need the `!important` here to be able to override the default hidden behavior on the sphinx rendered scikit-learn.org. See: https://github.com/scikit-learn/scikit-learn/issues/21755 */display: inline-block !important;position: relative;}#sk-container-id-1 div.sk-text-repr-fallback {display: none;}</style><div id=\"sk-container-id-1\" class=\"sk-top-container\"><div class=\"sk-text-repr-fallback\"><pre>LogisticRegression()</pre><b>In a Jupyter environment, please rerun this cell to show the HTML representation or trust the notebook. <br />On GitHub, the HTML representation is unable to render, please try loading this page with nbviewer.org.</b></div><div class=\"sk-container\" hidden><div class=\"sk-item\"><div class=\"sk-estimator sk-toggleable\"><input class=\"sk-toggleable__control sk-hidden--visually\" id=\"sk-estimator-id-1\" type=\"checkbox\" checked><label for=\"sk-estimator-id-1\" class=\"sk-toggleable__label sk-toggleable__label-arrow\">LogisticRegression</label><div class=\"sk-toggleable__content\"><pre>LogisticRegression()</pre></div></div></div></div></div>"
            ]
          },
          "metadata": {},
          "execution_count": 66
        }
      ]
    },
    {
      "cell_type": "code",
      "source": [
        "# Make predictions\n",
        "y_pred = classifier.predict(X_test)\n",
        "\n",
        "# Evaluate the classifier\n",
        "accuracy = accuracy_score(y_test, y_pred)\n",
        "report = classification_report(y_test, y_pred, target_names=newsgroups.target_names)\n",
        "\n",
        "print(f'Accuracy: {accuracy}')\n",
        "print('Classification Report:')\n",
        "print(report)"
      ],
      "metadata": {
        "colab": {
          "base_uri": "https://localhost:8080/"
        },
        "id": "v1I6TwSSfS55",
        "outputId": "7dd79a7d-4757-4685-e76e-de9b0e176149"
      },
      "execution_count": null,
      "outputs": [
        {
          "output_type": "stream",
          "name": "stdout",
          "text": [
            "Accuracy: 0.9393939393939394\n",
            "Classification Report:\n",
            "              precision    recall  f1-score   support\n",
            "\n",
            "     sci.med       0.95      0.93      0.94       193\n",
            "   sci.space       0.93      0.95      0.94       203\n",
            "\n",
            "    accuracy                           0.94       396\n",
            "   macro avg       0.94      0.94      0.94       396\n",
            "weighted avg       0.94      0.94      0.94       396\n",
            "\n"
          ]
        }
      ]
    },
    {
      "cell_type": "code",
      "source": [
        "import matplotlib.pyplot as plt\n",
        "from sklearn.metrics import roc_curve, auc\n",
        "\n",
        "# Make predictions (probabilities) for ROC-AUC\n",
        "y_prob = classifier.predict_proba(X_test)[:, 1]\n",
        "\n",
        "# Compute ROC curve and ROC area\n",
        "fpr, tpr, _ = roc_curve(y_test, y_prob)\n",
        "roc_auc = auc(fpr, tpr)\n",
        "\n",
        "# Plot ROC curve\n",
        "plt.figure()\n",
        "plt.plot(fpr, tpr, color='darkorange', lw=2, label=f'ROC curve (area = {roc_auc:.2f})')\n",
        "plt.plot([0, 1], [0, 1], color='navy', lw=2, linestyle='--')\n",
        "plt.xlim([0.0, 1.0])\n",
        "plt.ylim([0.0, 1.05])\n",
        "plt.xlabel('False Positive Rate')\n",
        "plt.ylabel('True Positive Rate')\n",
        "plt.title('Receiver Operating Characteristic')\n",
        "plt.legend(loc='lower right')\n",
        "plt.show()"
      ],
      "metadata": {
        "colab": {
          "base_uri": "https://localhost:8080/",
          "height": 472
        },
        "id": "wIxfkmDAfUHc",
        "outputId": "51943bfa-d3fe-4f86-e9f1-d8c472a9bd58"
      },
      "execution_count": null,
      "outputs": [
        {
          "output_type": "display_data",
          "data": {
            "text/plain": [
              "<Figure size 640x480 with 1 Axes>"
            ],
            "image/png": "[encoded data removed]"
          },
          "metadata": {}
        }
      ]
    },
    {
      "cell_type": "code",
      "source": [],
      "metadata": {
        "id": "kvmd0jpJfv7h"
      },
      "execution_count": null,
      "outputs": []
    }
  ]
}