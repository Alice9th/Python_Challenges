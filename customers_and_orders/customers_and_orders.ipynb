{
  "cells": [
    {
      "cell_type": "markdown",
      "metadata": {
        "id": "piiX_CRNFYUi"
      },
      "source": [
        "# Technical Challenge ! Custiomers and Orders - The lifeblood of any business!\n",
        "\n",
        "This notebook depends on two data files: customers.scv and orders.csv. These files are hosted in the cloud (or Github), so for simplicity, we are providing you with the code to download and save the two files in a folder called 'sample_data' which lives within this notebook session (not on your local computer nor Google Drive).\n",
        "\n",
        "![sample_data folder in notebook session](https://raw.githubusercontent.com/anyoneai/notebooks/main/customers_and_orders/images/sample_data_folder.png)\n",
        "\n",
        "Please execute the first code snippet before moving to the rest of the exercise as this code will import the data from the files for you to be able to execute the rest of the exercise.\n",
        "\n",
        "Remember as we said in the previous lecture, you have to save this notebook into your Google Drive by going to menu File/Save a Copy In Drive, or clicking in the button \"Copy to Drive\". This way, you will not lose any work you've done and the file will persist with your latest changes in your Google Drive. Also we recommend you to rename your .ipynb in your Google Drive, so you can easily find it in the future."
      ]
    },
    {
      "cell_type": "code",
      "execution_count": 1,
      "metadata": {
        "colab": {
          "base_uri": "https://localhost:8080/"
        },
        "id": "MWpVO242FQHC",
        "outputId": "5b3b9a9a-63f9-4bc6-8f56-f006b35a7e38"
      },
      "outputs": [
        {
          "output_type": "stream",
          "name": "stdout",
          "text": [
            "Customers and orders CSV files have been added './sample_data'\n"
          ]
        }
      ],
      "source": [
        "import requests\n",
        "\n",
        "def import_data_files():\n",
        "  r = requests.get('https://raw.githubusercontent.com/anyoneai/notebooks/main/customers_and_orders/data/customers.csv')\n",
        "  with open('./sample_data/customers.csv', 'wb') as f:\n",
        "    f.write(r.content)\n",
        "\n",
        "  r = requests.get('https://raw.githubusercontent.com/anyoneai/notebooks/main/customers_and_orders/data/orders.csv')\n",
        "  with open('./sample_data/orders.csv', 'wb') as f:\n",
        "    f.write(r.content)\n",
        "  \n",
        "import_data_files()\n",
        "print(\"Customers and orders CSV files have been added './sample_data'\")"
      ]
    },
    {
      "cell_type": "markdown",
      "metadata": {
        "id": "JQAduY-RWKyB"
      },
      "source": [
        "# Exercise 1: Processing Customers data (difficulty medium)\n",
        "\n",
        "The sample customer data in 'customers.csv' file has just 5 columns: CustomerId, First Name, Last Name, City and State\n",
        "\n",
        "![Data sample](https://raw.githubusercontent.com/anyoneai/notebooks/main/customers_and_orders/images/customers.png)\n",
        "\n",
        "We strongly recommend that you complete from the [Prep Course: Intro to Python](https://colab.research.google.com/github/anyoneai/notebooks/blob/main/python3_crash_course.ipynb) the following section:\n",
        "- Section 7: File I/O (to understand how to read CSV file) \n",
        "- Section 6: For Loop (to navigate the contents of the CSV file)\n",
        "- Section 5: Tuples, Lists, and Dictionaries (to manipulate the data of the CSV file)\n",
        "\n",
        "With this, we hope you can complete this exercise successfully. Although if you want to solve this with libraries or any other way, you are welcome to do it your way.\n",
        "\n",
        "*Hint:* We advise you to take a look at the data before you start.\n",
        "**if you want to manually take a look at the data before you start, please see the content of the data [here](https://github.com/anyoneai/notebooks/blob/main/customers_and_orders/data/customers.csv).\n",
        "\n",
        "*Hint*: There are many ways to do this exercise you can do your own, although here's some help. You can solve this exercise reading and parsing CSV files, structuring data into dictionaries, and using for loops to navigate the contents\n",
        "\n",
        "*Hint*: Also, keep in mind that data might not be clean and you might have to figure out how to deal with that data from the code, without having to modify the data source.\n",
        "\n",
        "Below are the 5 questions you'll have to answer to pass the evaluation:"
      ]
    },
    {
      "cell_type": "markdown",
      "metadata": {
        "id": "kJq7S8sBfbOW"
      },
      "source": [
        "**Question 1:** How many customers are in the file?\n",
        "(as help, we have added some comments and starter code to help you structure the solution)"
      ]
    },
    {
      "cell_type": "code",
      "execution_count": 2,
      "metadata": {
        "colab": {
          "base_uri": "https://localhost:8080/"
        },
        "id": "oMnUFBFb2RUb",
        "outputId": "e8cb957c-7e81-4dce-b655-858e23c618d7"
      },
      "outputs": [
        {
          "output_type": "stream",
          "name": "stdout",
          "text": [
            "There are 602 customers in the file.\n",
            "All done!\n"
          ]
        }
      ],
      "source": [
        "from os.path import exists\n",
        "import csv\n",
        "\n",
        "# check if file can be found and open the file\n",
        "datafile = \"./sample_data/customers.csv\"\n",
        "if not exists(datafile):\n",
        "    raise SystemExit(\"You should run the first code cell and download the dataset files!\")\n",
        "\n",
        "# customers file is in the sample_data folder and can be opened.\n",
        "# Using csv reader is one way of dealing with the file \n",
        "# but it's up to you how you want to proceed\n",
        "with open(datafile, 'r') as fl:\n",
        "    csvreader = csv.reader(fl, delimiter=',')\n",
        "\n",
        "    # initializing a counter variable for the number of customers\n",
        "    customer_count = 0\n",
        "\n",
        "    # looping through the rows and count the number of customers\n",
        "    for i, row in enumerate(csvreader):\n",
        "        if i == 0:\n",
        "            continue  # skip header row - We don't wanna add it as part of our row/customer count\n",
        "        customer_count += 1\n",
        "    \n",
        "    print(f\"There are {customer_count} customers in the file.\")\n",
        "    \n",
        "print(\"All done!\")"
      ]
    },
    {
      "cell_type": "code",
      "source": [
        "#Here, I'll be using pandas, since it's easier for this task :) \n",
        "import pandas as pd\n",
        "\n",
        "datafile = \"./sample_data/customers.csv\"\n",
        "file = pd.read_csv(datafile)"
      ],
      "metadata": {
        "id": "Lfp9O7tsDRHX"
      },
      "execution_count": 3,
      "outputs": []
    },
    {
      "cell_type": "code",
      "source": [
        "#Just checking what we have on our file\n",
        "file.head()"
      ],
      "metadata": {
        "colab": {
          "base_uri": "https://localhost:8080/",
          "height": 206
        },
        "id": "K7U94rJtDUQs",
        "outputId": "35cfaee0-0674-4942-dcc5-86bb144fb96b"
      },
      "execution_count": 4,
      "outputs": [
        {
          "output_type": "execute_result",
          "data": {
            "text/plain": [
              "   CustomerID    FirstName      LastName         City State\n",
              "0        6192        Randi    Piedrahita  Canoga Park    CA\n",
              "1     5100595  Christopher       Abraham   Loma Linda    CA\n",
              "2     1902451        Elvis      Jauregui  Los Angeles    CA\n",
              "3     1906377         Jose  Mota-Sanchez       Downey    CA\n",
              "4     1902406      Scott        McCrorie   Long Beach    CA"
            ],
            "text/html": [
              "\n",
              "  <div id=\"df-6de34e6d-6e60-491a-9d90-cd00854759f0\">\n",
              "    <div class=\"colab-df-container\">\n",
              "      <div>\n",
              "<style scoped>\n",
              "    .dataframe tbody tr th:only-of-type {\n",
              "        vertical-align: middle;\n",
              "    }\n",
              "\n",
              "    .dataframe tbody tr th {\n",
              "        vertical-align: top;\n",
              "    }\n",
              "\n",
              "    .dataframe thead th {\n",
              "        text-align: right;\n",
              "    }\n",
              "</style>\n",
              "<table border=\"1\" class=\"dataframe\">\n",
              "  <thead>\n",
              "    <tr style=\"text-align: right;\">\n",
              "      <th></th>\n",
              "      <th>CustomerID</th>\n",
              "      <th>FirstName</th>\n",
              "      <th>LastName</th>\n",
              "      <th>City</th>\n",
              "      <th>State</th>\n",
              "    </tr>\n",
              "  </thead>\n",
              "  <tbody>\n",
              "    <tr>\n",
              "      <th>0</th>\n",
              "      <td>6192</td>\n",
              "      <td>Randi</td>\n",
              "      <td>Piedrahita</td>\n",
              "      <td>Canoga Park</td>\n",
              "      <td>CA</td>\n",
              "    </tr>\n",
              "    <tr>\n",
              "      <th>1</th>\n",
              "      <td>5100595</td>\n",
              "      <td>Christopher</td>\n",
              "      <td>Abraham</td>\n",
              "      <td>Loma Linda</td>\n",
              "      <td>CA</td>\n",
              "    </tr>\n",
              "    <tr>\n",
              "      <th>2</th>\n",
              "      <td>1902451</td>\n",
              "      <td>Elvis</td>\n",
              "      <td>Jauregui</td>\n",
              "      <td>Los Angeles</td>\n",
              "      <td>CA</td>\n",
              "    </tr>\n",
              "    <tr>\n",
              "      <th>3</th>\n",
              "      <td>1906377</td>\n",
              "      <td>Jose</td>\n",
              "      <td>Mota-Sanchez</td>\n",
              "      <td>Downey</td>\n",
              "      <td>CA</td>\n",
              "    </tr>\n",
              "    <tr>\n",
              "      <th>4</th>\n",
              "      <td>1902406</td>\n",
              "      <td>Scott</td>\n",
              "      <td>McCrorie</td>\n",
              "      <td>Long Beach</td>\n",
              "      <td>CA</td>\n",
              "    </tr>\n",
              "  </tbody>\n",
              "</table>\n",
              "</div>\n",
              "      <button class=\"colab-df-convert\" onclick=\"convertToInteractive('df-6de34e6d-6e60-491a-9d90-cd00854759f0')\"\n",
              "              title=\"Convert this dataframe to an interactive table.\"\n",
              "              style=\"display:none;\">\n",
              "        \n",
              "  <svg xmlns=\"http://www.w3.org/2000/svg\" height=\"24px\"viewBox=\"0 0 24 24\"\n",
              "       width=\"24px\">\n",
              "    <path d=\"M0 0h24v24H0V0z\" fill=\"none\"/>\n",
              "    <path d=\"M18.56 5.44l.94 2.06.94-2.06 2.06-.94-2.06-.94-.94-2.06-.94 2.06-2.06.94zm-11 1L8.5 8.5l.94-2.06 2.06-.94-2.06-.94L8.5 2.5l-.94 2.06-2.06.94zm10 10l.94 2.06.94-2.06 2.06-.94-2.06-.94-.94-2.06-.94 2.06-2.06.94z\"/><path d=\"M17.41 7.96l-1.37-1.37c-.4-.4-.92-.59-1.43-.59-.52 0-1.04.2-1.43.59L10.3 9.45l-7.72 7.72c-.78.78-.78 2.05 0 2.83L4 21.41c.39.39.9.59 1.41.59.51 0 1.02-.2 1.41-.59l7.78-7.78 2.81-2.81c.8-.78.8-2.07 0-2.86zM5.41 20L4 18.59l7.72-7.72 1.47 1.35L5.41 20z\"/>\n",
              "  </svg>\n",
              "      </button>\n",
              "      \n",
              "  <style>\n",
              "    .colab-df-container {\n",
              "      display:flex;\n",
              "      flex-wrap:wrap;\n",
              "      gap: 12px;\n",
              "    }\n",
              "\n",
              "    .colab-df-convert {\n",
              "      background-color: #E8F0FE;\n",
              "      border: none;\n",
              "      border-radius: 50%;\n",
              "      cursor: pointer;\n",
              "      display: none;\n",
              "      fill: #1967D2;\n",
              "      height: 32px;\n",
              "      padding: 0 0 0 0;\n",
              "      width: 32px;\n",
              "    }\n",
              "\n",
              "    .colab-df-convert:hover {\n",
              "      background-color: #E2EBFA;\n",
              "      box-shadow: 0px 1px 2px rgba(60, 64, 67, 0.3), 0px 1px 3px 1px rgba(60, 64, 67, 0.15);\n",
              "      fill: #174EA6;\n",
              "    }\n",
              "\n",
              "    [theme=dark] .colab-df-convert {\n",
              "      background-color: #3B4455;\n",
              "      fill: #D2E3FC;\n",
              "    }\n",
              "\n",
              "    [theme=dark] .colab-df-convert:hover {\n",
              "      background-color: #434B5C;\n",
              "      box-shadow: 0px 1px 3px 1px rgba(0, 0, 0, 0.15);\n",
              "      filter: drop-shadow(0px 1px 2px rgba(0, 0, 0, 0.3));\n",
              "      fill: #FFFFFF;\n",
              "    }\n",
              "  </style>\n",
              "\n",
              "      <script>\n",
              "        const buttonEl =\n",
              "          document.querySelector('#df-6de34e6d-6e60-491a-9d90-cd00854759f0 button.colab-df-convert');\n",
              "        buttonEl.style.display =\n",
              "          google.colab.kernel.accessAllowed ? 'block' : 'none';\n",
              "\n",
              "        async function convertToInteractive(key) {\n",
              "          const element = document.querySelector('#df-6de34e6d-6e60-491a-9d90-cd00854759f0');\n",
              "          const dataTable =\n",
              "            await google.colab.kernel.invokeFunction('convertToInteractive',\n",
              "                                                     [key], {});\n",
              "          if (!dataTable) return;\n",
              "\n",
              "          const docLinkHtml = 'Like what you see? Visit the ' +\n",
              "            '<a target=\"_blank\" href=https://colab.research.google.com/notebooks/data_table.ipynb>data table notebook</a>'\n",
              "            + ' to learn more about interactive tables.';\n",
              "          element.innerHTML = '';\n",
              "          dataTable['output_type'] = 'display_data';\n",
              "          await google.colab.output.renderOutput(dataTable, element);\n",
              "          const docLink = document.createElement('div');\n",
              "          docLink.innerHTML = docLinkHtml;\n",
              "          element.appendChild(docLink);\n",
              "        }\n",
              "      </script>\n",
              "    </div>\n",
              "  </div>\n",
              "  "
            ]
          },
          "metadata": {},
          "execution_count": 4
        }
      ]
    },
    {
      "cell_type": "code",
      "source": [
        "#Just checking what we have on our file part II\n",
        "file.tail()"
      ],
      "metadata": {
        "colab": {
          "base_uri": "https://localhost:8080/",
          "height": 206
        },
        "id": "kV3rpDfKDWjf",
        "outputId": "f89239c7-bec3-49c7-df75-bf76b28582df"
      },
      "execution_count": 5,
      "outputs": [
        {
          "output_type": "execute_result",
          "data": {
            "text/plain": [
              "     CustomerID FirstName     LastName         City State\n",
              "597     5415365   Trinity    Hall Reif        Poway    CA\n",
              "598     5415465    Kisona  Mialoto Jr.      Lynwood    CA\n",
              "599     5415345  Lawrence        Zhang  Temple City    CA\n",
              "600     5415481      John       Hughes    Round Top    TX\n",
              "601     5415482   Phillip       Okonma  Los Angeles    CA"
            ],
            "text/html": [
              "\n",
              "  <div id=\"df-495b4ff5-6515-4b71-aaf9-1e04cf84647d\">\n",
              "    <div class=\"colab-df-container\">\n",
              "      <div>\n",
              "<style scoped>\n",
              "    .dataframe tbody tr th:only-of-type {\n",
              "        vertical-align: middle;\n",
              "    }\n",
              "\n",
              "    .dataframe tbody tr th {\n",
              "        vertical-align: top;\n",
              "    }\n",
              "\n",
              "    .dataframe thead th {\n",
              "        text-align: right;\n",
              "    }\n",
              "</style>\n",
              "<table border=\"1\" class=\"dataframe\">\n",
              "  <thead>\n",
              "    <tr style=\"text-align: right;\">\n",
              "      <th></th>\n",
              "      <th>CustomerID</th>\n",
              "      <th>FirstName</th>\n",
              "      <th>LastName</th>\n",
              "      <th>City</th>\n",
              "      <th>State</th>\n",
              "    </tr>\n",
              "  </thead>\n",
              "  <tbody>\n",
              "    <tr>\n",
              "      <th>597</th>\n",
              "      <td>5415365</td>\n",
              "      <td>Trinity</td>\n",
              "      <td>Hall Reif</td>\n",
              "      <td>Poway</td>\n",
              "      <td>CA</td>\n",
              "    </tr>\n",
              "    <tr>\n",
              "      <th>598</th>\n",
              "      <td>5415465</td>\n",
              "      <td>Kisona</td>\n",
              "      <td>Mialoto Jr.</td>\n",
              "      <td>Lynwood</td>\n",
              "      <td>CA</td>\n",
              "    </tr>\n",
              "    <tr>\n",
              "      <th>599</th>\n",
              "      <td>5415345</td>\n",
              "      <td>Lawrence</td>\n",
              "      <td>Zhang</td>\n",
              "      <td>Temple City</td>\n",
              "      <td>CA</td>\n",
              "    </tr>\n",
              "    <tr>\n",
              "      <th>600</th>\n",
              "      <td>5415481</td>\n",
              "      <td>John</td>\n",
              "      <td>Hughes</td>\n",
              "      <td>Round Top</td>\n",
              "      <td>TX</td>\n",
              "    </tr>\n",
              "    <tr>\n",
              "      <th>601</th>\n",
              "      <td>5415482</td>\n",
              "      <td>Phillip</td>\n",
              "      <td>Okonma</td>\n",
              "      <td>Los Angeles</td>\n",
              "      <td>CA</td>\n",
              "    </tr>\n",
              "  </tbody>\n",
              "</table>\n",
              "</div>\n",
              "      <button class=\"colab-df-convert\" onclick=\"convertToInteractive('df-495b4ff5-6515-4b71-aaf9-1e04cf84647d')\"\n",
              "              title=\"Convert this dataframe to an interactive table.\"\n",
              "              style=\"display:none;\">\n",
              "        \n",
              "  <svg xmlns=\"http://www.w3.org/2000/svg\" height=\"24px\"viewBox=\"0 0 24 24\"\n",
              "       width=\"24px\">\n",
              "    <path d=\"M0 0h24v24H0V0z\" fill=\"none\"/>\n",
              "    <path d=\"M18.56 5.44l.94 2.06.94-2.06 2.06-.94-2.06-.94-.94-2.06-.94 2.06-2.06.94zm-11 1L8.5 8.5l.94-2.06 2.06-.94-2.06-.94L8.5 2.5l-.94 2.06-2.06.94zm10 10l.94 2.06.94-2.06 2.06-.94-2.06-.94-.94-2.06-.94 2.06-2.06.94z\"/><path d=\"M17.41 7.96l-1.37-1.37c-.4-.4-.92-.59-1.43-.59-.52 0-1.04.2-1.43.59L10.3 9.45l-7.72 7.72c-.78.78-.78 2.05 0 2.83L4 21.41c.39.39.9.59 1.41.59.51 0 1.02-.2 1.41-.59l7.78-7.78 2.81-2.81c.8-.78.8-2.07 0-2.86zM5.41 20L4 18.59l7.72-7.72 1.47 1.35L5.41 20z\"/>\n",
              "  </svg>\n",
              "      </button>\n",
              "      \n",
              "  <style>\n",
              "    .colab-df-container {\n",
              "      display:flex;\n",
              "      flex-wrap:wrap;\n",
              "      gap: 12px;\n",
              "    }\n",
              "\n",
              "    .colab-df-convert {\n",
              "      background-color: #E8F0FE;\n",
              "      border: none;\n",
              "      border-radius: 50%;\n",
              "      cursor: pointer;\n",
              "      display: none;\n",
              "      fill: #1967D2;\n",
              "      height: 32px;\n",
              "      padding: 0 0 0 0;\n",
              "      width: 32px;\n",
              "    }\n",
              "\n",
              "    .colab-df-convert:hover {\n",
              "      background-color: #E2EBFA;\n",
              "      box-shadow: 0px 1px 2px rgba(60, 64, 67, 0.3), 0px 1px 3px 1px rgba(60, 64, 67, 0.15);\n",
              "      fill: #174EA6;\n",
              "    }\n",
              "\n",
              "    [theme=dark] .colab-df-convert {\n",
              "      background-color: #3B4455;\n",
              "      fill: #D2E3FC;\n",
              "    }\n",
              "\n",
              "    [theme=dark] .colab-df-convert:hover {\n",
              "      background-color: #434B5C;\n",
              "      box-shadow: 0px 1px 3px 1px rgba(0, 0, 0, 0.15);\n",
              "      filter: drop-shadow(0px 1px 2px rgba(0, 0, 0, 0.3));\n",
              "      fill: #FFFFFF;\n",
              "    }\n",
              "  </style>\n",
              "\n",
              "      <script>\n",
              "        const buttonEl =\n",
              "          document.querySelector('#df-495b4ff5-6515-4b71-aaf9-1e04cf84647d button.colab-df-convert');\n",
              "        buttonEl.style.display =\n",
              "          google.colab.kernel.accessAllowed ? 'block' : 'none';\n",
              "\n",
              "        async function convertToInteractive(key) {\n",
              "          const element = document.querySelector('#df-495b4ff5-6515-4b71-aaf9-1e04cf84647d');\n",
              "          const dataTable =\n",
              "            await google.colab.kernel.invokeFunction('convertToInteractive',\n",
              "                                                     [key], {});\n",
              "          if (!dataTable) return;\n",
              "\n",
              "          const docLinkHtml = 'Like what you see? Visit the ' +\n",
              "            '<a target=\"_blank\" href=https://colab.research.google.com/notebooks/data_table.ipynb>data table notebook</a>'\n",
              "            + ' to learn more about interactive tables.';\n",
              "          element.innerHTML = '';\n",
              "          dataTable['output_type'] = 'display_data';\n",
              "          await google.colab.output.renderOutput(dataTable, element);\n",
              "          const docLink = document.createElement('div');\n",
              "          docLink.innerHTML = docLinkHtml;\n",
              "          element.appendChild(docLink);\n",
              "        }\n",
              "      </script>\n",
              "    </div>\n",
              "  </div>\n",
              "  "
            ]
          },
          "metadata": {},
          "execution_count": 5
        }
      ]
    },
    {
      "cell_type": "code",
      "source": [
        "#Number of customers can be interpreted as number of rows\n",
        "file.count()[0]"
      ],
      "metadata": {
        "colab": {
          "base_uri": "https://localhost:8080/"
        },
        "id": "KiP-7jN7DZgS",
        "outputId": "d0715841-f5d9-46f5-d331-89d9482b1c89"
      },
      "execution_count": 6,
      "outputs": [
        {
          "output_type": "execute_result",
          "data": {
            "text/plain": [
              "602"
            ]
          },
          "metadata": {},
          "execution_count": 6
        }
      ]
    },
    {
      "cell_type": "markdown",
      "metadata": {
        "id": "uffBnNgz_570"
      },
      "source": [
        "**Question 2:** In how many different states do the customers live in?"
      ]
    },
    {
      "cell_type": "code",
      "execution_count": null,
      "metadata": {
        "id": "Bi_yid0sMe3-"
      },
      "outputs": [],
      "source": [
        "# open file and init vars\n",
        "# evaluate the contents of the file"
      ]
    },
    {
      "cell_type": "code",
      "source": [
        "import numpy as np\n",
        "\n",
        "df = pd.DataFrame(file)\n",
        "\n",
        "unique_states= df[\"State\"].unique()\n",
        "unique_states"
      ],
      "metadata": {
        "colab": {
          "base_uri": "https://localhost:8080/"
        },
        "id": "6OvSijp6Dggq",
        "outputId": "ab01a764-fb06-4dba-e3b0-e49fa3facf61"
      },
      "execution_count": 8,
      "outputs": [
        {
          "output_type": "execute_result",
          "data": {
            "text/plain": [
              "array(['CA', 'AZ', 'NV', 'FL', 'CA           ', 'WA', 'NH', 'ID', 'CO',\n",
              "       'Ca', 'TX', 'NM', 'OR', 'UT', 'MA', 'IN'], dtype=object)"
            ]
          },
          "metadata": {},
          "execution_count": 8
        }
      ]
    },
    {
      "cell_type": "code",
      "source": [
        "#It seems we have some space issues and some case issues\n",
        "#Let's fix those first\n",
        "\n",
        "\"\"\" Let's take our original dataframe (file) and fix the 'State' column, so everything there can be\n",
        "uppercase set and with no spaces before or after \"\"\"\n",
        "\n",
        "file['State'] = file['State'].str.upper()\n",
        "\n",
        "#Let's check if our column is ok now regarding the uppercases\n",
        "file['State'].unique()"
      ],
      "metadata": {
        "colab": {
          "base_uri": "https://localhost:8080/"
        },
        "id": "Qhm39wftDjXO",
        "outputId": "7b5f0136-266d-4f8a-c8e4-22f5f97f3151"
      },
      "execution_count": 9,
      "outputs": [
        {
          "output_type": "execute_result",
          "data": {
            "text/plain": [
              "array(['CA', 'AZ', 'NV', 'FL', 'CA           ', 'WA', 'NH', 'ID', 'CO',\n",
              "       'TX', 'NM', 'OR', 'UT', 'MA', 'IN'], dtype=object)"
            ]
          },
          "metadata": {},
          "execution_count": 9
        }
      ]
    },
    {
      "cell_type": "code",
      "source": [
        "#Now, let's get rid of the spaces\n",
        "\n",
        "file['State'] = file['State'].str.strip()\n",
        "\n",
        "#Let's check if our column is ok now regarding the uppercases\n",
        "\n",
        "\"\"\" In this case, we are using thestrip method to replace all whitespace from column 'State'\n",
        "to make sure all right, left, and between spaces are remove. \"\"\"\n",
        "\n",
        "file['State'].unique()"
      ],
      "metadata": {
        "colab": {
          "base_uri": "https://localhost:8080/"
        },
        "id": "2WShzHC2Eqyb",
        "outputId": "d39fb312-aa3d-44a8-a67a-c004c3bfb68a"
      },
      "execution_count": 10,
      "outputs": [
        {
          "output_type": "execute_result",
          "data": {
            "text/plain": [
              "array(['CA', 'AZ', 'NV', 'FL', 'WA', 'NH', 'ID', 'CO', 'TX', 'NM', 'OR',\n",
              "       'UT', 'MA', 'IN'], dtype=object)"
            ]
          },
          "metadata": {},
          "execution_count": 10
        }
      ]
    },
    {
      "cell_type": "code",
      "source": [
        "#Now, let's find out how many unique states we have\n",
        "len(file['State'].unique())"
      ],
      "metadata": {
        "colab": {
          "base_uri": "https://localhost:8080/"
        },
        "id": "dXRzVESdEspF",
        "outputId": "6358f26a-ac34-44ac-f04e-a1d74249c55e"
      },
      "execution_count": 11,
      "outputs": [
        {
          "output_type": "execute_result",
          "data": {
            "text/plain": [
              "14"
            ]
          },
          "metadata": {},
          "execution_count": 11
        }
      ]
    },
    {
      "cell_type": "markdown",
      "metadata": {
        "id": "DC59SZYiMfNY"
      },
      "source": [
        "**Question 3** What is the state with most customers?"
      ]
    },
    {
      "cell_type": "code",
      "execution_count": 12,
      "metadata": {
        "id": "tfGU3w-OMhA9",
        "colab": {
          "base_uri": "https://localhost:8080/"
        },
        "outputId": "7e8945df-5de5-4541-9600-9928aeb04601"
      },
      "outputs": [
        {
          "output_type": "execute_result",
          "data": {
            "text/plain": [
              "State\n",
              "CA    569\n",
              "NV      8\n",
              "AZ      6\n",
              "CO      3\n",
              "FL      3\n",
              "NM      3\n",
              "TX      2\n",
              "UT      2\n",
              "ID      1\n",
              "IN      1\n",
              "MA      1\n",
              "NH      1\n",
              "OR      1\n",
              "WA      1\n",
              "Name: State, dtype: int64"
            ]
          },
          "metadata": {},
          "execution_count": 12
        }
      ],
      "source": [
        "# open file and init vars\n",
        "# evaluate the contents of the file\n",
        "\n",
        "#Let's use group by to aggregate our customers per State and the coun method to see how many of them do we have in each State\n",
        "\n",
        "file2 = file.groupby(['State'])['State'].count()\n",
        "\n",
        "#Let's sort our colum in an descending way to get the State with more customers\n",
        "file2.sort_values(ascending=False)"
      ]
    },
    {
      "cell_type": "markdown",
      "metadata": {
        "id": "7mcM6cUAMhLB"
      },
      "source": [
        "**Question 4** What is the state with the least customers?"
      ]
    },
    {
      "cell_type": "code",
      "execution_count": 14,
      "metadata": {
        "id": "8T0Ka2RqMi3P",
        "colab": {
          "base_uri": "https://localhost:8080/"
        },
        "outputId": "24f3997d-087b-40fe-83c4-d1888759e1d2"
      },
      "outputs": [
        {
          "output_type": "execute_result",
          "data": {
            "text/plain": [
              "State\n",
              "ID      1\n",
              "IN      1\n",
              "MA      1\n",
              "NH      1\n",
              "OR      1\n",
              "WA      1\n",
              "TX      2\n",
              "UT      2\n",
              "CO      3\n",
              "FL      3\n",
              "NM      3\n",
              "AZ      6\n",
              "NV      8\n",
              "CA    569\n",
              "Name: State, dtype: int64"
            ]
          },
          "metadata": {},
          "execution_count": 14
        }
      ],
      "source": [
        "# open file and init vars\n",
        "# evaluate the contents of the file\n",
        "#Let's sort our colum in an ascending way to get the states with the least customers\n",
        "file2.sort_values()\n",
        "\n",
        "#We have that ID, IN, MA, NH, OR and WA are the States with the least customers"
      ]
    },
    {
      "cell_type": "markdown",
      "metadata": {
        "id": "h6fIy7hXHF6A"
      },
      "source": [
        "**Question 5:** What is the most common last name?"
      ]
    },
    {
      "cell_type": "code",
      "execution_count": 15,
      "metadata": {
        "id": "k8M1DmA75Km7",
        "colab": {
          "base_uri": "https://localhost:8080/"
        },
        "outputId": "cb01e74e-ba8b-4581-9d94-f91443b717b2"
      },
      "outputs": [
        {
          "output_type": "execute_result",
          "data": {
            "text/plain": [
              "Index(['CustomerID', 'FirstName', 'LastName', 'City', 'State'], dtype='object')"
            ]
          },
          "metadata": {},
          "execution_count": 15
        }
      ],
      "source": [
        "# open file and init vars\n",
        "# evaluate the contents of the file\n",
        "\n",
        "file.columns"
      ]
    },
    {
      "cell_type": "code",
      "source": [
        "file3 = file.groupby(['LastName'])['LastName'].count()\n",
        "file3.sort_values(ascending=False)\n",
        "\n",
        "#This give us that the most common lastname is Smith"
      ],
      "metadata": {
        "colab": {
          "base_uri": "https://localhost:8080/"
        },
        "id": "bijP8tQGFKKK",
        "outputId": "f675903a-9c0c-45eb-8b9f-72ebbd795931"
      },
      "execution_count": 16,
      "outputs": [
        {
          "output_type": "execute_result",
          "data": {
            "text/plain": [
              "LastName\n",
              "Smith        8\n",
              "Doggett      5\n",
              "Zambrana     5\n",
              "Gomez        5\n",
              "Johnson      4\n",
              "            ..\n",
              "Maye         1\n",
              "DePland      1\n",
              "Mathewson    1\n",
              "Mather       1\n",
              "Oquinn       1\n",
              "Name: LastName, Length: 424, dtype: int64"
            ]
          },
          "metadata": {},
          "execution_count": 16
        }
      ]
    },
    {
      "cell_type": "markdown",
      "metadata": {
        "id": "YPRma1t9NoFk"
      },
      "source": [
        "# Exercise 2: Processing Orders data (difficulty high)\n",
        "\n",
        "The second sample files contains orders placed by customers from the first file. Be careful, this file has many rows and you most likely should not print the contents of the whole file. \n",
        "\n",
        "The file contains the following columns: CustomerID, OrderID, Date, OrderTotal, ProductName, Price\n",
        "\n",
        "![Data sample](https://raw.githubusercontent.com/anyoneai/notebooks/main/customers_and_orders/images/orders.png)\n",
        "\n",
        "*Hint:* We advise you to take a look at the data before you start.\n",
        "**if you want to manually take a look at the data before you start, please see the content of the data [here](https://raw.githubusercontent.com/anyoneai/notebooks/main/customers_and_orders/data/orders.csv).\n",
        "\n",
        "*Hint*: There are many ways to do this exercise you can do your own, although here's some help. You can solve this exercise reading and parsing CSV files, structuring data into dictionaries, and using for loops to navigate the contents\n",
        "\n",
        "*Hint*: Also, the data is not clean and you will have to figure out how to deal with that data from the code, without having to modify the data source.\n",
        "\n",
        "\n",
        "\n",
        "**Question #1:** How many unique orders are in the orders.csv file?\n",
        "\n",
        "**Question #2:** What is the average number of items per order (rounded to two decimal places)?\n",
        "\n",
        "**Question #3:** What is the highest number of items per order?\n",
        "\n",
        "**Question #4:** What is the number of orders placed in October 2021?\n",
        "\n",
        "**Question #5:** Which customer spent the most amount of money in 2021?\n",
        "\n",
        "**Question #6:** Historically, what is the best month for sales?\n",
        "\n",
        "Once you get your answers, remember to go back to the course and introduce them in the multiple choice quiz"
      ]
    },
    {
      "cell_type": "code",
      "execution_count": 55,
      "metadata": {
        "id": "8ipJTrfs5QVM",
        "colab": {
          "base_uri": "https://localhost:8080/",
          "height": 206
        },
        "outputId": "8309059a-b172-4ecf-d9e2-89105ca9a0be"
      },
      "outputs": [
        {
          "output_type": "execute_result",
          "data": {
            "text/plain": [
              "   CustomerID  OrderID                     Date  OrderTotal ProductName  Price\n",
              "0        8091  7742581  2021-07-26 14:40:10.783        95.0         Z03   90.0\n",
              "1      902139  7742778  2021-08-08 05:01:21.120        60.0    0844 A/C   60.0\n",
              "2     2300266  7742593  2021-07-27 11:00:16.020       185.0         M07   90.0\n",
              "3     2300266  7742593  2021-07-27 11:00:16.020       185.0         M09   90.0\n",
              "4     5173013  7742609  2021-07-28 14:26:13.930       165.0        0324  160.0"
            ],
            "text/html": [
              "\n",
              "  <div id=\"df-69c43131-83bf-4e61-afb9-bbf4a4aab22e\">\n",
              "    <div class=\"colab-df-container\">\n",
              "      <div>\n",
              "<style scoped>\n",
              "    .dataframe tbody tr th:only-of-type {\n",
              "        vertical-align: middle;\n",
              "    }\n",
              "\n",
              "    .dataframe tbody tr th {\n",
              "        vertical-align: top;\n",
              "    }\n",
              "\n",
              "    .dataframe thead th {\n",
              "        text-align: right;\n",
              "    }\n",
              "</style>\n",
              "<table border=\"1\" class=\"dataframe\">\n",
              "  <thead>\n",
              "    <tr style=\"text-align: right;\">\n",
              "      <th></th>\n",
              "      <th>CustomerID</th>\n",
              "      <th>OrderID</th>\n",
              "      <th>Date</th>\n",
              "      <th>OrderTotal</th>\n",
              "      <th>ProductName</th>\n",
              "      <th>Price</th>\n",
              "    </tr>\n",
              "  </thead>\n",
              "  <tbody>\n",
              "    <tr>\n",
              "      <th>0</th>\n",
              "      <td>8091</td>\n",
              "      <td>7742581</td>\n",
              "      <td>2021-07-26 14:40:10.783</td>\n",
              "      <td>95.0</td>\n",
              "      <td>Z03</td>\n",
              "      <td>90.0</td>\n",
              "    </tr>\n",
              "    <tr>\n",
              "      <th>1</th>\n",
              "      <td>902139</td>\n",
              "      <td>7742778</td>\n",
              "      <td>2021-08-08 05:01:21.120</td>\n",
              "      <td>60.0</td>\n",
              "      <td>0844 A/C</td>\n",
              "      <td>60.0</td>\n",
              "    </tr>\n",
              "    <tr>\n",
              "      <th>2</th>\n",
              "      <td>2300266</td>\n",
              "      <td>7742593</td>\n",
              "      <td>2021-07-27 11:00:16.020</td>\n",
              "      <td>185.0</td>\n",
              "      <td>M07</td>\n",
              "      <td>90.0</td>\n",
              "    </tr>\n",
              "    <tr>\n",
              "      <th>3</th>\n",
              "      <td>2300266</td>\n",
              "      <td>7742593</td>\n",
              "      <td>2021-07-27 11:00:16.020</td>\n",
              "      <td>185.0</td>\n",
              "      <td>M09</td>\n",
              "      <td>90.0</td>\n",
              "    </tr>\n",
              "    <tr>\n",
              "      <th>4</th>\n",
              "      <td>5173013</td>\n",
              "      <td>7742609</td>\n",
              "      <td>2021-07-28 14:26:13.930</td>\n",
              "      <td>165.0</td>\n",
              "      <td>0324</td>\n",
              "      <td>160.0</td>\n",
              "    </tr>\n",
              "  </tbody>\n",
              "</table>\n",
              "</div>\n",
              "      <button class=\"colab-df-convert\" onclick=\"convertToInteractive('df-69c43131-83bf-4e61-afb9-bbf4a4aab22e')\"\n",
              "              title=\"Convert this dataframe to an interactive table.\"\n",
              "              style=\"display:none;\">\n",
              "        \n",
              "  <svg xmlns=\"http://www.w3.org/2000/svg\" height=\"24px\"viewBox=\"0 0 24 24\"\n",
              "       width=\"24px\">\n",
              "    <path d=\"M0 0h24v24H0V0z\" fill=\"none\"/>\n",
              "    <path d=\"M18.56 5.44l.94 2.06.94-2.06 2.06-.94-2.06-.94-.94-2.06-.94 2.06-2.06.94zm-11 1L8.5 8.5l.94-2.06 2.06-.94-2.06-.94L8.5 2.5l-.94 2.06-2.06.94zm10 10l.94 2.06.94-2.06 2.06-.94-2.06-.94-.94-2.06-.94 2.06-2.06.94z\"/><path d=\"M17.41 7.96l-1.37-1.37c-.4-.4-.92-.59-1.43-.59-.52 0-1.04.2-1.43.59L10.3 9.45l-7.72 7.72c-.78.78-.78 2.05 0 2.83L4 21.41c.39.39.9.59 1.41.59.51 0 1.02-.2 1.41-.59l7.78-7.78 2.81-2.81c.8-.78.8-2.07 0-2.86zM5.41 20L4 18.59l7.72-7.72 1.47 1.35L5.41 20z\"/>\n",
              "  </svg>\n",
              "      </button>\n",
              "      \n",
              "  <style>\n",
              "    .colab-df-container {\n",
              "      display:flex;\n",
              "      flex-wrap:wrap;\n",
              "      gap: 12px;\n",
              "    }\n",
              "\n",
              "    .colab-df-convert {\n",
              "      background-color: #E8F0FE;\n",
              "      border: none;\n",
              "      border-radius: 50%;\n",
              "      cursor: pointer;\n",
              "      display: none;\n",
              "      fill: #1967D2;\n",
              "      height: 32px;\n",
              "      padding: 0 0 0 0;\n",
              "      width: 32px;\n",
              "    }\n",
              "\n",
              "    .colab-df-convert:hover {\n",
              "      background-color: #E2EBFA;\n",
              "      box-shadow: 0px 1px 2px rgba(60, 64, 67, 0.3), 0px 1px 3px 1px rgba(60, 64, 67, 0.15);\n",
              "      fill: #174EA6;\n",
              "    }\n",
              "\n",
              "    [theme=dark] .colab-df-convert {\n",
              "      background-color: #3B4455;\n",
              "      fill: #D2E3FC;\n",
              "    }\n",
              "\n",
              "    [theme=dark] .colab-df-convert:hover {\n",
              "      background-color: #434B5C;\n",
              "      box-shadow: 0px 1px 3px 1px rgba(0, 0, 0, 0.15);\n",
              "      filter: drop-shadow(0px 1px 2px rgba(0, 0, 0, 0.3));\n",
              "      fill: #FFFFFF;\n",
              "    }\n",
              "  </style>\n",
              "\n",
              "      <script>\n",
              "        const buttonEl =\n",
              "          document.querySelector('#df-69c43131-83bf-4e61-afb9-bbf4a4aab22e button.colab-df-convert');\n",
              "        buttonEl.style.display =\n",
              "          google.colab.kernel.accessAllowed ? 'block' : 'none';\n",
              "\n",
              "        async function convertToInteractive(key) {\n",
              "          const element = document.querySelector('#df-69c43131-83bf-4e61-afb9-bbf4a4aab22e');\n",
              "          const dataTable =\n",
              "            await google.colab.kernel.invokeFunction('convertToInteractive',\n",
              "                                                     [key], {});\n",
              "          if (!dataTable) return;\n",
              "\n",
              "          const docLinkHtml = 'Like what you see? Visit the ' +\n",
              "            '<a target=\"_blank\" href=https://colab.research.google.com/notebooks/data_table.ipynb>data table notebook</a>'\n",
              "            + ' to learn more about interactive tables.';\n",
              "          element.innerHTML = '';\n",
              "          dataTable['output_type'] = 'display_data';\n",
              "          await google.colab.output.renderOutput(dataTable, element);\n",
              "          const docLink = document.createElement('div');\n",
              "          docLink.innerHTML = docLinkHtml;\n",
              "          element.appendChild(docLink);\n",
              "        }\n",
              "      </script>\n",
              "    </div>\n",
              "  </div>\n",
              "  "
            ]
          },
          "metadata": {},
          "execution_count": 55
        }
      ],
      "source": [
        "# open and evaluate orders.csv\n",
        "import pandas as pd\n",
        "\n",
        "orders = pd.read_csv('./sample_data/orders.csv')\n",
        "\n",
        "#Let's start by looking at the data\n",
        "orders.head()"
      ]
    },
    {
      "cell_type": "code",
      "source": [
        "orders.tail()"
      ],
      "metadata": {
        "colab": {
          "base_uri": "https://localhost:8080/",
          "height": 206
        },
        "id": "gAVmz5aiFSVR",
        "outputId": "a0d3638b-df88-4d3c-e23f-9cd5770c1e5c"
      },
      "execution_count": 18,
      "outputs": [
        {
          "output_type": "execute_result",
          "data": {
            "text/plain": [
              "       CustomerID  OrderID                     Date  OrderTotal  ProductName  \\\n",
              "29289     5415451  7791815  2022-02-07 14:37:30.567         0.0  Circle #041   \n",
              "29290     5415483  7791820  2022-02-07 15:55:55.260       132.0         HH33   \n",
              "29291     5415485  7791822  2022-02-07 16:23:05.940       132.0         3568   \n",
              "29292     4300695  7791824  2022-02-07 16:55:33.343       157.0         0414   \n",
              "29293     5415503  7791848  2022-02-09 10:36:56.553       132.0         PP22   \n",
              "\n",
              "       Price  \n",
              "29289    0.0  \n",
              "29290  125.0  \n",
              "29291  125.0  \n",
              "29292  150.0  \n",
              "29293  125.0  "
            ],
            "text/html": [
              "\n",
              "  <div id=\"df-c1017fd9-5084-4e6b-98de-2731f43555ce\">\n",
              "    <div class=\"colab-df-container\">\n",
              "      <div>\n",
              "<style scoped>\n",
              "    .dataframe tbody tr th:only-of-type {\n",
              "        vertical-align: middle;\n",
              "    }\n",
              "\n",
              "    .dataframe tbody tr th {\n",
              "        vertical-align: top;\n",
              "    }\n",
              "\n",
              "    .dataframe thead th {\n",
              "        text-align: right;\n",
              "    }\n",
              "</style>\n",
              "<table border=\"1\" class=\"dataframe\">\n",
              "  <thead>\n",
              "    <tr style=\"text-align: right;\">\n",
              "      <th></th>\n",
              "      <th>CustomerID</th>\n",
              "      <th>OrderID</th>\n",
              "      <th>Date</th>\n",
              "      <th>OrderTotal</th>\n",
              "      <th>ProductName</th>\n",
              "      <th>Price</th>\n",
              "    </tr>\n",
              "  </thead>\n",
              "  <tbody>\n",
              "    <tr>\n",
              "      <th>29289</th>\n",
              "      <td>5415451</td>\n",
              "      <td>7791815</td>\n",
              "      <td>2022-02-07 14:37:30.567</td>\n",
              "      <td>0.0</td>\n",
              "      <td>Circle #041</td>\n",
              "      <td>0.0</td>\n",
              "    </tr>\n",
              "    <tr>\n",
              "      <th>29290</th>\n",
              "      <td>5415483</td>\n",
              "      <td>7791820</td>\n",
              "      <td>2022-02-07 15:55:55.260</td>\n",
              "      <td>132.0</td>\n",
              "      <td>HH33</td>\n",
              "      <td>125.0</td>\n",
              "    </tr>\n",
              "    <tr>\n",
              "      <th>29291</th>\n",
              "      <td>5415485</td>\n",
              "      <td>7791822</td>\n",
              "      <td>2022-02-07 16:23:05.940</td>\n",
              "      <td>132.0</td>\n",
              "      <td>3568</td>\n",
              "      <td>125.0</td>\n",
              "    </tr>\n",
              "    <tr>\n",
              "      <th>29292</th>\n",
              "      <td>4300695</td>\n",
              "      <td>7791824</td>\n",
              "      <td>2022-02-07 16:55:33.343</td>\n",
              "      <td>157.0</td>\n",
              "      <td>0414</td>\n",
              "      <td>150.0</td>\n",
              "    </tr>\n",
              "    <tr>\n",
              "      <th>29293</th>\n",
              "      <td>5415503</td>\n",
              "      <td>7791848</td>\n",
              "      <td>2022-02-09 10:36:56.553</td>\n",
              "      <td>132.0</td>\n",
              "      <td>PP22</td>\n",
              "      <td>125.0</td>\n",
              "    </tr>\n",
              "  </tbody>\n",
              "</table>\n",
              "</div>\n",
              "      <button class=\"colab-df-convert\" onclick=\"convertToInteractive('df-c1017fd9-5084-4e6b-98de-2731f43555ce')\"\n",
              "              title=\"Convert this dataframe to an interactive table.\"\n",
              "              style=\"display:none;\">\n",
              "        \n",
              "  <svg xmlns=\"http://www.w3.org/2000/svg\" height=\"24px\"viewBox=\"0 0 24 24\"\n",
              "       width=\"24px\">\n",
              "    <path d=\"M0 0h24v24H0V0z\" fill=\"none\"/>\n",
              "    <path d=\"M18.56 5.44l.94 2.06.94-2.06 2.06-.94-2.06-.94-.94-2.06-.94 2.06-2.06.94zm-11 1L8.5 8.5l.94-2.06 2.06-.94-2.06-.94L8.5 2.5l-.94 2.06-2.06.94zm10 10l.94 2.06.94-2.06 2.06-.94-2.06-.94-.94-2.06-.94 2.06-2.06.94z\"/><path d=\"M17.41 7.96l-1.37-1.37c-.4-.4-.92-.59-1.43-.59-.52 0-1.04.2-1.43.59L10.3 9.45l-7.72 7.72c-.78.78-.78 2.05 0 2.83L4 21.41c.39.39.9.59 1.41.59.51 0 1.02-.2 1.41-.59l7.78-7.78 2.81-2.81c.8-.78.8-2.07 0-2.86zM5.41 20L4 18.59l7.72-7.72 1.47 1.35L5.41 20z\"/>\n",
              "  </svg>\n",
              "      </button>\n",
              "      \n",
              "  <style>\n",
              "    .colab-df-container {\n",
              "      display:flex;\n",
              "      flex-wrap:wrap;\n",
              "      gap: 12px;\n",
              "    }\n",
              "\n",
              "    .colab-df-convert {\n",
              "      background-color: #E8F0FE;\n",
              "      border: none;\n",
              "      border-radius: 50%;\n",
              "      cursor: pointer;\n",
              "      display: none;\n",
              "      fill: #1967D2;\n",
              "      height: 32px;\n",
              "      padding: 0 0 0 0;\n",
              "      width: 32px;\n",
              "    }\n",
              "\n",
              "    .colab-df-convert:hover {\n",
              "      background-color: #E2EBFA;\n",
              "      box-shadow: 0px 1px 2px rgba(60, 64, 67, 0.3), 0px 1px 3px 1px rgba(60, 64, 67, 0.15);\n",
              "      fill: #174EA6;\n",
              "    }\n",
              "\n",
              "    [theme=dark] .colab-df-convert {\n",
              "      background-color: #3B4455;\n",
              "      fill: #D2E3FC;\n",
              "    }\n",
              "\n",
              "    [theme=dark] .colab-df-convert:hover {\n",
              "      background-color: #434B5C;\n",
              "      box-shadow: 0px 1px 3px 1px rgba(0, 0, 0, 0.15);\n",
              "      filter: drop-shadow(0px 1px 2px rgba(0, 0, 0, 0.3));\n",
              "      fill: #FFFFFF;\n",
              "    }\n",
              "  </style>\n",
              "\n",
              "      <script>\n",
              "        const buttonEl =\n",
              "          document.querySelector('#df-c1017fd9-5084-4e6b-98de-2731f43555ce button.colab-df-convert');\n",
              "        buttonEl.style.display =\n",
              "          google.colab.kernel.accessAllowed ? 'block' : 'none';\n",
              "\n",
              "        async function convertToInteractive(key) {\n",
              "          const element = document.querySelector('#df-c1017fd9-5084-4e6b-98de-2731f43555ce');\n",
              "          const dataTable =\n",
              "            await google.colab.kernel.invokeFunction('convertToInteractive',\n",
              "                                                     [key], {});\n",
              "          if (!dataTable) return;\n",
              "\n",
              "          const docLinkHtml = 'Like what you see? Visit the ' +\n",
              "            '<a target=\"_blank\" href=https://colab.research.google.com/notebooks/data_table.ipynb>data table notebook</a>'\n",
              "            + ' to learn more about interactive tables.';\n",
              "          element.innerHTML = '';\n",
              "          dataTable['output_type'] = 'display_data';\n",
              "          await google.colab.output.renderOutput(dataTable, element);\n",
              "          const docLink = document.createElement('div');\n",
              "          docLink.innerHTML = docLinkHtml;\n",
              "          element.appendChild(docLink);\n",
              "        }\n",
              "      </script>\n",
              "    </div>\n",
              "  </div>\n",
              "  "
            ]
          },
          "metadata": {},
          "execution_count": 18
        }
      ]
    },
    {
      "cell_type": "code",
      "source": [
        "len(orders)"
      ],
      "metadata": {
        "colab": {
          "base_uri": "https://localhost:8080/"
        },
        "id": "DZb-lDcZFV7H",
        "outputId": "8b1fd647-b55a-4f32-ad5f-a2c843d3b6d9"
      },
      "execution_count": 19,
      "outputs": [
        {
          "output_type": "execute_result",
          "data": {
            "text/plain": [
              "29294"
            ]
          },
          "metadata": {},
          "execution_count": 19
        }
      ]
    },
    {
      "cell_type": "code",
      "source": [
        "orders.columns"
      ],
      "metadata": {
        "colab": {
          "base_uri": "https://localhost:8080/"
        },
        "id": "Jx0io8IjFX9X",
        "outputId": "ec7d45f5-068c-4495-ba78-f0d48a252c8b"
      },
      "execution_count": 20,
      "outputs": [
        {
          "output_type": "execute_result",
          "data": {
            "text/plain": [
              "Index(['CustomerID', 'OrderID', 'Date', 'OrderTotal', 'ProductName', 'Price'], dtype='object')"
            ]
          },
          "metadata": {},
          "execution_count": 20
        }
      ]
    },
    {
      "cell_type": "code",
      "source": [
        "#Let's see how many unique orders do we have\n",
        "len(orders['OrderID'].unique())"
      ],
      "metadata": {
        "colab": {
          "base_uri": "https://localhost:8080/"
        },
        "id": "zXSL1n29FYvf",
        "outputId": "9305b371-4d2b-48a5-cf35-ad6ca0971557"
      },
      "execution_count": 21,
      "outputs": [
        {
          "output_type": "execute_result",
          "data": {
            "text/plain": [
              "16672"
            ]
          },
          "metadata": {},
          "execution_count": 21
        }
      ]
    },
    {
      "cell_type": "code",
      "source": [
        "\"\"\" Question #2: What is the average number of items per order (rounded to two decimal places)? \"\"\"\n",
        "\n",
        "# First, we need to group by the items (Products) per orderID and do the count so we can find the average\n",
        "\n",
        "# Grouping the DataFrame by OrderID and count the number of ProductName occurrences\n",
        "order_items = orders.groupby('OrderID')['ProductName'].count()\n",
        "\n",
        "# Calculating the average number of items per order\n",
        "avg_items_per_order = round(order_items.mean(), 2)\n",
        "\n",
        "# Printing the result\n",
        "print(f\"The average number of items per order is {avg_items_per_order}\")"
      ],
      "metadata": {
        "colab": {
          "base_uri": "https://localhost:8080/"
        },
        "id": "S47lpPnvFk9Z",
        "outputId": "3744d569-5a91-4441-dc77-aa795e09ebd3"
      },
      "execution_count": 22,
      "outputs": [
        {
          "output_type": "stream",
          "name": "stdout",
          "text": [
            "The average number of items per order is 1.76\n"
          ]
        }
      ]
    },
    {
      "cell_type": "code",
      "source": [
        "\"\"\"Let's answer question #3: What is the highest number of items per order? \"\"\"\n",
        "\n",
        "# First, let's group the data by OrderID and count the number of items per order using the size method\n",
        "order_items = orders.groupby('OrderID').size().reset_index(name='num_items')\n",
        "\n",
        "# Now, let's find the highest number of items per order\n",
        "max_items = order_items['num_items'].max()\n",
        "\n",
        "print(f\"The highest number of items per order is {max_items}.\")"
      ],
      "metadata": {
        "colab": {
          "base_uri": "https://localhost:8080/"
        },
        "id": "zYY_F4pFFlD8",
        "outputId": "27452f23-49d8-46fd-e79a-5823eb1f6a37"
      },
      "execution_count": 23,
      "outputs": [
        {
          "output_type": "stream",
          "name": "stdout",
          "text": [
            "The highest number of items per order is 35.\n"
          ]
        }
      ]
    },
    {
      "cell_type": "code",
      "source": [
        "\"\"\" Question #4: What is the number of orders placed in October 2021? \"\"\"\n",
        "\n",
        "# converting the Date column to a pandas datetime object\n",
        "orders['Date'] = pd.to_datetime(orders['Date'])\n",
        "\n",
        "# filter the DataFrame to only include orders placed in October 2021\n",
        "october_2021_orders = orders[(orders['Date'].dt.month == 10) & (orders['Date'].dt.year == 2021)]\n",
        "\n",
        "# count the number of orders in October 2021\n",
        "num_october_2021_orders = len(october_2021_orders)\n",
        "\n",
        "print(f\"The number of orders placed in October 2021 is: {num_october_2021_orders}\")"
      ],
      "metadata": {
        "colab": {
          "base_uri": "https://localhost:8080/"
        },
        "id": "I722_GnZFlYT",
        "outputId": "dfadb720-793d-4103-f6f1-6280b8b7cac5"
      },
      "execution_count": 32,
      "outputs": [
        {
          "output_type": "stream",
          "name": "stdout",
          "text": [
            "The number of orders placed in October 2021 is: 437\n"
          ]
        }
      ]
    },
    {
      "cell_type": "code",
      "source": [
        "#Unique orders placed in Oct 2021\n",
        "# convert the Date column to datetime format\n",
        "orders['Date'] = pd.to_datetime(orders['Date'])\n",
        "\n",
        "# filter for October 2021 orders\n",
        "orders_oct_2021 = orders[(orders['Date'].dt.month == 10) & (orders['Date'].dt.year == 2021)]\n",
        "\n",
        "# count the number of orders\n",
        "num_orders = len(orders_oct_2021['OrderID'].unique())\n",
        "\n",
        "print(f\"The number of unique orders placed in October 2021 is {num_orders}\")\n"
      ],
      "metadata": {
        "colab": {
          "base_uri": "https://localhost:8080/"
        },
        "id": "LnixdqI8FY5E",
        "outputId": "d630a0c0-6cb5-4c1e-bfd6-0b5193ad9512"
      },
      "execution_count": 31,
      "outputs": [
        {
          "output_type": "stream",
          "name": "stdout",
          "text": [
            "The number of unique orders placed in October 2021 is 267\n"
          ]
        }
      ]
    },
    {
      "cell_type": "code",
      "source": [
        "file.columns"
      ],
      "metadata": {
        "id": "OjBrp8yaSPj2",
        "outputId": "346916a3-a345-4367-d5b1-52d921b6fef2",
        "colab": {
          "base_uri": "https://localhost:8080/"
        }
      },
      "execution_count": 53,
      "outputs": [
        {
          "output_type": "execute_result",
          "data": {
            "text/plain": [
              "Index(['CustomerID', 'FirstName', 'LastName', 'City', 'State'], dtype='object')"
            ]
          },
          "metadata": {},
          "execution_count": 53
        }
      ]
    },
    {
      "cell_type": "code",
      "source": [
        "orders.columns"
      ],
      "metadata": {
        "id": "Zt8n9uTJUGw3",
        "outputId": "974c7ce0-ae85-4977-a5b4-14342cb87c1a",
        "colab": {
          "base_uri": "https://localhost:8080/"
        }
      },
      "execution_count": 56,
      "outputs": [
        {
          "output_type": "execute_result",
          "data": {
            "text/plain": [
              "Index(['CustomerID', 'OrderID', 'Date', 'OrderTotal', 'ProductName', 'Price'], dtype='object')"
            ]
          },
          "metadata": {},
          "execution_count": 56
        }
      ]
    },
    {
      "cell_type": "code",
      "source": [
        "\"\"\" Question #5: Which customer spent the most amount of money in 2021? \"\"\"\n",
        "# Convert 'Date' column to datetime type\n",
        "orders['Date'] = pd.to_datetime(orders['Date'])\n",
        "\n",
        "# Filter for 2021 transactions\n",
        "orders_2021 = orders[orders['Date'].dt.year == 2021]\n",
        "\n",
        "# Group by customer and sum the order totals\n",
        "customer_totals = orders_2021.groupby(['CustomerID'])['OrderTotal'].sum()\n",
        "\n",
        "# Find the customer with the highest total\n",
        "top_customer = customer_totals.idxmax()\n",
        "\n",
        "# Relate top customer to their name and last name\n",
        "top_customer_info = file[file['CustomerID']==top_customer].iloc[0]\n",
        "top_customer_name = top_customer_info['FirstName'] + ' ' + top_customer_info['LastName']\n",
        "\n",
        "# Print the result\n",
        "print(f\"The customer who spent the most in 2021 is {top_customer_name} (CustomerID: {top_customer}), with a total spend of ${customer_totals[top_customer]:,.2f}\")\n"
      ],
      "metadata": {
        "id": "FQd-5LcaNU7Q",
        "outputId": "c5856db1-a7e9-486a-f5b5-c0b1f476154e",
        "colab": {
          "base_uri": "https://localhost:8080/"
        }
      },
      "execution_count": 57,
      "outputs": [
        {
          "output_type": "stream",
          "name": "stdout",
          "text": [
            "The customer who spent the most in 2021 is Juan Soto (CustomerID: 5464), with a total spend of $56,170.00\n"
          ]
        }
      ]
    },
    {
      "cell_type": "code",
      "source": [
        "#Since my solution is not matching the given possible answers, I'll try to search one by one to see what happened\n",
        "#I'll take Sohpie's info since she seems to have the biggest amount spent\n",
        "sophie_info = file[file['CustomerID']==1909369].iloc[0]\n",
        "sophie_info"
      ],
      "metadata": {
        "id": "LRIQJ8tLPrYC",
        "outputId": "03548c14-f518-4f81-aac5-114e90fc98b3",
        "colab": {
          "base_uri": "https://localhost:8080/"
        }
      },
      "execution_count": 60,
      "outputs": [
        {
          "output_type": "execute_result",
          "data": {
            "text/plain": [
              "CustomerID     1909369\n",
              "FirstName       Sophie\n",
              "LastName       Labonte\n",
              "City          Glendale\n",
              "State               CA\n",
              "Name: 325, dtype: object"
            ]
          },
          "metadata": {},
          "execution_count": 60
        }
      ]
    },
    {
      "cell_type": "code",
      "source": [
        "# filtering for CustomerID 1909369\n",
        "# convert Date column to datetime format\n",
        "orders['Date'] = pd.to_datetime(orders['Date'])\n",
        "\n",
        "# filter for 2021 transactions\n",
        "orders_2021 = orders[orders['Date'].dt.year == 2021]\n",
        "\n",
        "# filter for CustomerID 1909369\n",
        "customer_data = orders_2021[orders_2021['CustomerID'] == 1909369]\n",
        "\n",
        "# calculate total spent\n",
        "total_spent = customer_data['OrderTotal'].sum()\n",
        "\n",
        "# print the result\n",
        "print(f\"CustomerID 1909369 spent a total of ${total_spent:.2f} in 2021\")"
      ],
      "metadata": {
        "id": "C3t1kzUSU-_O",
        "outputId": "87fc8b98-4540-4364-e5f9-d5b3d5e18d86",
        "colab": {
          "base_uri": "https://localhost:8080/"
        }
      },
      "execution_count": 77,
      "outputs": [
        {
          "output_type": "stream",
          "name": "stdout",
          "text": [
            "CustomerID 1909369 spent a total of $0.00 in 2021\n"
          ]
        }
      ]
    },
    {
      "cell_type": "code",
      "source": [
        "#Let's try the same with the rest of the candidates\n",
        "\n",
        "#Brandon\n",
        "\n",
        "brandon_info = file[file['CustomerID']==5172443].iloc[0]\n",
        "print(brandon_info)\n",
        "# convert Date column to datetime format\n",
        "orders['Date'] = pd.to_datetime(orders['Date'])\n",
        "\n",
        "# filter for 2021 transactions\n",
        "orders_2021 = orders[orders['Date'].dt.year == 2021]\n",
        "\n",
        "# filter for CustomerID 5172443\n",
        "customer_data = orders_2021[orders_2021['CustomerID'] == 5172443]\n",
        "\n",
        "# calculate total spent\n",
        "total_spent = customer_data['OrderTotal'].sum()\n",
        "\n",
        "# print the result\n",
        "print(f\"CustomerID 5172443 spent a total of ${total_spent:.2f} in 2021\")"
      ],
      "metadata": {
        "id": "p6fnRgL5Vu8Q",
        "outputId": "7cef7b7b-1ee0-456e-9b95-f7059a286ffd",
        "colab": {
          "base_uri": "https://localhost:8080/"
        }
      },
      "execution_count": 83,
      "outputs": [
        {
          "output_type": "stream",
          "name": "stdout",
          "text": [
            "CustomerID        5172443\n",
            "FirstName         Brandon\n",
            "LastName            Divas\n",
            "City          Los Angeles\n",
            "State                  CA\n",
            "Name: 171, dtype: object\n",
            "CustomerID 5172443 spent a total of $27990.00 in 2021\n"
          ]
        }
      ]
    },
    {
      "cell_type": "code",
      "source": [
        "#Raul\n",
        "raul_info = file[file['CustomerID']==5415408].iloc[0]\n",
        "print(raul_info)\n",
        "# convert Date column to datetime format\n",
        "orders['Date'] = pd.to_datetime(orders['Date'])\n",
        "\n",
        "# filter for 2021 transactions\n",
        "orders_2021 = orders[orders['Date'].dt.year == 2021]\n",
        "\n",
        "# filter for CustomerID 5415408\n",
        "customer_data = orders_2021[orders_2021['CustomerID'] == 5415408]\n",
        "\n",
        "# calculate total spent\n",
        "total_spent = customer_data['OrderTotal'].sum()\n",
        "\n",
        "# print the result\n",
        "print(f\"CustomerID 5415408 spent a total of ${total_spent:.2f} in 2021\")"
      ],
      "metadata": {
        "id": "S4yyaLpaYdMw",
        "outputId": "eedfc8bd-13de-4732-d8e3-47918f7b111a",
        "colab": {
          "base_uri": "https://localhost:8080/"
        }
      },
      "execution_count": 84,
      "outputs": [
        {
          "output_type": "stream",
          "name": "stdout",
          "text": [
            "CustomerID      5415408\n",
            "FirstName          Raul\n",
            "LastName        Herrera\n",
            "City          Inglewood\n",
            "State                CA\n",
            "Name: 582, dtype: object\n",
            "CustomerID 5415408 spent a total of $0.00 in 2021\n"
          ]
        }
      ]
    },
    {
      "cell_type": "code",
      "source": [
        "#Frances\n",
        "frances_info = file[file['CustomerID']==5172680].iloc[0]\n",
        "print(frances_info)\n",
        "# convert Date column to datetime format\n",
        "orders['Date'] = pd.to_datetime(orders['Date'])\n",
        "\n",
        "# filter for 2021 transactions\n",
        "orders_2021 = orders[orders['Date'].dt.year == 2021]\n",
        "\n",
        "# filter for CustomerID 5172680\n",
        "customer_data = orders_2021[orders_2021['CustomerID'] == 5172680]\n",
        "\n",
        "# calculate total spent\n",
        "total_spent = customer_data['OrderTotal'].sum()\n",
        "\n",
        "# print the result\n",
        "print(f\"CustomerID 5172680 spent a total of ${total_spent:.2f} in 2021\")"
      ],
      "metadata": {
        "id": "d9MKq6VEZU33",
        "outputId": "d42a2a63-b352-425a-83db-afb87d9570e3",
        "colab": {
          "base_uri": "https://localhost:8080/"
        }
      },
      "execution_count": 85,
      "outputs": [
        {
          "output_type": "stream",
          "name": "stdout",
          "text": [
            "CustomerID    5172680\n",
            "FirstName     Frances\n",
            "LastName      Marquez\n",
            "City           Oxnard\n",
            "State              CA\n",
            "Name: 472, dtype: object\n",
            "CustomerID 5172680 spent a total of $0.00 in 2021\n"
          ]
        }
      ]
    },
    {
      "cell_type": "code",
      "source": [
        "#Kenneth\n",
        "ken_info = file[file['CustomerID']==4700014].iloc[0]\n",
        "print(ken_info)\n",
        "# convert Date column to datetime format\n",
        "orders['Date'] = pd.to_datetime(orders['Date'])\n",
        "\n",
        "# filter for 2021 transactions\n",
        "orders_2021 = orders[orders['Date'].dt.year == 2021]\n",
        "\n",
        "# filter for CustomerID 4700014\n",
        "customer_data = orders_2021[orders_2021['CustomerID'] == 4700014]\n",
        "\n",
        "# calculate total spent\n",
        "total_spent = customer_data['OrderTotal'].sum()\n",
        "\n",
        "# print the result\n",
        "print(f\"CustomerID 4700014 spent a total of ${total_spent:.2f} in 2021\")"
      ],
      "metadata": {
        "id": "krZ3HFiXZqhd",
        "outputId": "352e2df1-d76b-4530-f4ab-f9cd4122e98d",
        "colab": {
          "base_uri": "https://localhost:8080/"
        }
      },
      "execution_count": 87,
      "outputs": [
        {
          "output_type": "stream",
          "name": "stdout",
          "text": [
            "CustomerID       4700014\n",
            "FirstName        Kenneth\n",
            "LastName           Jones\n",
            "City          Long Beach\n",
            "State                 CA\n",
            "Name: 436, dtype: object\n",
            "CustomerID 4700014 spent a total of $1042.00 in 2021\n"
          ]
        }
      ]
    },
    {
      "cell_type": "code",
      "source": [
        "customer_totals = orders_2021.groupby(['CustomerID'])['OrderTotal'].sum()\n",
        "customer_totals.sort_values(ascending=False)"
      ],
      "metadata": {
        "id": "MdAehFyQWVJK",
        "outputId": "407001cf-2fc6-4103-f808-03bc394efb02",
        "colab": {
          "base_uri": "https://localhost:8080/"
        }
      },
      "execution_count": 72,
      "outputs": [
        {
          "output_type": "execute_result",
          "data": {
            "text/plain": [
              "CustomerID\n",
              "5464       56170.0\n",
              "5172443    27990.0\n",
              "5100595    22748.0\n",
              "5572       19236.0\n",
              "1902406    18430.0\n",
              "            ...   \n",
              "5370758      105.0\n",
              "5370602      105.0\n",
              "5370884      105.0\n",
              "5370422       95.0\n",
              "5370388       90.0\n",
              "Name: OrderTotal, Length: 342, dtype: float64"
            ]
          },
          "metadata": {},
          "execution_count": 72
        }
      ]
    },
    {
      "cell_type": "code",
      "source": [
        "#According with this information and the options available, the customer who spent the most was Brandon.\n",
        "#However, his amount doesn't match was given and doesn't match my initial analysis. I'd love to know what went wrong :) "
      ],
      "metadata": {
        "id": "JE8844zNaclr"
      },
      "execution_count": null,
      "outputs": []
    },
    {
      "cell_type": "markdown",
      "metadata": {
        "id": "ie0JW4FAk6Os"
      },
      "source": [
        "# Finished!\n",
        "\n",
        "Hope this was not too difficult and slicing and dicing the datasets was some fun. Now head on back to the course and provide the answers to the questions from this exercise."
      ]
    }
  ],
  "metadata": {
    "colab": {
      "name": "customers_and_orders.ipynb",
      "provenance": []
    },
    "kernelspec": {
      "display_name": "Python 3 (ipykernel)",
      "language": "python",
      "name": "python3"
    },
    "language_info": {
      "codemirror_mode": {
        "name": "ipython",
        "version": 3
      },
      "file_extension": ".py",
      "mimetype": "text/x-python",
      "name": "python",
      "nbconvert_exporter": "python",
      "pygments_lexer": "ipython3",
      "version": "3.9.9"
    }
  },
  "nbformat": 4,
  "nbformat_minor": 0
}