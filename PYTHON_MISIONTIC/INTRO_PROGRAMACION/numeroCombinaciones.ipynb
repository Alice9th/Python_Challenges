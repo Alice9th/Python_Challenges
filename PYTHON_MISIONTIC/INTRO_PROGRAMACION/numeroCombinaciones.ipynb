{
 "cells": [
  {
   "cell_type": "code",
   "execution_count": null,
   "metadata": {},
   "outputs": [],
   "source": [
    "import  misFunciones.py\n",
    "\n",
    " \n",
    "n = int(input(\"Entre valor de n \"))\n",
    "\n",
    "r = int(input(\"Entre valor de r \"))\n",
    "\n",
    "fn = misFunciones.factorial(n)\n",
    "\n",
    "fr = misFunciones.factorial(r)\n",
    "\n",
    "fnr = misFunciones.factorial(n - r)\n",
    "\n",
    "nc = fn // fr // fnr\n",
    "\n",
    "print(n, r, fn, fr, fnr, nc)"
   ]
  },
  {
   "cell_type": "code",
   "execution_count": null,
   "metadata": {},
   "outputs": [],
   "source": []
  }
 ],
 "metadata": {
  "kernelspec": {
   "display_name": "Python 3",
   "language": "python",
   "name": "python3"
  },
  "language_info": {
   "codemirror_mode": {
    "name": "ipython",
    "version": 3
   },
   "file_extension": ".py",
   "mimetype": "text/x-python",
   "name": "python",
   "nbconvert_exporter": "python",
   "pygments_lexer": "ipython3",
   "version": "3.8.5"
  }
 },
 "nbformat": 4,
 "nbformat_minor": 4
}
