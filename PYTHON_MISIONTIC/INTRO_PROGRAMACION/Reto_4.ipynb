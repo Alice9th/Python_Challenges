{
 "cells": [
  {
   "cell_type": "code",
   "execution_count": null,
   "metadata": {},
   "outputs": [],
   "source": [
    "def actualizar_estado_pestana(operaciones_usuario, pagina_default):\n",
    "    #ESTA ES LA FUNCIÓN A LA QUE LE DEBES GARANTIZAR LOS RETORNOS REQUERIDOS EN EL ENUNCIADO.\n",
    "    \n",
    "    pila_atras = []\n",
    "    pila_adelante = []\n",
    "    pagina_actual = pagina_default\n",
    "    \n",
    "    for i in operaciones_usuario:\n",
    "        if (i != \"atras\") and (i!= \"adelante\") and (i!= pagina_actual):\n",
    "            pila_atras.append(pagina_actual)\n",
    "            pila_adelante.clear()\n",
    "            pagina_actual = i\n",
    "        elif i == \"atras\":\n",
    "            pila_adelante.append(pagina_actual)\n",
    "            pagina_actual = pila_atras.pop()\n",
    "        elif i == \"adelante\":\n",
    "            pila_atras.append(pagina_actual)\n",
    "            pagina_actual = pila_adelante.pop()\n",
    "            \n",
    "    \n",
    "    return pila_atras, pagina_actual, pila_adelante"
   ]
  }
 ],
 "metadata": {
  "kernelspec": {
   "display_name": "Python 3",
   "language": "python",
   "name": "python3"
  },
  "language_info": {
   "codemirror_mode": {
    "name": "ipython",
    "version": 3
   },
   "file_extension": ".py",
   "mimetype": "text/x-python",
   "name": "python",
   "nbconvert_exporter": "python",
   "pygments_lexer": "ipython3",
   "version": "3.8.5"
  }
 },
 "nbformat": 4,
 "nbformat_minor": 4
}
