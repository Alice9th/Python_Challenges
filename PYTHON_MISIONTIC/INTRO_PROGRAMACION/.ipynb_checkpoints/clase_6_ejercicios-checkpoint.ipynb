{
 "cells": [
  {
   "cell_type": "markdown",
   "metadata": {},
   "source": [
    "## Ejercicios"
   ]
  },
  {
   "cell_type": "markdown",
   "metadata": {},
   "source": [
    "Realice un programa que dado un diccionario de compras aplique un descuento  y aplique el IVA a los diferentes productos de acuerdo al porcentaje dado"
   ]
  },
  {
   "cell_type": "code",
   "execution_count": 40,
   "metadata": {},
   "outputs": [],
   "source": [
    "compras = {20000: 50, 15000: 15, 10000: 20}\n",
    "#En teoría, key es el valor y value es el descuento"
   ]
  },
  {
   "cell_type": "code",
   "execution_count": 60,
   "metadata": {},
   "outputs": [
    {
     "name": "stdout",
     "output_type": "stream",
     "text": [
      "14250.0\n"
     ]
    }
   ],
   "source": [
    "def descuento(compras):\n",
    "    valor_descuento = 0\n",
    "    suma = 0\n",
    "    for key, value in compras.items():\n",
    "        descuento = key*value/100\n",
    "        valor_descuento += descuento\n",
    "        #iva = value*(value*0.19)\n",
    "        #suma += iva\n",
    "        suma += descuento \n",
    "    return suma\n",
    "print(descuento(compras))"
   ]
  },
  {
   "cell_type": "code",
   "execution_count": 59,
   "metadata": {},
   "outputs": [
    {
     "data": {
      "text/plain": [
       "14250.0"
      ]
     },
     "execution_count": 59,
     "metadata": {},
     "output_type": "execute_result"
    }
   ],
   "source": [
    "descuento(compras)"
   ]
  },
  {
   "cell_type": "code",
   "execution_count": 42,
   "metadata": {},
   "outputs": [
    {
     "name": "stdout",
     "output_type": "stream",
     "text": [
      "800.0\n"
     ]
    }
   ],
   "source": [
    "def AplicarDescuento(productos): \n",
    "    newValue = 0 \n",
    "    suma = 0 \n",
    "    for key, value in productos.items(): \n",
    "        newValue = key*(1-(value/100)) \n",
    "        suma += newValue \n",
    "        return suma \n",
    "productos = { 1000: 20, 25000: 15, 1800: 5 } \n",
    "print(AplicarDescuento(productos)) "
   ]
  },
  {
   "cell_type": "code",
   "execution_count": 1,
   "metadata": {},
   "outputs": [
    {
     "name": "stdout",
     "output_type": "stream",
     "text": [
      "800.0\n"
     ]
    }
   ],
   "source": [
    "listaCompras = {8000:10, 10000:8, 12000:11, 15000:13 }\n",
    "\n",
    "def calculoDescuento(compras):\n",
    "    contenedor = 0\n",
    "    for key in compras:\n",
    "        calculo = key * compras[key]/100\n",
    "        contenedor = contenedor + calculo\n",
    "        return(contenedor)\n",
    "print(calculoDescuento(listaCompras)) "
   ]
  },
  {
   "cell_type": "code",
   "execution_count": 2,
   "metadata": {},
   "outputs": [
    {
     "name": "stdout",
     "output_type": "stream",
     "text": [
      "8000.0\n"
     ]
    }
   ],
   "source": [
    "def descuento(diccionario): \n",
    "    valor_desc=0 \n",
    "    suma=0 \n",
    "    for valor in diccionario: \n",
    "        valor_desc=valor-(valor*diccionario[valor])/100 \n",
    "        suma=suma+valor_desc \n",
    "        return suma \n",
    "\n",
    "compras={10000:20, 50000:10, 20000:2, 48500:15 } \n",
    "print(descuento(compras))"
   ]
  },
  {
   "cell_type": "code",
   "execution_count": 5,
   "metadata": {},
   "outputs": [
    {
     "name": "stdout",
     "output_type": "stream",
     "text": [
      "7000.0\n",
      "7000.0\n"
     ]
    }
   ],
   "source": [
    "almacen = { 10000 : 30, 5000 : 20, 7000 : 10, 2500 : 5 } \n",
    "\n",
    "def desc(almacen): \n",
    "    total = 0 \n",
    "    for key, value in almacen.items(): \n",
    "        final = key - ((key/100)*value) \n",
    "        print (final) \n",
    "        total += final \n",
    "        return total \n",
    "print(desc(almacen)) "
   ]
  },
  {
   "cell_type": "code",
   "execution_count": 6,
   "metadata": {},
   "outputs": [
    {
     "name": "stdout",
     "output_type": "stream",
     "text": [
      "250.0\n"
     ]
    }
   ],
   "source": [
    "listas_de_compras = {\"10000\" : 13, \"1200\" : 2, \"5400\" : 16, \"3450\": 11 } \n",
    "lista_de_compras2 = {\"500\": 50, \"2000\": 70} \n",
    "\n",
    "def descuento (lista_a_consultar):\n",
    "    suma = 0 \n",
    "    for key, value in lista_a_consultar.items(): \n",
    "        valor = float(key) \n",
    "        descuento = valor*value/100 \n",
    "        suma += valor-descuento \n",
    "        return suma \n",
    "print(descuento(lista_de_compras2)) "
   ]
  },
  {
   "cell_type": "code",
   "execution_count": 11,
   "metadata": {},
   "outputs": [],
   "source": [
    "diccionario_descuento = { 20000 : 50, 15000 : 15, 30000 : 20, 12500 : 5 } \n",
    "\n",
    "def descuento(valor_descuento):\n",
    "    valor_descuento=0 \n",
    "    for key, value in diccionario_descuento.items(): \n",
    "        valor_descuento = key-((key*100)/value) \n",
    "    return (valor_descuento)"
   ]
  },
  {
   "cell_type": "code",
   "execution_count": null,
   "metadata": {},
   "outputs": [],
   "source": []
  }
 ],
 "metadata": {
  "kernelspec": {
   "display_name": "Python 3",
   "language": "python",
   "name": "python3"
  },
  "language_info": {
   "codemirror_mode": {
    "name": "ipython",
    "version": 3
   },
   "file_extension": ".py",
   "mimetype": "text/x-python",
   "name": "python",
   "nbconvert_exporter": "python",
   "pygments_lexer": "ipython3",
   "version": "3.8.5"
  }
 },
 "nbformat": 4,
 "nbformat_minor": 4
}
