{
 "cells": [
  {
   "cell_type": "markdown",
   "metadata": {},
   "source": [
    "Se llama matriz de orden m * n a todo conjunto rectangular de elementos aij dispuestos en m líneas horizontales (filas) y n líneas verticales (columnas"
   ]
  },
  {
   "cell_type": "code",
   "execution_count": null,
   "metadata": {},
   "outputs": [],
   "source": [
    "mat = []*6\n",
    "for i in range(6):\n",
    "    a = [0]*8\n",
    "    mat.append(a)"
   ]
  },
  {
   "cell_type": "code",
   "execution_count": null,
   "metadata": {},
   "outputs": [],
   "source": [
    "mat"
   ]
  },
  {
   "cell_type": "code",
   "execution_count": null,
   "metadata": {},
   "outputs": [],
   "source": [
    "m = len(mat)\n",
    "m"
   ]
  },
  {
   "cell_type": "code",
   "execution_count": null,
   "metadata": {},
   "outputs": [],
   "source": [
    "n = len(mat[0])\n",
    "n"
   ]
  },
  {
   "cell_type": "code",
   "execution_count": null,
   "metadata": {},
   "outputs": [],
   "source": [
    "import random\n",
    "m = int(input(\"\\nEntre número de filas de la matriz: \"))\n",
    "n = int(input(\"\\nEntre número de columnas de la matriz: \"))\n",
    "mat = [] * (m+1)\n",
    "for i in range(m+1):\n",
    "    a = [0]*(n+1)\n",
    "    mat.append(a)\n",
    "for i in range(1, m + 1):\n",
    "    for j in range(1, n + 1):\n",
    "            mat[i][j] = random.randint(0, 9)"
   ]
  },
  {
   "cell_type": "code",
   "execution_count": null,
   "metadata": {},
   "outputs": [],
   "source": [
    "mat"
   ]
  },
  {
   "cell_type": "code",
   "execution_count": null,
   "metadata": {},
   "outputs": [],
   "source": [
    "def __init__(self, m, n):\n",
    "    self.m = m\n",
    "    self.n = n\n",
    "    self.mat = [] * (m + 1)\n",
    "    for i in range(m + 1):\n",
    "        a = [0] * (n + 1)\n",
    "    self.mat.append(a)"
   ]
  },
  {
   "cell_type": "code",
   "execution_count": null,
   "metadata": {},
   "outputs": [],
   "source": [
    "a = mat(6, 8)"
   ]
  },
  {
   "cell_type": "code",
   "execution_count": null,
   "metadata": {},
   "outputs": [],
   "source": [
    "def construyeMatriz(self, r = 100):\n",
    "       for i in range(1, self.m + 1):\n",
    "             for j in range(1, self.n +1):\n",
    "                      self.mat[i][j] = random.randint(1, r)"
   ]
  },
  {
   "cell_type": "markdown",
   "metadata": {},
   "source": [
    "## Recorrido por filas"
   ]
  },
  {
   "cell_type": "code",
   "execution_count": null,
   "metadata": {},
   "outputs": [],
   "source": [
    "def imprimeMatrizPorFilas(self, mensaje=\"Matriz sin nombre \"):\n",
    "    print(\"\\n\", mensaje)\n",
    "    for i inrange(1, self.m + 1):\n",
    "        for j in range(1, self.n + 1):\n",
    "            print(self.mat[i][j], \"\\t\", end=\"\")\n",
    "            print()"
   ]
  },
  {
   "cell_type": "markdown",
   "metadata": {},
   "source": [
    "## Recorrido por columnas"
   ]
  },
  {
   "cell_type": "code",
   "execution_count": null,
   "metadata": {},
   "outputs": [],
   "source": [
    "def imprimeMatrizPorColumnas(self, mensaje=\"Matriz sin nombre \"):\n",
    "       print(\"\\n\", mensaje)\n",
    "    for i inrange(1, self.n + 1):\n",
    "        for j in range(1, self.m + 1):\n",
    "            print(self.mat[j][i], \"\\t\", end=\"\")\n",
    "            print()"
   ]
  },
  {
   "cell_type": "markdown",
   "metadata": {},
   "source": [
    "Según la forma, las matrices pueden ser rectangulares o cuadradas. Matrices rectangulares son aquellas en las que el número de filas es diferente del número de columnas, y matrices cuadradas son aquellas en las que el número de filas es igual al número de columnas. \n",
    "\n",
    "Según la distribución de sus datos, existen muchas clases de matrices. Entre ellas podemos destacar las siguientes: \n",
    "\n",
    "\n",
    "1. Matriz simétrica: es una matriz cuadrada en la que el dato de una celda de la fila i columna j es igual al dato de la fila j columna i.\n",
    "\n",
    "\n",
    "2. Matriz identidad: es una matriz cuadrada en la que todos los elementos son 0, excepto los de la diagonal principal, que son 1. Los elementos de la diagonal principal son aquellos en los cuales la fila es igual a la columna.\n",
    "\n",
    "\n",
    "3. Matriz triangular inferior: es una matriz cuadrada en la que los únicos elementos diferentes de 0 son los de la diagonal principal y los que están debajo de ella.\n",
    "\n",
    "\n",
    "4. Matriz triangular superior: es una matriz cuadrada en la que los únicos elementos diferentes de 0 son los de la diagonal principal y los que están por encima de ella.\n",
    "\n",
    "\n",
    "5. Matriz diagonal: es una matriz cuadrada en la que los únicos elementos diferentes de 0 son los de la diagonal principal."
   ]
  },
  {
   "cell_type": "code",
   "execution_count": null,
   "metadata": {},
   "outputs": [],
   "source": []
  }
 ],
 "metadata": {
  "kernelspec": {
   "display_name": "Python 3",
   "language": "python",
   "name": "python3"
  },
  "language_info": {
   "codemirror_mode": {
    "name": "ipython",
    "version": 3
   },
   "file_extension": ".py",
   "mimetype": "text/x-python",
   "name": "python",
   "nbconvert_exporter": "python",
   "pygments_lexer": "ipython3",
   "version": "3.8.5"
  }
 },
 "nbformat": 4,
 "nbformat_minor": 4
}
