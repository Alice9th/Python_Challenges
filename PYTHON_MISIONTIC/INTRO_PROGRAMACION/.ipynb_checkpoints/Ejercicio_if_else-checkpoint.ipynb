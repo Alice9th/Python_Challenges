{
 "cells": [
  {
   "cell_type": "markdown",
   "metadata": {},
   "source": [
    "# Instrucción if – else plataforma"
   ]
  },
  {
   "cell_type": "code",
   "execution_count": 1,
   "metadata": {},
   "outputs": [
    {
     "name": "stdin",
     "output_type": "stream",
     "text": [
      "Entre salario actual:  500\n"
     ]
    },
    {
     "name": "stdout",
     "output_type": "stream",
     "text": [
      "salario actual = 500.0,aumento = 50.0,nuevo salario = 550.0\n"
     ]
    }
   ],
   "source": [
    "salact = float(input(\"Entre salario actual: \"))\n",
    "au = 0\n",
    "if salact < 1000:\n",
    "    au = salact*0.1\n",
    "    nuesal = salact + au\n",
    "print(f\"salario actual = {salact}\", f\"aumento = {au}\", f\"nuevo salario = {nuesal}\", sep=\",\")"
   ]
  },
  {
   "cell_type": "markdown",
   "metadata": {},
   "source": [
    "## Usando la componente else"
   ]
  },
  {
   "cell_type": "code",
   "execution_count": 3,
   "metadata": {},
   "outputs": [
    {
     "name": "stdin",
     "output_type": "stream",
     "text": [
      "Entre salario actual:  500\n"
     ]
    },
    {
     "name": "stdout",
     "output_type": "stream",
     "text": [
      "salario actual = 500.0,aumento = 50.0,nuevo salario = 550.0\n"
     ]
    }
   ],
   "source": [
    "salact = float(input(\"Entre salario actual: \"))\n",
    "if salact < 1000:\n",
    "    au = salact*0.1\n",
    "else:\n",
    "    au = 0\n",
    "    nuesal = salact + au\n",
    "print(f\"salario actual = {salact}\", f\"aumento = {au}\", f\"nuevo salario = {nuesal}\", sep=\",\")"
   ]
  },
  {
   "cell_type": "markdown",
   "metadata": {},
   "source": [
    "### Leer dos enteros e imprimirlos en orden ascendente (es necesario el else)"
   ]
  },
  {
   "cell_type": "code",
   "execution_count": 4,
   "metadata": {},
   "outputs": [
    {
     "name": "stdin",
     "output_type": "stream",
     "text": [
      "Ingrese un número entero: 2\n",
      "Ingrese otro número entero: 4\n"
     ]
    },
    {
     "name": "stdout",
     "output_type": "stream",
     "text": [
      "2 4\n"
     ]
    }
   ],
   "source": [
    "a = int(input(\"Ingrese un número entero:\"))\n",
    "b = int(input(\"Ingrese otro número entero:\"))\n",
    "\n",
    "if a < b:\n",
    "    print(a,b)\n",
    "else:\n",
    "    print(b,a)"
   ]
  },
  {
   "cell_type": "markdown",
   "metadata": {},
   "source": [
    "# Ejercicios con if else"
   ]
  },
  {
   "cell_type": "markdown",
   "metadata": {},
   "source": [
    "1. Determinar si un numero ingresado por pantalla es divisible por otro numero tambien entrado por pantalla\n",
    "\n",
    "2. Leer tres números enteros y determinar si la suma de ellos da el tercero\n",
    "\n",
    "3. Leer tres numeros enteros y determinar si con ellos se puede construir un triángulo o no"
   ]
  },
  {
   "cell_type": "code",
   "execution_count": 6,
   "metadata": {},
   "outputs": [
    {
     "name": "stdin",
     "output_type": "stream",
     "text": [
      "Ingrese un número entero: 2\n",
      "Ingrese otro número entero: 4\n"
     ]
    },
    {
     "name": "stdout",
     "output_type": "stream",
     "text": [
      "2 no es divisible por  4\n"
     ]
    }
   ],
   "source": [
    "a = int(input(\"Ingrese un número entero:\"))\n",
    "b = int(input(\"Ingrese otro número entero:\"))\n",
    "\n",
    "if a % b == 0:\n",
    "    print(a, \"es divisible por \", b)\n",
    "else:\n",
    "    print(a, \"no es divisible por \", b)"
   ]
  },
  {
   "cell_type": "code",
   "execution_count": 13,
   "metadata": {},
   "outputs": [
    {
     "name": "stdin",
     "output_type": "stream",
     "text": [
      "Ingrese un número entero: 2\n",
      "Ingrese otro número entero: 4\n",
      "Ingrese un tercer número entero: 2\n"
     ]
    },
    {
     "name": "stdout",
     "output_type": "stream",
     "text": [
      "4 es la suma de  2 con 2\n",
      "El juego ha terminado\n"
     ]
    }
   ],
   "source": [
    "a = int(input(\"Ingrese un número entero:\"))\n",
    "b = int(input(\"Ingrese otro número entero:\"))\n",
    "c = int(input(\"Ingrese un tercer número entero:\"))\n",
    "\n",
    "if a + b == c:\n",
    "    print(c, \"es la suma de \", a, \"con\", b)\n",
    "else:\n",
    "    if a + c == b:\n",
    "        print(b, \"es la suma de \", a, \"con\", c)\n",
    "    else:\n",
    "        if b + c == a:\n",
    "            print(a, \"es la suma de \", b, \"con\", c)\n",
    "        else:\n",
    "            print(a,b, \"y\", c, \"no cunplen la condicion\")\n",
    "print(\"El juego ha terminado\")"
   ]
  },
  {
   "cell_type": "code",
   "execution_count": 15,
   "metadata": {},
   "outputs": [
    {
     "name": "stdin",
     "output_type": "stream",
     "text": [
      "Ingrese un número entero: 2\n",
      "Ingrese otro número entero: 3\n",
      "Ingrese un tercer número entero: 4\n"
     ]
    },
    {
     "name": "stdout",
     "output_type": "stream",
     "text": [
      "2 3 y 4 pueden formar un triángulo\n",
      "Fin del triángulo con tres ifs\n"
     ]
    }
   ],
   "source": [
    "a = int(input(\"Ingrese un número entero:\"))\n",
    "b = int(input(\"Ingrese otro número entero:\"))\n",
    "c = int(input(\"Ingrese un tercer número entero:\"))\n",
    "\n",
    "if a + b > c:\n",
    "    if a + c > b:\n",
    "        if b + c > a:\n",
    "            print(a,b, \"y\", c, \"pueden formar un triángulo\")\n",
    "        else:\n",
    "            print(a,b, \"y\", c, \"no pueden formar un triángulo\")\n",
    "            \n",
    "print(\"Fin del triángulo con tres ifs\")\n"
   ]
  },
  {
   "cell_type": "markdown",
   "metadata": {},
   "source": [
    "### Otra forma"
   ]
  },
  {
   "cell_type": "code",
   "execution_count": 20,
   "metadata": {},
   "outputs": [
    {
     "name": "stdin",
     "output_type": "stream",
     "text": [
      "Ingrese un número entero: 50\n",
      "Ingrese otro número entero: 40\n",
      "Ingrese un tercer número entero: 60\n"
     ]
    },
    {
     "name": "stdout",
     "output_type": "stream",
     "text": [
      "50 40 y 60 pueden formar un triángulo\n"
     ]
    }
   ],
   "source": [
    "a = int(input(\"Ingrese un número entero:\"))\n",
    "b = int(input(\"Ingrese otro número entero:\"))\n",
    "c = int(input(\"Ingrese un tercer número entero:\"))\n",
    "\n",
    "if a + b > c and a + c > b and b + c > a:\n",
    "            print(a,b, \"y\", c, \"pueden formar un triángulo\")\n",
    "else:\n",
    "            print(a,b, \"y\", c, \"no pueden formar un triángulo\")"
   ]
  },
  {
   "cell_type": "markdown",
   "metadata": {},
   "source": [
    "# Instrucciones de desición anidadas"
   ]
  },
  {
   "cell_type": "markdown",
   "metadata": {},
   "source": [
    "## Ejercicios: caracterización de aptitudes"
   ]
  },
  {
   "cell_type": "code",
   "execution_count": 22,
   "metadata": {},
   "outputs": [
    {
     "name": "stdin",
     "output_type": "stream",
     "text": [
      "Ingrese el nombre:  Julieta\n",
      "Ingrese 0 si es mujer o 0 si es hombre:  0\n",
      "Ingrese la estatura:  181\n",
      "Ingrese el peso:  75\n"
     ]
    },
    {
     "name": "stdout",
     "output_type": "stream",
     "text": [
      "Reina de belleza\n",
      "Paciente caracterizado\n"
     ]
    }
   ],
   "source": [
    "nombre = input(\"Ingrese el nombre: \")\n",
    "genero = int(input(\"Ingrese 0 si es mujer o 0 si es hombre: \"))\n",
    "estatura = int(input(\"Ingrese la estatura: \"))\n",
    "peso = int(input(\"Ingrese el peso: \"))\n",
    "\n",
    "if estatura > 180:\n",
    "    if peso > 70:\n",
    "        if genero == 0:\n",
    "            print(\"Reina de belleza\")\n",
    "        else:\n",
    "            print(\"Cantautor\")\n",
    "    else:\n",
    "        print(\"Árbitro de fútbol\")\n",
    "else:\n",
    "    print(\"Jugador de parqués\")\n",
    "\n",
    "print(\"Paciente caracterizado\")\n"
   ]
  },
  {
   "cell_type": "markdown",
   "metadata": {},
   "source": [
    "# Ejercicios con la instrucción if-else anidadas"
   ]
  },
  {
   "cell_type": "markdown",
   "metadata": {},
   "source": [
    "Construya un programa que lea tres numeros enteros y los escriba ordenados de manera ascendente"
   ]
  },
  {
   "cell_type": "code",
   "execution_count": 37,
   "metadata": {},
   "outputs": [
    {
     "name": "stdin",
     "output_type": "stream",
     "text": [
      "entre un número  6\n",
      "entre otro número  2\n",
      "entre un tercer número  8\n"
     ]
    }
   ],
   "source": [
    "a = int(input(\"entre un número \"))\n",
    "b = int(input(\"entre otro número \"))\n",
    "c = int(input(\"entre un tercer número \"))"
   ]
  },
  {
   "cell_type": "code",
   "execution_count": 38,
   "metadata": {},
   "outputs": [
    {
     "name": "stdout",
     "output_type": "stream",
     "text": [
      "b 2 a 6 c 8\n"
     ]
    }
   ],
   "source": [
    "if a < b and b < c:\n",
    "    print(a,b,c)\n",
    "if a < c and c < b:\n",
    "    print(\"a\", a, \"c\", c, \"b\", b)\n",
    "if b < a and a < c:\n",
    "    print(\"b\", b, \"a\", a, \"c\", c)\n",
    "if b < c and c < a:\n",
    "    print(\"b\", b, \"c\", c, \"a\", a)\n",
    "if c < a and a < b:\n",
    "    print(\"c\", c, \"a\", a, \"b\", b)\n",
    "if c < b and b < c:\n",
    "    print(\"c\", c, \"b\", b, \"a\", a)"
   ]
  },
  {
   "cell_type": "markdown",
   "metadata": {},
   "source": [
    "### Comparacion compuesta"
   ]
  },
  {
   "cell_type": "code",
   "execution_count": 39,
   "metadata": {},
   "outputs": [
    {
     "name": "stdout",
     "output_type": "stream",
     "text": [
      "b 2 a 6 c 8\n"
     ]
    }
   ],
   "source": [
    "if a <= b and b <= c:\n",
    "    print(a,b,c)\n",
    "if a <= c and c <= b:\n",
    "    print(\"a\", a, \"c\", c, \"b\", b)\n",
    "if b <= a and a <= c:\n",
    "    print(\"b\", b, \"a\", a, \"c\", c)\n",
    "if b <= c and c <= a:\n",
    "    print(\"b\", b, \"c\", c, \"a\", a)\n",
    "if c <= a and a <= b:\n",
    "    print(\"c\", c, \"a\", a, \"b\", b)\n",
    "if c <= b and b <= c:\n",
    "    print(\"c\", c, \"b\", b, \"a\", a)"
   ]
  },
  {
   "cell_type": "markdown",
   "metadata": {},
   "source": [
    "### La mejor solucion:"
   ]
  },
  {
   "cell_type": "code",
   "execution_count": 42,
   "metadata": {},
   "outputs": [
    {
     "name": "stdin",
     "output_type": "stream",
     "text": [
      "Entre un número entero:  3\n",
      "Entre otro número entero:  4\n",
      "Entre un tercer número entero:  6\n"
     ]
    },
    {
     "name": "stdout",
     "output_type": "stream",
     "text": [
      "a 3 b 4 c 6\n"
     ]
    }
   ],
   "source": [
    "a= int(input(\"Entre un número entero: \"))\n",
    "\n",
    "b = int(input(\"Entre otro número entero: \"))\n",
    "\n",
    "c = int(input(\"Entre un tercer número entero: \"))\n",
    "\n",
    "if a <= b and b <= c:\n",
    "\n",
    "        print(\"a\", a, \"b\", b, \"c\", c)\n",
    "\n",
    "else:\n",
    "    \n",
    "    if a <= c and c <= b:\n",
    "\n",
    "              print(\"a\", a, \"c\", c, \"b\", b)\n",
    "\n",
    "    else:\n",
    "        \n",
    "        \n",
    "        if b <= a and a <= c:\n",
    "\n",
    "                     print(\"b\", b, \"a\", a, \"c\", c)\n",
    "\n",
    "        else:\n",
    "            \n",
    "            \n",
    "            if b <= c and c <= a:\n",
    "\n",
    "                         print(\"b\", b, \"c\", c, \"a\", a)\n",
    "\n",
    "            else:\n",
    "                \n",
    "                if c <= a and a <= b:\n",
    "\n",
    "                                print(\"c\", c, \"a\", a, \"b\", b)\n",
    "\n",
    "                else:\n",
    "\n",
    "                                print(\"c\", c, \"b\", b, \"a\", a)"
   ]
  },
  {
   "cell_type": "markdown",
   "metadata": {},
   "source": [
    "### Otra opcion:"
   ]
  },
  {
   "cell_type": "code",
   "execution_count": 49,
   "metadata": {},
   "outputs": [
    {
     "name": "stdin",
     "output_type": "stream",
     "text": [
      "Entre un número entero:  4\n",
      "Entre otro número entero:  6\n",
      "Entre un tercer número entero:  8\n"
     ]
    },
    {
     "name": "stdout",
     "output_type": "stream",
     "text": [
      "a 4 b 6 c 8\n"
     ]
    }
   ],
   "source": [
    "a = int(input(\"Entre un número entero: \"))\n",
    "\n",
    "b = int(input(\"Entre otro número entero: \"))\n",
    "\n",
    "c = int(input(\"Entre un tercer número entero: \"))\n",
    "\n",
    "if a < b:\n",
    "    \n",
    "    if b < c:\n",
    "        print(\"a\", a, \"b\", b, \"c\", c)\n",
    "        \n",
    "    else:\n",
    "            \n",
    "            if a < c:\n",
    "                print(\"a\", a, \"c\", c, \"b\", b)\n",
    "                \n",
    "            else:\n",
    "                print(\"c\", c, \"a\", a, \"b\", b)            \n",
    "                \n",
    "                if a < c:\n",
    "                    print(\"b\", b, \"a\", a, \"c\", c)\n",
    "                    \n",
    "                else:\n",
    "                    \n",
    "                    if b < c:\n",
    "                        print(\"b\", b, \"c\", c, \"a\", a)\n",
    "                    else:\n",
    "\n",
    "                        print(\"c\", c, \"b\", b, \"a\", a)"
   ]
  },
  {
   "cell_type": "markdown",
   "metadata": {},
   "source": [
    "## Ejercicios if-elif-else"
   ]
  },
  {
   "cell_type": "code",
   "execution_count": 2,
   "metadata": {},
   "outputs": [
    {
     "name": "stdin",
     "output_type": "stream",
     "text": [
      "Ingrese su nombre Julian\n",
      "Julian, ingrese su profesion indicando el numero al que pertenece 2\n"
     ]
    },
    {
     "name": "stdout",
     "output_type": "stream",
     "text": [
      "Ingenieros:  0 \n",
      "Abogados:  1 \n",
      "Medicos:  0 \n",
      "Otros:  0\n"
     ]
    }
   ],
   "source": [
    "ingenieros = abogados = medicos = otros = 0\n",
    "nombre = input(\"Ingrese su nombre\")\n",
    "profesion = int(input(f\"{nombre}, ingrese su profesion indicando el numero al que pertenece\"))\n",
    "if profesion == 1:\n",
    "    ingenieros = ingenieros + 1\n",
    "elif profesion == 2:\n",
    "    abogados = abogados +1\n",
    "elif profesion == 3:\n",
    "    medicos +=1\n",
    "else:\n",
    "    otros +=1\n",
    "print(\"Ingenieros: \", ingenieros, \"\\nAbogados: \", abogados, \"\\nMedicos: \", medicos, \"\\nOtros: \", otros)\n",
    "\n"
   ]
  },
  {
   "cell_type": "code",
   "execution_count": 3,
   "metadata": {},
   "outputs": [
    {
     "name": "stdin",
     "output_type": "stream",
     "text": [
      "Ingrese su nombre Alice\n",
      "Ingrese su estado civil indicando el numero al que pertenece 2\n"
     ]
    },
    {
     "name": "stdout",
     "output_type": "stream",
     "text": [
      "Alice Casado\n"
     ]
    }
   ],
   "source": [
    "nombre = input(\"Ingrese su nombre\")\n",
    "estadoCivil = int(input(\"Ingrese su estado civil indicando el numero al que pertenece\"))\n",
    "if estadoCivil == 1:\n",
    "    print(nombre, \"Soltero\")\n",
    "elif estadoCivil == 2:\n",
    "    print(nombre, \"Casado\")\n",
    "elif estadoCivil == 3:\n",
    "    print(nombre, \"Separado\")\n",
    "elif estadoCivil == 4:\n",
    "    print(nombre, \"Divorciado\")\n",
    "elif estadoCivil == 5:\n",
    "    print(nombre, \"Union Libre\")    \n",
    "else:\n",
    "    print(\"Estado civil inválido\")"
   ]
  },
  {
   "cell_type": "markdown",
   "metadata": {},
   "source": [
    "## Ejercicios de la plataforma"
   ]
  },
  {
   "cell_type": "markdown",
   "metadata": {},
   "source": [
    "### Estado civil (solucion 2)"
   ]
  },
  {
   "cell_type": "code",
   "execution_count": null,
   "metadata": {},
   "outputs": [],
   "source": [
    "nombre = input(\"Entre nombre: \")\n",
    "estadoCivil = int(input(f\"{nombre} teclee su estado civil: \"))\n",
    "if estadoCivil == 1:\n",
    "     print(nombre, \"Soltero\")\n",
    "if estadoCivil == 2:\n",
    "     print(nombre, \"Casado\")\n",
    "if estadoCivil == 3:\n",
    "     print(nombre, \"Separado\")\n",
    "if estadoCivil == 4:\n",
    "     print(nombre, \"Viudo\")\n",
    "if estadoCivil == 5:\n",
    "     print(nombre, \"Unión libre\")\n",
    "if estadoCivil != 1 and estadoCivil != 2 and estadoCivil != 3 and estadoCivil != 4 and estadoCivil != 5:\n",
    "     print(\"Estado civil inválido\")"
   ]
  },
  {
   "cell_type": "markdown",
   "metadata": {},
   "source": [
    "Este algoritmo tiene el “inconveniente” de que, si el estado civil es 1, al hacer la primera comparación escribe el nombre y la descripción “soltero” y sigue preguntando inoficiosamente si el estado civil es 2, o 3, o 4, o 5, y, más aún, al final pregunta si el estado civil es diferente de 1."
   ]
  },
  {
   "cell_type": "markdown",
   "metadata": {},
   "source": [
    "### Estado civil (solucion 3)"
   ]
  },
  {
   "cell_type": "code",
   "execution_count": null,
   "metadata": {},
   "outputs": [],
   "source": [
    "nombre = input(\"Entre nombre: \")\n",
    " estadoCivil = int(input(f\"{nombre} teclee su estado civil: \"))  \n",
    "\n",
    "if estadoCivil == 1:\n",
    "\n",
    "print(nombre, \"Soltero\")\n",
    "\n",
    "else:\n",
    "\n",
    "if estadoCivil == 2:\n",
    "\n",
    "print(nombre, \"Casado\")\n",
    "\n",
    "else:\n",
    "\n",
    "if estadoCivil == 3:\n",
    "\n",
    "print(nombre, \"Separado\")\n",
    "\n",
    "else:\n",
    "\n",
    "if estadoCivil == 4:\n",
    "\n",
    "print(nombre, \"Viudo\")\n",
    "\n",
    "else:\n",
    "\n",
    "if estadoCivil == 5:\n",
    "\n",
    "print(nombre, \"Unión libre\")\n",
    "\n",
    "else:\n",
    "\n",
    "if estadoCivil != 1 and estadoCivil != 2 and estadoCivil != 3 and estadoCivil != 4 and estadoCivil != 5:\n",
    "\n",
    "                         print(\"Estado civil inválido\")"
   ]
  },
  {
   "cell_type": "markdown",
   "metadata": {},
   "source": [
    "Con este algoritmo evitamos hacer preguntas inoficiosas. Pero, usando la estructura if – elif – else, construimos un algoritmo más sencillo, más compacto y más legible. Ese algoritmo es:"
   ]
  },
  {
   "cell_type": "markdown",
   "metadata": {},
   "source": [
    "### Estado civil (solucion 4)"
   ]
  },
  {
   "cell_type": "code",
   "execution_count": null,
   "metadata": {},
   "outputs": [],
   "source": [
    "nombre = input(\"Entre nombre: \")\n",
    "estadoCivil = int(input(f\"{nombre} teclee su estado civil: \"))\n",
    "if estadoCivil == 1:\n",
    "    print(nombre, \"Soltero\")\n",
    "elif estadoCivil == 2:\n",
    "    print(nombre, \"Casado\")\n",
    "elif estadoCivil == 3:\n",
    "    print(nombre, \"Separado\")\n",
    "elif estadoCivil == 4:\n",
    "    print(nombre, \"Viudo\")\n",
    "elif estadoCivil == 5:\n",
    "    print(nombre, \"Unión libre\")\n",
    "else:\n",
    "    print(\"Estado civil inválido\")"
   ]
  },
  {
   "cell_type": "markdown",
   "metadata": {},
   "source": [
    "# Ejercicio salario"
   ]
  },
  {
   "cell_type": "code",
   "execution_count": 3,
   "metadata": {},
   "outputs": [
    {
     "name": "stdin",
     "output_type": "stream",
     "text": [
      "entre su nombre  Alice\n",
      "Alice entre su estado civil  1\n",
      "Alice entre su edad  27\n",
      "Alice entre su salario  2300\n"
     ]
    },
    {
     "name": "stdout",
     "output_type": "stream",
     "text": [
      "Alice Soltero edad 27 salario 2300 Porcentaje de aumento 0.1 Aumento: 230.0 Nuevo salario 2530.0\n"
     ]
    }
   ],
   "source": [
    "nombre = input(\"entre su nombre \")\n",
    "\n",
    "estadoCivil = int(input(f\"{nombre} entre su estado civil \"))\n",
    "\n",
    "edad = int(input(f\"{nombre} entre su edad \"))\n",
    "\n",
    "salario = int(input(f\"{nombre} entre su salario \"))\n",
    "\n",
    "if   estadoCivil == 1:\n",
    "    desc = \"Soltero\"\n",
    "    if edad < 30:\n",
    "        pau = 0.10\n",
    "    else:\n",
    "        pau = 0.12\n",
    "\n",
    "elif    estadoCivil == 2:\n",
    "    desc = \"Casado\"\n",
    "    if edad < 25:\n",
    "        pau = 0.12\n",
    "    else:\n",
    "        pau = 0.15\n",
    "\n",
    "elif   estadoCivil == 3:\n",
    "    desc = \"Separado\"\n",
    "    if edad < 20:\n",
    "        pau = 0.08\n",
    "    else:\n",
    "        pau = 0.10\n",
    "\n",
    "elif    estadoCivil == 4:\n",
    "    desc = \"Viudo\"\n",
    "    if edad < 30:\n",
    "        pau = 0.15\n",
    "    else:\n",
    "        pau = 0.12\n",
    "\n",
    "elif    estadoCivil == 5:\n",
    "    desc = \"Unión libre\"\n",
    "    if salario < 1000:\n",
    "        pau = 0.20\n",
    "    else:\n",
    "        pau = 0.12\n",
    "\n",
    "else:\n",
    "    desc = \"Estado civil inválido\"\n",
    "    pau = 0.0\n",
    "\n",
    "aumento = salario * pau\n",
    "\n",
    "nuevoSalario = salario + aumento\n",
    "\n",
    "print(nombre, desc, \"edad\", edad, \"salario\", salario, \"Porcentaje de aumento\", pau,\n",
    "\n",
    " \"Aumento\", end=\": \")\n",
    "\n",
    "print(aumento, \"Nuevo salario\", nuevoSalario)"
   ]
  },
  {
   "cell_type": "markdown",
   "metadata": {},
   "source": [
    "# Material de Apoyo"
   ]
  },
  {
   "cell_type": "markdown",
   "metadata": {},
   "source": [
    "## Control de flujo\n",
    "\n",
    "1. ¿Se pueden poner sentencias if dentro de otras sentencias condicionales?\n",
    "\n",
    "Sí, se llaman sentencias compuestas.\n",
    "\"Las sentencias compuestas contienen (grupos de) otras sentencias; estas afectan o controlan la ejecución de esas otras sentencias de alguna manera. En general, las sentencias compuestas abarcan varias líneas, aunque en representaciones simples una sentencia compuesta completa puede estar contenida en una línea.\"\n",
    "\n",
    "2. ¿Es posible que una sentencia tenga más de una condición?\n",
    "\n",
    "Sí, se pueden tener multiples condiciones que equivalen a \"casos\"\n",
    "\n",
    "3. ¿Qué sucede si dejo la condición de una sentencia sin los paréntesis?\n",
    "\n",
    "Supongo que se ejecutará según la jerarquía aritmética y lógica...\n",
    "\n",
    "4. ¿Que pasa si uso un break en un bucle que está dentro de otro?\n",
    "\n",
    "\"Los bucles for y while pueden ser interrumpidos con la sentencia break: cuando se ejecuta, el programa sale del bucle y continúa ejecutando el resto del código\"\n",
    "\n",
    "for x in range(10):\n",
    "    for y in x(10):\n",
    "        print(x*y)\n",
    "        if x*y > 50:\n",
    "            break\n",
    "    else:\n",
    "        continue  # only executed if the inner loop did NOT break\n",
    "    break  # only executed if the inner loop DID break\n",
    "    \n",
    "El código se ejecutará y saltará el break si se cumple la condicion que lo acompaña, el segundo break se ejecutará cuando el primer break se cumpla\n",
    "\n",
    "5. ¿Se puede usar ​range() ​con variables?\n",
    "\n",
    "Sí, siempre y cuando sean números:\n",
    "\" El tipo range es una lista inmutable de números enteros en sucesión aritmética.\""
   ]
  },
  {
   "cell_type": "code",
   "execution_count": 11,
   "metadata": {},
   "outputs": [
    {
     "name": "stdout",
     "output_type": "stream",
     "text": [
      "Awesome\n",
      "Awesome\n",
      "Awesome\n",
      "Awesome\n",
      "Awesome\n"
     ]
    }
   ],
   "source": [
    "a = 5\n",
    "for i in range(a):\n",
    "    if a == 5:\n",
    "        print(\"Awesome\")"
   ]
  },
  {
   "cell_type": "code",
   "execution_count": 12,
   "metadata": {},
   "outputs": [
    {
     "ename": "TypeError",
     "evalue": "'str' object cannot be interpreted as an integer",
     "output_type": "error",
     "traceback": [
      "\u001b[0;31m---------------------------------------------------------------------------\u001b[0m",
      "\u001b[0;31mTypeError\u001b[0m                                 Traceback (most recent call last)",
      "\u001b[0;32m<ipython-input-12-e0d7bac5bb22>\u001b[0m in \u001b[0;36m<module>\u001b[0;34m\u001b[0m\n\u001b[1;32m      1\u001b[0m \u001b[0ma\u001b[0m \u001b[0;34m=\u001b[0m \u001b[0;34m\"Texto\"\u001b[0m\u001b[0;34m\u001b[0m\u001b[0;34m\u001b[0m\u001b[0m\n\u001b[1;32m      2\u001b[0m \u001b[0;34m\u001b[0m\u001b[0m\n\u001b[0;32m----> 3\u001b[0;31m \u001b[0;32mfor\u001b[0m \u001b[0mi\u001b[0m \u001b[0;32min\u001b[0m \u001b[0mrange\u001b[0m\u001b[0;34m(\u001b[0m\u001b[0ma\u001b[0m\u001b[0;34m)\u001b[0m\u001b[0;34m:\u001b[0m\u001b[0;34m\u001b[0m\u001b[0;34m\u001b[0m\u001b[0m\n\u001b[0m\u001b[1;32m      4\u001b[0m     \u001b[0;32mif\u001b[0m \u001b[0ma\u001b[0m \u001b[0;34m==\u001b[0m \u001b[0;34m\"Texto\"\u001b[0m\u001b[0;34m:\u001b[0m\u001b[0;34m\u001b[0m\u001b[0;34m\u001b[0m\u001b[0m\n\u001b[1;32m      5\u001b[0m         \u001b[0mprint\u001b[0m\u001b[0;34m(\u001b[0m\u001b[0;34m\"Awesome\"\u001b[0m\u001b[0;34m)\u001b[0m\u001b[0;34m\u001b[0m\u001b[0;34m\u001b[0m\u001b[0m\n",
      "\u001b[0;31mTypeError\u001b[0m: 'str' object cannot be interpreted as an integer"
     ]
    }
   ],
   "source": [
    "a = \"Texto\"\n",
    "\n",
    "for i in range(a):\n",
    "    if a == \"Texto\":\n",
    "        print(\"Awesome\")"
   ]
  },
  {
   "cell_type": "code",
   "execution_count": null,
   "metadata": {},
   "outputs": [],
   "source": []
  }
 ],
 "metadata": {
  "kernelspec": {
   "display_name": "Python 3",
   "language": "python",
   "name": "python3"
  },
  "language_info": {
   "codemirror_mode": {
    "name": "ipython",
    "version": 3
   },
   "file_extension": ".py",
   "mimetype": "text/x-python",
   "name": "python",
   "nbconvert_exporter": "python",
   "pygments_lexer": "ipython3",
   "version": "3.8.5"
  }
 },
 "nbformat": 4,
 "nbformat_minor": 4
}
