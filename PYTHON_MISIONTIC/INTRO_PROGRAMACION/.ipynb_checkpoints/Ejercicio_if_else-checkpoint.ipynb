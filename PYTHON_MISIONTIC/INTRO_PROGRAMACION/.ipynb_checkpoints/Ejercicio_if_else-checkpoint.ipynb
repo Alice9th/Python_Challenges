{
 "cells": [
  {
   "cell_type": "markdown",
   "metadata": {},
   "source": [
    "# Instrucción if – else plataforma"
   ]
  },
  {
   "cell_type": "code",
   "execution_count": 1,
   "metadata": {},
   "outputs": [
    {
     "name": "stdin",
     "output_type": "stream",
     "text": [
      "Entre salario actual:  500\n"
     ]
    },
    {
     "name": "stdout",
     "output_type": "stream",
     "text": [
      "salario actual = 500.0,aumento = 50.0,nuevo salario = 550.0\n"
     ]
    }
   ],
   "source": [
    "salact = float(input(\"Entre salario actual: \"))\n",
    "au = 0\n",
    "if salact < 1000:\n",
    "    au = salact*0.1\n",
    "    nuesal = salact + au\n",
    "print(f\"salario actual = {salact}\", f\"aumento = {au}\", f\"nuevo salario = {nuesal}\", sep=\",\")"
   ]
  },
  {
   "cell_type": "markdown",
   "metadata": {},
   "source": [
    "## Usando la componente else"
   ]
  },
  {
   "cell_type": "code",
   "execution_count": 3,
   "metadata": {},
   "outputs": [
    {
     "name": "stdin",
     "output_type": "stream",
     "text": [
      "Entre salario actual:  500\n"
     ]
    },
    {
     "name": "stdout",
     "output_type": "stream",
     "text": [
      "salario actual = 500.0,aumento = 50.0,nuevo salario = 550.0\n"
     ]
    }
   ],
   "source": [
    "salact = float(input(\"Entre salario actual: \"))\n",
    "if salact < 1000:\n",
    "    au = salact*0.1\n",
    "else:\n",
    "    au = 0\n",
    "    nuesal = salact + au\n",
    "print(f\"salario actual = {salact}\", f\"aumento = {au}\", f\"nuevo salario = {nuesal}\", sep=\",\")"
   ]
  },
  {
   "cell_type": "markdown",
   "metadata": {},
   "source": [
    "### Leer dos enteros e imprimirlos en orden ascendente (es necesario el else)"
   ]
  },
  {
   "cell_type": "code",
   "execution_count": 4,
   "metadata": {},
   "outputs": [
    {
     "name": "stdin",
     "output_type": "stream",
     "text": [
      "Ingrese un número entero: 2\n",
      "Ingrese otro número entero: 4\n"
     ]
    },
    {
     "name": "stdout",
     "output_type": "stream",
     "text": [
      "2 4\n"
     ]
    }
   ],
   "source": [
    "a = int(input(\"Ingrese un número entero:\"))\n",
    "b = int(input(\"Ingrese otro número entero:\"))\n",
    "\n",
    "if a < b:\n",
    "    print(a,b)\n",
    "else:\n",
    "    print(b,a)"
   ]
  },
  {
   "cell_type": "markdown",
   "metadata": {},
   "source": [
    "# Ejercicios con if else"
   ]
  },
  {
   "cell_type": "markdown",
   "metadata": {},
   "source": [
    "1. Determinar si un numero ingresado por pantalla es divisible por otro numero tambien entrado por pantalla\n",
    "\n",
    "2. Leer tres números enteros y determinar si la suma de ellos da el tercero\n",
    "\n",
    "3. Leer tres numeros enteros y determinar si con ellos se puede construir un triángulo o no"
   ]
  },
  {
   "cell_type": "code",
   "execution_count": 6,
   "metadata": {},
   "outputs": [
    {
     "name": "stdin",
     "output_type": "stream",
     "text": [
      "Ingrese un número entero: 2\n",
      "Ingrese otro número entero: 4\n"
     ]
    },
    {
     "name": "stdout",
     "output_type": "stream",
     "text": [
      "2 no es divisible por  4\n"
     ]
    }
   ],
   "source": [
    "a = int(input(\"Ingrese un número entero:\"))\n",
    "b = int(input(\"Ingrese otro número entero:\"))\n",
    "\n",
    "if a % b == 0:\n",
    "    print(a, \"es divisible por \", b)\n",
    "else:\n",
    "    print(a, \"no es divisible por \", b)"
   ]
  },
  {
   "cell_type": "code",
   "execution_count": 13,
   "metadata": {},
   "outputs": [
    {
     "name": "stdin",
     "output_type": "stream",
     "text": [
      "Ingrese un número entero: 2\n",
      "Ingrese otro número entero: 4\n",
      "Ingrese un tercer número entero: 2\n"
     ]
    },
    {
     "name": "stdout",
     "output_type": "stream",
     "text": [
      "4 es la suma de  2 con 2\n",
      "El juego ha terminado\n"
     ]
    }
   ],
   "source": [
    "a = int(input(\"Ingrese un número entero:\"))\n",
    "b = int(input(\"Ingrese otro número entero:\"))\n",
    "c = int(input(\"Ingrese un tercer número entero:\"))\n",
    "\n",
    "if a + b == c:\n",
    "    print(c, \"es la suma de \", a, \"con\", b)\n",
    "else:\n",
    "    if a + c == b:\n",
    "        print(b, \"es la suma de \", a, \"con\", c)\n",
    "    else:\n",
    "        if b + c == a:\n",
    "            print(a, \"es la suma de \", b, \"con\", c)\n",
    "        else:\n",
    "            print(a,b, \"y\", c, \"no cunplen la condicion\")\n",
    "print(\"El juego ha terminado\")"
   ]
  },
  {
   "cell_type": "code",
   "execution_count": 15,
   "metadata": {},
   "outputs": [
    {
     "name": "stdin",
     "output_type": "stream",
     "text": [
      "Ingrese un número entero: 2\n",
      "Ingrese otro número entero: 3\n",
      "Ingrese un tercer número entero: 4\n"
     ]
    },
    {
     "name": "stdout",
     "output_type": "stream",
     "text": [
      "2 3 y 4 pueden formar un triángulo\n",
      "Fin del triángulo con tres ifs\n"
     ]
    }
   ],
   "source": [
    "a = int(input(\"Ingrese un número entero:\"))\n",
    "b = int(input(\"Ingrese otro número entero:\"))\n",
    "c = int(input(\"Ingrese un tercer número entero:\"))\n",
    "\n",
    "if a + b > c:\n",
    "    if a + c > b:\n",
    "        if b + c > a:\n",
    "            print(a,b, \"y\", c, \"pueden formar un triángulo\")\n",
    "        else:\n",
    "            print(a,b, \"y\", c, \"no pueden formar un triángulo\")\n",
    "            \n",
    "print(\"Fin del triángulo con tres ifs\")\n"
   ]
  },
  {
   "cell_type": "markdown",
   "metadata": {},
   "source": [
    "### Otra forma"
   ]
  },
  {
   "cell_type": "code",
   "execution_count": 20,
   "metadata": {},
   "outputs": [
    {
     "name": "stdin",
     "output_type": "stream",
     "text": [
      "Ingrese un número entero: 50\n",
      "Ingrese otro número entero: 40\n",
      "Ingrese un tercer número entero: 60\n"
     ]
    },
    {
     "name": "stdout",
     "output_type": "stream",
     "text": [
      "50 40 y 60 pueden formar un triángulo\n"
     ]
    }
   ],
   "source": [
    "a = int(input(\"Ingrese un número entero:\"))\n",
    "b = int(input(\"Ingrese otro número entero:\"))\n",
    "c = int(input(\"Ingrese un tercer número entero:\"))\n",
    "\n",
    "if a + b > c and a + c > b and b + c > a:\n",
    "            print(a,b, \"y\", c, \"pueden formar un triángulo\")\n",
    "else:\n",
    "            print(a,b, \"y\", c, \"no pueden formar un triángulo\")"
   ]
  },
  {
   "cell_type": "code",
   "execution_count": null,
   "metadata": {},
   "outputs": [],
   "source": []
  }
 ],
 "metadata": {
  "kernelspec": {
   "display_name": "Python 3",
   "language": "python",
   "name": "python3"
  },
  "language_info": {
   "codemirror_mode": {
    "name": "ipython",
    "version": 3
   },
   "file_extension": ".py",
   "mimetype": "text/x-python",
   "name": "python",
   "nbconvert_exporter": "python",
   "pygments_lexer": "ipython3",
   "version": "3.8.5"
  }
 },
 "nbformat": 4,
 "nbformat_minor": 4
}
