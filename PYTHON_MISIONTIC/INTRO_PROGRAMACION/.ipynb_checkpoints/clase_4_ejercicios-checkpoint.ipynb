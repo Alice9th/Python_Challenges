{
 "cells": [
  {
   "cell_type": "markdown",
   "metadata": {},
   "source": [
    "# Ejercicios clase 4:"
   ]
  },
  {
   "cell_type": "code",
   "execution_count": 1,
   "metadata": {},
   "outputs": [
    {
     "name": "stdin",
     "output_type": "stream",
     "text": [
      "Ingrese un numero:  4\n"
     ]
    },
    {
     "name": "stdout",
     "output_type": "stream",
     "text": [
      "Es un numero par\n"
     ]
    }
   ],
   "source": [
    "numero_usuario = int(input(\"Ingrese un numero: \"))\n",
    "tiene_residuo = numero_usuario%2\n",
    "\n",
    "if tiene_residuo:\n",
    "    print(\"Es un numero impar\")\n",
    "else:\n",
    "    print(\"Es un numero par\")"
   ]
  },
  {
   "cell_type": "markdown",
   "metadata": {},
   "source": [
    "## Pizza"
   ]
  },
  {
   "cell_type": "code",
   "execution_count": 9,
   "metadata": {},
   "outputs": [
    {
     "name": "stdin",
     "output_type": "stream",
     "text": [
      "Ingrese 0 si quiere una pizza vegetariana o 1 para una no vegetariana:  1\n"
     ]
    },
    {
     "name": "stdout",
     "output_type": "stream",
     "text": [
      "Su orden es para una pizza no vegetariana, los ingredientes disponibles son:  ['Pepperoni', 'Jamón', 'Salmón']\n",
      "Su orden es para una pizza no vegetariana, los ingredientes disponibles son:  ['Pimenton', 'Tofu']\n"
     ]
    },
    {
     "name": "stdin",
     "output_type": "stream",
     "text": [
      "Escoja los ingredientes: 1 para Pepperoni, 2 para Jamón, 3 para Salmón o 4 para combinada:  4\n"
     ]
    },
    {
     "name": "stdout",
     "output_type": "stream",
     "text": [
      "Ha escogido una pizza combinada, escoja la combinación: \n"
     ]
    },
    {
     "name": "stdin",
     "output_type": "stream",
     "text": [
      "Ingrese el primer ingrediente de la combinación:  1\n",
      "Ingrese el segundo ingrediente de la combinación:  3\n"
     ]
    },
    {
     "name": "stdout",
     "output_type": "stream",
     "text": [
      "Usted ha escogido una pizza combinada de:  Jamón Salmón\n",
      "SU orden ha terminado\n"
     ]
    }
   ],
   "source": [
    "ingredientes_vegetarianos = [\"Pimenton\", \"Tofu\"]\n",
    "ingredientes_no_vegetarianos = [\"Pepperoni\", \"Jamón\", \"Salmón\"]\n",
    "\n",
    "ingr_veg1 = \"Pimentón\"\n",
    "ingr_veg2 = \"Tofu\"\n",
    "\n",
    "ingr_no_veg1 = \"Pepperoni\"\n",
    "ingr_no_veg2 = \"Jamón\"\n",
    "ingr_no_veg3 = \"Salmón\"\n",
    "\n",
    "orden = int(input(\"Ingrese 0 si quiere una pizza vegetariana o 1 para una no vegetariana: \"))\n",
    "\n",
    "if orden == 0:\n",
    "    print(f\"Su orden es para una pizza vegetariana, los ingredientes disponibles son: \", ingredientes_vegetarianos)\n",
    "    ingredientes = int(input(\"Escoja los ingredientes: 1 para Pimentón, 2 para Tofu o 3 para ambos: \"))\n",
    "    if ingredientes == 1:\n",
    "        print(f\"Ha escogido su pizza con \", ingr_veg1)\n",
    "    elif ingredientes == 2:\n",
    "        print(f\"Ha escogido su pizza con \", ingr_veg2)\n",
    "    else:\n",
    "        print(\"Su pizza contendrá todos los ingredientes\")\n",
    "        \n",
    "else:\n",
    "    print(f\"Su orden es para una pizza no vegetariana, los ingredientes disponibles son: \", ingredientes_no_vegetarianos)\n",
    "    print(f\"Su orden es para una pizza no vegetariana, los ingredientes disponibles son: \", ingredientes_vegetarianos)\n",
    "    ingredientes = int(input(\"Escoja los ingredientes: 1 para Pepperoni, 2 para Jamón, 3 para Salmón o 4 para combinada: \"))\n",
    "    if ingredientes == 1:\n",
    "        print(f\"Ha escogido su pizza con \", ingr_no_veg1)\n",
    "    elif ingredientes == 2:\n",
    "        print(f\"Ha escogido su pizza con \", ingr_no_veg2)\n",
    "    elif ingredientes == 3:\n",
    "        print(f\"Ha escogido su pizza con \", ingr_no_veg3)\n",
    "    else:\n",
    "        print(\"Ha escogido una pizza combinada, escoja la combinación: \")\n",
    "        combinado_ing1 = int(input(\"Ingrese el primer ingrediente de la combinación: \"))\n",
    "        combinado_ing2 = int(input(\"Ingrese el segundo ingrediente de la combinación: \"))\n",
    "        if combinado_ing1 == 1 and combinado_ing2 == 2:\n",
    "            print(\"Usted ha escogido una pizza combinada de: \", ingr_no_veg1, ingr_no_veg2)\n",
    "        elif combinado_ing2 and combinado_ing2 == 3:\n",
    "            print(\"Usted ha escogido una pizza combinada de: \", ingr_no_veg2, ingr_no_veg3)\n",
    "        elif combinado_ing1 == 3 and combinado_ing2 == 1:\n",
    "            print(\"Usted ha escogido una pizza combinada de: \", ingr_no_veg3, ingr_no_veg1)\n",
    "        else:\n",
    "            print(\"Su orden contendrá todos los ingredientes\")\n",
    "print(\"Su orden ha terminado\")\n",
    "            "
   ]
  },
  {
   "cell_type": "markdown",
   "metadata": {},
   "source": [
    "## Codigo que imprima los numeros del cero al veinte"
   ]
  },
  {
   "cell_type": "code",
   "execution_count": 12,
   "metadata": {},
   "outputs": [
    {
     "name": "stdout",
     "output_type": "stream",
     "text": [
      "0\n",
      "1\n",
      "2\n",
      "3\n",
      "4\n",
      "5\n",
      "6\n",
      "7\n",
      "8\n",
      "9\n",
      "10\n",
      "11\n",
      "12\n",
      "13\n",
      "14\n",
      "15\n",
      "16\n",
      "17\n",
      "18\n",
      "19\n",
      "20\n"
     ]
    }
   ],
   "source": [
    "i=0 \n",
    "while (i!=21): \n",
    "    print(i) \n",
    "    i=i+1 "
   ]
  },
  {
   "cell_type": "markdown",
   "metadata": {},
   "source": [
    "## Codigo que imprima los numeros del cero al n (numero pedido)"
   ]
  },
  {
   "cell_type": "code",
   "execution_count": 20,
   "metadata": {},
   "outputs": [
    {
     "name": "stdin",
     "output_type": "stream",
     "text": [
      "Indique un numero:  3\n"
     ]
    },
    {
     "name": "stdout",
     "output_type": "stream",
     "text": [
      "1\n",
      "2\n",
      "3\n"
     ]
    }
   ],
   "source": [
    "contador=0\n",
    "numero= int(input(\"Indique un numero: \"))\n",
    "\n",
    "while contador < numero:\n",
    "    print(contador + 1)\n",
    "    contador = contador + 1 "
   ]
  },
  {
   "cell_type": "markdown",
   "metadata": {},
   "source": [
    "## Mensaje para terminar un programa"
   ]
  },
  {
   "cell_type": "code",
   "execution_count": 22,
   "metadata": {},
   "outputs": [
    {
     "name": "stdin",
     "output_type": "stream",
     "text": [
      "Desea terminar el programa ?? s\n"
     ]
    }
   ],
   "source": [
    "mensaje = input(\"Desea terminar el programa ??\") \n",
    "while mensaje.lower()!=\"s\": \n",
    "    mensaje = input(\"Desea terminar el programa? EScriba s para SI o n para NO\") "
   ]
  },
  {
   "cell_type": "markdown",
   "metadata": {},
   "source": [
    "## Contraseña:\n",
    "\n",
    "Escriba un programa que solicite una contraseña y la vuelva a solicitar hasta que las dos contraseñas coincidan. Max 3 intentos."
   ]
  },
  {
   "cell_type": "code",
   "execution_count": 53,
   "metadata": {},
   "outputs": [
    {
     "name": "stdin",
     "output_type": "stream",
     "text": [
      "Ecriba su contraseña sin espacios:  esto\n",
      "Ingrese su contraseña t\n"
     ]
    },
    {
     "name": "stdout",
     "output_type": "stream",
     "text": [
      "La contraseña que ha ingresado es incorrecta, vuelva a digitarla\n"
     ]
    },
    {
     "name": "stdin",
     "output_type": "stream",
     "text": [
      "Ecriba su contraseña sin espacios:  t\n"
     ]
    },
    {
     "name": "stdout",
     "output_type": "stream",
     "text": [
      "t\n",
      "Lo sentimos mucho, su cuenta se ha bloqueado\n",
      "La contraseña que ha ingresado es incorrecta, vuelva a digitarla\n"
     ]
    },
    {
     "name": "stdin",
     "output_type": "stream",
     "text": [
      "Ecriba su contraseña sin espacios:  t\n"
     ]
    },
    {
     "name": "stdout",
     "output_type": "stream",
     "text": [
      "t\n",
      "Lo sentimos mucho, su cuenta se ha bloqueado\n",
      "La contraseña que ha ingresado es incorrecta, vuelva a digitarla\n"
     ]
    },
    {
     "name": "stdin",
     "output_type": "stream",
     "text": [
      "Ecriba su contraseña sin espacios:  t\n"
     ]
    },
    {
     "name": "stdout",
     "output_type": "stream",
     "text": [
      "t\n",
      "Lo sentimos mucho, su cuenta se ha bloqueado\n",
      "Operacion terminada con éxito\n"
     ]
    }
   ],
   "source": [
    "contraseña = input(\"Ecriba su contraseña sin espacios: \")\n",
    "\n",
    "ingreso = input(\"Ingrese su contraseña\")\n",
    "\n",
    "contador = 0\n",
    "limite = 3\n",
    "\n",
    "while ingreso!= contraseña and contador < limite:\n",
    "    if ingreso == contraseña:\n",
    "        break\n",
    "    else:\n",
    "        print(\"La contraseña que ha ingresado es incorrecta, vuelva a digitarla\")\n",
    "        contador += 1\n",
    "        print(input(\"Ecriba su contraseña sin espacios: \"))\n",
    "        print(\"Lo sentimos mucho, su cuenta se ha bloqueado\")\n",
    "print(\"Operacion terminada con éxito\")"
   ]
  },
  {
   "cell_type": "code",
   "execution_count": 14,
   "metadata": {},
   "outputs": [
    {
     "name": "stdin",
     "output_type": "stream",
     "text": [
      "Escriba su contraseña:  esto\n",
      "\n",
      "Escriba su contraseña nuevamente:  est\n",
      "\n",
      "Su contraseña no coincide, escribala nuevamente:  esto\n"
     ]
    },
    {
     "name": "stdout",
     "output_type": "stream",
     "text": [
      "\n",
      "Su contraseña coincide\n"
     ]
    }
   ],
   "source": [
    "contraseña = input(\"Escriba su contraseña: \")\n",
    "confirmacion_contraseña = input(\"\\nEscriba su contraseña nuevamente: \")\n",
    "\n",
    "contador = 0\n",
    "\n",
    "while contador < 2:\n",
    "\n",
    "    if contraseña == confirmacion_contraseña:\n",
    "        print(\"\\nSu contraseña coincide\")\n",
    "        break\n",
    "\n",
    "    else:\n",
    "        confirmacion_contraseña = input(\"\\nSu contraseña no coincide, escribala nuevamente: \")\n",
    "        contador += 1\n",
    "\n",
    "else:\n",
    "    print(\"\\nExcedio el numero de intentos\")"
   ]
  },
  {
   "cell_type": "code",
   "execution_count": 37,
   "metadata": {},
   "outputs": [
    {
     "name": "stdin",
     "output_type": "stream",
     "text": [
      "Ecriba su contraseña sin espacios:  esto\n",
      "Ingrese su contraseña est\n",
      "Contraseña equivocada, vuelva a intentarlo et\n",
      "Contraseña equivocada, vuelva a intentarlo esto\n"
     ]
    },
    {
     "name": "stdout",
     "output_type": "stream",
     "text": [
      "Contraseña correcta\n",
      "Operacion terminada\n"
     ]
    }
   ],
   "source": [
    "contraseña = input(\"Ecriba su contraseña sin espacios: \")\n",
    "\n",
    "ingreso = input(\"Ingrese su contraseña\")\n",
    "\n",
    "contador = 0\n",
    "limite = 3\n",
    "\n",
    "while contador < limite:\n",
    "    if ingreso == contraseña:\n",
    "        print(\"Contraseña correcta\")\n",
    "        break\n",
    "    else:\n",
    "        ingreso = input(\"Contraseña equivocada, vuelva a intentarlo\")\n",
    "        contador += 1\n",
    "else:\n",
    "    print(\"Excedió el numero de intentos\")\n",
    "print(\"Operacion terminada\")"
   ]
  },
  {
   "cell_type": "code",
   "execution_count": null,
   "metadata": {},
   "outputs": [],
   "source": []
  }
 ],
 "metadata": {
  "kernelspec": {
   "display_name": "Python 3",
   "language": "python",
   "name": "python3"
  },
  "language_info": {
   "codemirror_mode": {
    "name": "ipython",
    "version": 3
   },
   "file_extension": ".py",
   "mimetype": "text/x-python",
   "name": "python",
   "nbconvert_exporter": "python",
   "pygments_lexer": "ipython3",
   "version": "3.8.5"
  }
 },
 "nbformat": 4,
 "nbformat_minor": 4
}
