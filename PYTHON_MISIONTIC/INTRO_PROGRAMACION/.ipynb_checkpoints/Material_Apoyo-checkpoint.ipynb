{
 "cells": [
  {
   "cell_type": "markdown",
   "metadata": {},
   "source": [
    "# Material de Apoyo:\n",
    "\n",
    "### Estructura de Datos"
   ]
  },
  {
   "cell_type": "markdown",
   "metadata": {},
   "source": [
    "## Listas\n",
    "Una lista es una estructura de datos ordenada, lo cual se puede definir como un tipo de dato conformado por múltiples datos (que pueden ser de diferentes tipos de datos). Las listas suelen interpretarse como una fila de casillas, donde en cada casilla se guarda un dato que se haya ingresado; a cada casilla le corresponde un número de identificación, denominado subíndice.\n",
    "\n",
    "Su acceso se da a través de los indices (que van de 0 a n)\n"
   ]
  },
  {
   "cell_type": "code",
   "execution_count": 4,
   "metadata": {},
   "outputs": [
    {
     "name": "stdout",
     "output_type": "stream",
     "text": [
      "['a', 'c', 'Hello', 18, True]\n"
     ]
    }
   ],
   "source": [
    "my_list = ['a', 'c', 'Hello', 18, True]\n",
    "print(my_list)"
   ]
  },
  {
   "cell_type": "code",
   "execution_count": 5,
   "metadata": {},
   "outputs": [
    {
     "name": "stdout",
     "output_type": "stream",
     "text": [
      "Hello\n"
     ]
    }
   ],
   "source": [
    "print(my_list[2])"
   ]
  },
  {
   "cell_type": "markdown",
   "metadata": {},
   "source": [
    "### Secciones de listas (slicing)\n",
    "\n",
    "Una utilidad presente en las listas es la de poder crear “rebanadas” o secciones de lista a partir de una lista existente, creando así sublistas. La sintaxis para esta tarea es similar a la usada para acceder a un dato, pero en vez de un subíndice se escriben dos números separados por dos puntos “:”. El primer subíndice corresponde al primer dato que hará parte de la nueva lista, y el segundo subíndice corresponde al subíndice del dato siguiente al último dato que hará parte de la lista."
   ]
  },
  {
   "cell_type": "code",
   "execution_count": 9,
   "metadata": {},
   "outputs": [
    {
     "name": "stdout",
     "output_type": "stream",
     "text": [
      "['e', 'l']\n"
     ]
    }
   ],
   "source": [
    "my_list = ['H', 'e', 'l', 'l', 'o']\n",
    "print(my_list[1:3])"
   ]
  },
  {
   "cell_type": "code",
   "execution_count": 10,
   "metadata": {},
   "outputs": [
    {
     "name": "stdout",
     "output_type": "stream",
     "text": [
      "['e', 'l', 'l', 'o']\n",
      "['H', 'e', 'l', 'l']\n",
      "['H', 'e', 'l', 'l', 'o']\n"
     ]
    }
   ],
   "source": [
    "print(my_list[1:])    # Se omite el subíndice derecho\n",
    "print(my_list[:4])    # Se omite el subíndice izquierdo\n",
    "print(my_list[:])     # Se omiten ambos subíndices"
   ]
  },
  {
   "cell_type": "markdown",
   "metadata": {},
   "source": [
    "### Modificar datos de una lista\n",
    "\n",
    "Para modificar el dato en un subíndice específico de una lista, simplemente se asigna el nuevo dato al “acceso del dato”, es decir, se usa la misma sintaxis para acceder a un dato seguido de un signo de asignación “=” y el nuevo valor, de la misma manera que se haría con una variable convencional.\n",
    "\n"
   ]
  },
  {
   "cell_type": "code",
   "execution_count": 12,
   "metadata": {},
   "outputs": [
    {
     "name": "stdout",
     "output_type": "stream",
     "text": [
      "[0, 1, 2, 3, 4]\n",
      "[5, 1, 2, 3, 4]\n"
     ]
    }
   ],
   "source": [
    "my_list = [0, 1, 2, 3, 4]\n",
    "print(my_list)\n",
    "my_list[0] = 5\n",
    "print(my_list)"
   ]
  },
  {
   "cell_type": "code",
   "execution_count": 13,
   "metadata": {},
   "outputs": [
    {
     "name": "stdout",
     "output_type": "stream",
     "text": [
      "[5, 6, 7]\n"
     ]
    }
   ],
   "source": [
    "my_list = [5, 1, 2, 3, 4]\n",
    "my_list[1:] = [6, 7]\n",
    "print(my_list)"
   ]
  },
  {
   "cell_type": "markdown",
   "metadata": {},
   "source": [
    "### Agregar datos a una lista\n",
    "\n",
    "Las listas son un tipo de dato extensible. Esto significa que permiten agregar datos en cualquier momento y existen varias formas en las que se puede concretar esta tarea.\n",
    "\n",
    "1. La primera forma para agregar datos en una lista es utilizando el método append(), lo cual se hace escribiendo el indicador que corresponde a la lista objetivo, seguido de un punto y el llamado del método. Entre paréntesis se escribe el dato que se desea agregar. Esto agregará el dato al final de la lista.\n",
    "\n",
    "2. Si se desea agregar múltiples datos, se debe crear una lista con los datos a agregar y usando el método extend() se envía la lista entre los paréntesis del método. Esto agregará los datos al final de la lista.\n",
    "\n",
    "3. Suma de listas\n",
    "\n",
    "4. Dos formas para añadir datos en medio de una lista. La primer forma consiste en utilizar el método insert(), al cual se le envían entre paréntesis dos datos separados por comas: el primer dato corresponde al subíndice de la lista a partir del cual se van a mover los otros datos para insertar el nuevo dato; el segundo dato es el nuevo dato que se va a insertar.\n",
    "\n",
    "5. La segunda forma de obtener el mismo resultado es usando la modificación de “secciones”, pero se debe insertar una lista de datos (puede ser de un solo dato) y los subíndices serán el mismo número, el cual corresponderá a la posición en la que se desea insertar."
   ]
  },
  {
   "cell_type": "code",
   "execution_count": 14,
   "metadata": {},
   "outputs": [
    {
     "name": "stdout",
     "output_type": "stream",
     "text": [
      "[1, 2, 3]\n"
     ]
    }
   ],
   "source": [
    "my_list = [1, 2]\n",
    "my_list.append(3)\n",
    "print(my_list)"
   ]
  },
  {
   "cell_type": "code",
   "execution_count": 15,
   "metadata": {},
   "outputs": [
    {
     "name": "stdout",
     "output_type": "stream",
     "text": [
      "[1, 2, 3, 4]\n"
     ]
    }
   ],
   "source": [
    "my_list = [1, 2]\n",
    "my_list.extend([3, 4])\n",
    "print(my_list)"
   ]
  },
  {
   "cell_type": "code",
   "execution_count": 16,
   "metadata": {},
   "outputs": [
    {
     "name": "stdout",
     "output_type": "stream",
     "text": [
      "[1, 2, 2, 4]\n"
     ]
    }
   ],
   "source": [
    "my_list = [1, 2]\n",
    "my_list += [2, 4]\n",
    "print(my_list)"
   ]
  },
  {
   "cell_type": "code",
   "execution_count": 17,
   "metadata": {},
   "outputs": [
    {
     "name": "stdout",
     "output_type": "stream",
     "text": [
      "[1, 4, 2, 3]\n"
     ]
    }
   ],
   "source": [
    "my_list = [1, 2, 3]\n",
    "my_list.insert(1, 4)\n",
    "print(my_list)"
   ]
  },
  {
   "cell_type": "code",
   "execution_count": 18,
   "metadata": {},
   "outputs": [
    {
     "name": "stdout",
     "output_type": "stream",
     "text": [
      "[1, 5, 6, 2, 3, 4]\n"
     ]
    }
   ],
   "source": [
    "my_list = [1, 2, 3, 4]\n",
    "my_list[1:1] = [5, 6]\n",
    "print(my_list)"
   ]
  },
  {
   "cell_type": "markdown",
   "metadata": {},
   "source": [
    "### Eliminar datos de una lista"
   ]
  },
  {
   "cell_type": "code",
   "execution_count": 19,
   "metadata": {},
   "outputs": [
    {
     "name": "stdout",
     "output_type": "stream",
     "text": [
      "[1, 3]\n"
     ]
    }
   ],
   "source": [
    "my_list = [1, 2, 3]\n",
    "del my_list[1]\n",
    "print(my_list)"
   ]
  },
  {
   "cell_type": "code",
   "execution_count": 20,
   "metadata": {},
   "outputs": [
    {
     "name": "stdout",
     "output_type": "stream",
     "text": [
      "['H', 'e', 'l', 'l']\n"
     ]
    }
   ],
   "source": [
    "my_list = ['H', 'e', 'l', 'l', 'o']\n",
    "my_list.remove('o')\n",
    "print(my_list)"
   ]
  },
  {
   "cell_type": "markdown",
   "metadata": {},
   "source": [
    "pop(). Entre paréntesis se envía el subíndice del dato que se quiere eliminar y este devolverá el dato que se eliminó"
   ]
  },
  {
   "cell_type": "code",
   "execution_count": 21,
   "metadata": {},
   "outputs": [
    {
     "name": "stdout",
     "output_type": "stream",
     "text": [
      "e\n",
      "['H', 'l', 'l', 'o']\n"
     ]
    }
   ],
   "source": [
    "my_list = ['H', 'e', 'l', 'l', 'o']\n",
    "print(my_list.pop(1))\n",
    "print(my_list)"
   ]
  },
  {
   "cell_type": "code",
   "execution_count": 22,
   "metadata": {},
   "outputs": [
    {
     "name": "stdout",
     "output_type": "stream",
     "text": [
      "['H', 'o']\n"
     ]
    }
   ],
   "source": [
    "my_list = ['H', 'e', 'l', 'l', 'o']\n",
    "my_list[1:4] = []\n",
    "print(my_list)"
   ]
  },
  {
   "cell_type": "markdown",
   "metadata": {},
   "source": [
    "## Tuplas:\n",
    "\n",
    "Las tuplas son una estructura de datos ordenada, muy similares a las listas, también con un subíndice asignado a cada dato, pero la única diferencia que lo caracteriza es su inmutabilidad, lo cual causa que no se pueda modificar la tupla desde su creación, es decir, no se pueden agregar, eliminar ni reasignar datos de la tupla."
   ]
  },
  {
   "cell_type": "markdown",
   "metadata": {},
   "source": [
    "## Creación de una tupla\n",
    "\n",
    "Las tuplas se pueden crear simplemente escribiendo una secuencia de datos separados por comas; no obstante, por convención se suelen usar los paréntesis para agrupar los datos que harán parte de la tupla"
   ]
  },
  {
   "cell_type": "code",
   "execution_count": 2,
   "metadata": {},
   "outputs": [
    {
     "name": "stdout",
     "output_type": "stream",
     "text": [
      "(1, 2, 3, 4, 5)\n"
     ]
    }
   ],
   "source": [
    "my_tuple = (1, 2, 3, 4, 5)\n",
    "print(my_tuple)"
   ]
  },
  {
   "cell_type": "markdown",
   "metadata": {},
   "source": [
    "Existe un pequeño problema cuando se desea crear una tupla de un solo dato, ya que Python solo reconocerá que es un dato individual. La solución es escribir el dato seguido de una coma, y así se reconocerá esto como una secuencia de datos de un solo dato."
   ]
  },
  {
   "cell_type": "code",
   "execution_count": 4,
   "metadata": {},
   "outputs": [
    {
     "name": "stdout",
     "output_type": "stream",
     "text": [
      "(1,)\n"
     ]
    }
   ],
   "source": [
    "my_tuple = (1, )\n",
    "print(my_tuple)"
   ]
  },
  {
   "cell_type": "markdown",
   "metadata": {},
   "source": [
    "## Acceso a una tupla\n",
    "\n",
    "Para acceder a los datos de una tupla se realiza el mismo procedimiento que con una lista: se escribe el indicador de la tupla seguido del subíndice del dato al que se desea acceder, encerrado entre corchetes. Hay que recordar que también se puede usar un subíndice negativo."
   ]
  },
  {
   "cell_type": "code",
   "execution_count": 5,
   "metadata": {},
   "outputs": [
    {
     "name": "stdout",
     "output_type": "stream",
     "text": [
      "4\n"
     ]
    }
   ],
   "source": [
    "my_tuple = (1, 2, 3, 4, 5)\n",
    "print(my_tuple[3])"
   ]
  },
  {
   "cell_type": "markdown",
   "metadata": {},
   "source": [
    "## Secciones de tuplas\n",
    "\n",
    "Al igual que en las listas, se pueden tomar secciones de tuplas de una tupla existente. La sintaxis es la misma: se escribe el indicador de la tupla seguido de los subíndices de los datos que harán parte de la nueva tupla encerrados entre corchetes y separados por dos puntos. Hay que recordar la interpretación de las barras de casilla para entender bien el proceso de secciones."
   ]
  },
  {
   "cell_type": "code",
   "execution_count": 6,
   "metadata": {},
   "outputs": [
    {
     "name": "stdout",
     "output_type": "stream",
     "text": [
      "(3, 4, 5)\n"
     ]
    }
   ],
   "source": [
    "my_tuple = (1, 2, 3, 4, 5)\n",
    "print(my_tuple[2:5])"
   ]
  },
  {
   "cell_type": "markdown",
   "metadata": {},
   "source": [
    "## Agregar datos en una tupla\n",
    "\n",
    "Nuevamente, debido a la inmutabilidad de las tuplas, no es posible agregar nuevos datos a la MISMA tupla. Pero dado el caso de que se desee tener todos los datos de la tupla con nuevos datos se puede reasignar la tupla, pero sumando otra tupla con los datos que se desean agregar."
   ]
  },
  {
   "cell_type": "code",
   "execution_count": 7,
   "metadata": {},
   "outputs": [
    {
     "name": "stdout",
     "output_type": "stream",
     "text": [
      "(1, 2, 3, 4, 5)\n"
     ]
    }
   ],
   "source": [
    "my_tuple = (1, 2, 3)\n",
    "my_tuple += (4, 5)\n",
    "print(my_tuple)"
   ]
  },
  {
   "cell_type": "markdown",
   "metadata": {},
   "source": [
    "Hay que recordar que, al usar un operador de asignación, no se modifica el dato de la variable, sino que se le asigna un nuevo valor operado. Esto significa que, en el ejemplo, se está asignando la tupla sumada la nueva tupla"
   ]
  },
  {
   "cell_type": "markdown",
   "metadata": {},
   "source": [
    "## Sets\n",
    "\n",
    "Los sets son la estructura de datos que representan los conjuntos matemáticos. Los sets presentan varias características particulares en comparación con las estructuras de datos vistas: son desordenadas, es decir, no se mantiene registro alguno del orden en el que se ingresan los datos, entonces no existe un subíndice el cual se asigna a cada dato. Los datos de un set son únicos, es decir, no se pueden tener múltiples datos iguales. Finalmente, los sets permiten realizar operaciones de conjuntos entre ellos.Creación de un set\n",
    "\n",
    "Los sets se crean al encerrar entre llaves “{ }” una secuencia de datos separados por comas.\n",
    "\n",
    "## Creación de un set\n",
    "\n",
    "Los sets se crean al encerrar entre llaves “{ }” una secuencia de datos separados por comas."
   ]
  },
  {
   "cell_type": "code",
   "execution_count": 8,
   "metadata": {},
   "outputs": [
    {
     "name": "stdout",
     "output_type": "stream",
     "text": [
      "{2, 4, 5, 8, 9}\n"
     ]
    }
   ],
   "source": [
    "my_set = {5, 8, 2, 9, 4}\n",
    "print(my_set)"
   ]
  },
  {
   "cell_type": "markdown",
   "metadata": {},
   "source": [
    "Note que el orden de los datos no es el mismo al orden en el que se ingresaron los datos.\n",
    "\n",
    "\n",
    "\n",
    "En el caso particular de que se desee crear un set vacío, no basta con asignar llaves vacías, ya que esto crearía otro tipo de estructura de datos que se verá más adelante. Así que para crear un set vacío se tiene que asignar la función set(), la cual devolverá un set vacío"
   ]
  },
  {
   "cell_type": "code",
   "execution_count": 9,
   "metadata": {},
   "outputs": [
    {
     "name": "stdout",
     "output_type": "stream",
     "text": [
      "set()\n"
     ]
    }
   ],
   "source": [
    "my_set = set()\n",
    "print(my_set)"
   ]
  },
  {
   "cell_type": "markdown",
   "metadata": {},
   "source": [
    "## Operar sets\n",
    "\n",
    "Existen varias operaciones especiales que se pueden realizar entre los sets, operaciones que corresponden a las realizadas en conjuntos matemáticos convencionales.\n",
    "\n",
    "\n",
    "\n",
    "i. Contención\n",
    "\n",
    "La primera operación se basa en evaluar si un dato se halla contenido dentro de un set (esta operación en realidad se puede utilizar con cualquier otra estructura de datos). Así bien, se puede saber si un dato pertenece o no pertenece a una estructura de datos usando la palabra clave in (usada previamente junto al iterador for), la cual se escribe después del dato que se quiere evaluar y antes del identificador de la estructura en la que se quiere evaluar el dato. Esto devolverá como resultado un booleano."
   ]
  },
  {
   "cell_type": "code",
   "execution_count": 10,
   "metadata": {},
   "outputs": [
    {
     "name": "stdout",
     "output_type": "stream",
     "text": [
      "True\n"
     ]
    }
   ],
   "source": [
    "my_set = {'S', 'E', 'T'}\n",
    "print('S' in my_set)"
   ]
  },
  {
   "cell_type": "markdown",
   "metadata": {},
   "source": [
    "## Unión\n",
    "\n",
    "La operación correspondiente a la unión es un método llamado union(), el cual se aplica sobre uno de los sets sobre los que se aplicará la operación y se envía entre paréntesis el otro set. Este método devolverá un set que contiene TODOS los datos de ambos sets."
   ]
  },
  {
   "cell_type": "code",
   "execution_count": 11,
   "metadata": {},
   "outputs": [
    {
     "name": "stdout",
     "output_type": "stream",
     "text": [
      "{1, 2, 3, 4, 6}\n"
     ]
    }
   ],
   "source": [
    "set_1 = {1, 2, 3}\n",
    "set_2 = {2, 4, 6}\n",
    "union_set = set_1.union(set_2)\n",
    "print(union_set)"
   ]
  },
  {
   "cell_type": "markdown",
   "metadata": {},
   "source": [
    "## Intersección\n",
    "\n",
    "La operación correspondiente a la intersección es un método llamado intersection(), el cual se llama sobre uno de los sets sobre los que se aplicará la operación y se envía entre paréntesis el otro set. Este método devolverá un set que contiene los datos que pertenecen a ambos sets A LA MISMA VEZ."
   ]
  },
  {
   "cell_type": "code",
   "execution_count": 12,
   "metadata": {},
   "outputs": [
    {
     "name": "stdout",
     "output_type": "stream",
     "text": [
      "{1, 3}\n"
     ]
    }
   ],
   "source": [
    "set_1 = {1, 2, 3}\n",
    "set_2 = {1, 3, 5}\n",
    "intersection_set = set_1.intersection(set_2)\n",
    "print(intersection_set)"
   ]
  },
  {
   "cell_type": "markdown",
   "metadata": {},
   "source": [
    "## Diferencia\n",
    "\n",
    "La operación diferencia se efectúa usando el método difference(), el cual devuelve un set con los datos que pertenecen al primer set pero NO pertenecen al segundo set. Este método se aplica sobre el primer set y entre paréntesis se envía el segundo set.\n",
    "\n"
   ]
  },
  {
   "cell_type": "code",
   "execution_count": 13,
   "metadata": {},
   "outputs": [
    {
     "name": "stdout",
     "output_type": "stream",
     "text": [
      "{2, 4}\n"
     ]
    }
   ],
   "source": [
    "set_1 = {1, 2, 3, 4, 5}\n",
    "set_2 = {1, 3, 5}\n",
    "difference_set = set_1.difference(set_2)\n",
    "print(difference_set)"
   ]
  },
  {
   "cell_type": "markdown",
   "metadata": {},
   "source": [
    "## Diferencia simétrica\n",
    "\n",
    "La operación diferencia simétrica se efectúa usando el método symmetric_difference(), el cual se aplica sobre uno de los sets a operar y se envía entre paréntesis el otro set. Este método devuelve como resultado TODOS los datos de ambos sets, pero excluyendo los datos que hacen parte de ambos sets A LA MISMA VEZ. En términos de otras operaciones, la diferencia entre la unión y la intersección.\n",
    "\n"
   ]
  },
  {
   "cell_type": "code",
   "execution_count": 14,
   "metadata": {},
   "outputs": [
    {
     "name": "stdout",
     "output_type": "stream",
     "text": [
      "{2, 6, 10, 12, 14}\n"
     ]
    }
   ],
   "source": [
    "set_1 = {2, 4, 6, 8, 10}\n",
    "set_2 = {4, 8, 12, 14}\n",
    "symmetric_difference_set = set_1.symmetric_difference(set_2)\n",
    "print(symmetric_difference_set)"
   ]
  },
  {
   "cell_type": "markdown",
   "metadata": {},
   "source": [
    "## Modificar datos de un set\n",
    "\n",
    "Debido a que no hay una manera de acceder a un dato específico de un set, estos no se pueden reasignar."
   ]
  },
  {
   "cell_type": "markdown",
   "metadata": {},
   "source": [
    "## Agregar datos a un set\n",
    "\n",
    "En un set solo se pueden agregar datos usando uno de dos métodos. El primero es add(), al cual se le envía entre paréntesis el dato que se desea agregar.\n",
    "\n"
   ]
  },
  {
   "cell_type": "code",
   "execution_count": 15,
   "metadata": {},
   "outputs": [
    {
     "name": "stdout",
     "output_type": "stream",
     "text": [
      "{8, 9, 2, 5}\n"
     ]
    }
   ],
   "source": [
    "my_set = {5, 2, 8}\n",
    "my_set.add(9)\n",
    "print(my_set)"
   ]
  },
  {
   "cell_type": "markdown",
   "metadata": {},
   "source": [
    "El segundo método se llama update(), y este permite agregar múltiples datos a la vez enviando entre paréntesis una estructura de datos con los datos que se desean agregar. Además, se pueden enviar múltiples estructuras de datos separadas por comas."
   ]
  },
  {
   "cell_type": "code",
   "execution_count": 16,
   "metadata": {},
   "outputs": [
    {
     "name": "stdout",
     "output_type": "stream",
     "text": [
      "{1, 2, 3, 4, 6, 7}\n"
     ]
    }
   ],
   "source": [
    "my_set = {3, 1}\n",
    "my_set.update([2, 4], {6, 7})\n",
    "print(my_set)"
   ]
  },
  {
   "cell_type": "markdown",
   "metadata": {},
   "source": [
    "## Eliminar datos de un set\n",
    "\n",
    "Para eliminar datos de un set se puede usar uno de tres métodos. El primero es el método remove(), al cual se le envía entre paréntesis el dato exacto que se desea remover de la lista, es decir, se necesita conocer el dato que se desea eliminar.\n",
    "\n",
    "El segundo método es el anteriormente visto pop(), el cual elimina un dato de la estructura de datos y además lo devuelve. Lo único que se debe tener en cuenta es que, al ser datos desordenados, se eliminará un dato de manera arbitraria\n"
   ]
  },
  {
   "cell_type": "code",
   "execution_count": 17,
   "metadata": {},
   "outputs": [
    {
     "name": "stdout",
     "output_type": "stream",
     "text": [
      "S\n",
      "{'E', 'T'}\n"
     ]
    }
   ],
   "source": [
    "my_set = {'S', 'E', 'T'}\n",
    "print(my_set.pop())\n",
    "print(my_set)"
   ]
  },
  {
   "cell_type": "markdown",
   "metadata": {},
   "source": [
    "Finalmente, el tercer método para eliminar datos de un set es clear(), el cual no recibe ningún dato entre paréntesis y su función es la de eliminar todos los datos en el set."
   ]
  },
  {
   "cell_type": "code",
   "execution_count": 18,
   "metadata": {},
   "outputs": [
    {
     "name": "stdout",
     "output_type": "stream",
     "text": [
      "set()\n"
     ]
    }
   ],
   "source": [
    "my_set = {1, 2, 3, 4, 5}\n",
    "my_set.clear()\n",
    "print(my_set)"
   ]
  },
  {
   "cell_type": "markdown",
   "metadata": {},
   "source": [
    "## Diccionarios\n",
    "\n",
    "Los diccionarios en Python se pueden definir como una lista desordenada de pares de datos, donde el primer dato del par se conoce como llave y funciona de la misma manera en la que un subíndice lo haría, ya que permite acceder al segundo dato, el cual corresponde al dato que se desea almacenar con dicha llave."
   ]
  },
  {
   "cell_type": "markdown",
   "metadata": {},
   "source": [
    "## Creación de un diccionario\n",
    "\n",
    "La razón por la que anteriormente no se podía crear un set vacío simplemente usando llaves es porque se crearía un diccionario. Para crear un diccionario se deben encerrar entre llaves una secuencia de pares de datos separados por comas y los datos dentro de los pares son separados por dos puntos “:”. La llave puede ser casi cualquier tipo de dato, pero se suelen utilizar strings."
   ]
  },
  {
   "cell_type": "code",
   "execution_count": 19,
   "metadata": {},
   "outputs": [
    {
     "name": "stdout",
     "output_type": "stream",
     "text": [
      "18\n"
     ]
    }
   ],
   "source": [
    "my_dict = {'name': 'Frank', 'age': 18}\n",
    "print(my_dict['age'])"
   ]
  },
  {
   "cell_type": "markdown",
   "metadata": {},
   "source": [
    "## Modificar datos de un diccionario\n",
    "\n",
    "Si se desea modificar el dato de un diccionario es necesario tener la llave de este, y así acceder al dato por medio de la llave y a este se le asigna el nuevo dato deseado. Se escribe el indicador del diccionario seguido de la llave relacionada al dato encerrado entre corchetes; luego, con el operador asignar “=” se escribe el dato que se desea asignar al dato correspondiente a la llave."
   ]
  },
  {
   "cell_type": "code",
   "execution_count": 20,
   "metadata": {},
   "outputs": [
    {
     "name": "stdout",
     "output_type": "stream",
     "text": [
      "{'name': 'Frank', 'age': 19}\n"
     ]
    }
   ],
   "source": [
    "my_dict = {'name': 'Frank', 'age': 18}\n",
    "my_dict['age'] += 1;\n",
    "print(my_dict)"
   ]
  },
  {
   "cell_type": "markdown",
   "metadata": {},
   "source": [
    "## Agregar datos a un diccionario\n",
    "\n",
    "El proceso de agregar pares de datos a un diccionario es similar al de modificar datos, ya que se necesita asignar un valor a un acceso con una llave, solo que, en este caso, la llave que se utilice debe ser una llave no existente en el diccionario."
   ]
  },
  {
   "cell_type": "code",
   "execution_count": 21,
   "metadata": {},
   "outputs": [
    {
     "name": "stdout",
     "output_type": "stream",
     "text": [
      "{'name': 'Frank', 'age': 18, 'nick': 'Frany'}\n"
     ]
    }
   ],
   "source": [
    "my_dict = {'name': 'Frank', 'age': 18}\n",
    "my_dict['nick'] = 'Frany'\n",
    "print(my_dict)"
   ]
  },
  {
   "cell_type": "markdown",
   "metadata": {},
   "source": [
    "## Eliminar datos de un diccionario\n",
    "\n",
    "La manera más directa para eliminar datos de un diccionario es con el uso de la palabra clave del seguida del acceso al dato que se desea eliminar.\n",
    "\n"
   ]
  },
  {
   "cell_type": "code",
   "execution_count": 22,
   "metadata": {},
   "outputs": [
    {
     "name": "stdout",
     "output_type": "stream",
     "text": [
      "{'name': 'Frank'}\n"
     ]
    }
   ],
   "source": [
    "my_dict = {'name': 'Frank', 'age': 18}\n",
    "del my_dict['age']\n",
    "print(my_dict)"
   ]
  },
  {
   "cell_type": "markdown",
   "metadata": {},
   "source": [
    "Y la otra forma es usando el método pop(), al cual se le envía entre paréntesis la llave del dato que se desea eliminar del diccionario; además, devuelve el dato correspondiente a la llave ingresada después de eliminarlo de la lista."
   ]
  },
  {
   "cell_type": "code",
   "execution_count": 23,
   "metadata": {},
   "outputs": [
    {
     "name": "stdout",
     "output_type": "stream",
     "text": [
      "18\n",
      "{'name': 'Frank'}\n"
     ]
    }
   ],
   "source": [
    "my_dict = {'name': 'Frank', 'age': 18}\n",
    "print(my_dict.pop('age'))\n",
    "print(my_dict)"
   ]
  },
  {
   "cell_type": "markdown",
   "metadata": {},
   "source": [
    "## Estructuras de datos\n",
    "\n",
    "Preguntas de interés\n",
    "1. ¿Se pueden tener estructuras de datos dentro de estructuras de datos (estructuras de datos anidadas)?\n",
    "\n",
    "Sí, es posible tener estructura de datos anidadas, como listas, directorios, etc.\n",
    "\n",
    "2. ¿Cómo se accede al dato de una estructura de datos anidada?\n",
    "\n",
    "3. ¿Qué sucede si al tomar una sección de lista​, el primer subíndice es\n",
    "mayor que el segundo?\n",
    "4. ¿En un diccionario se puede obtener la llave conociendo el dato?\n",
    "5. Piense en un método para tomar los datos de una estructura de datos\n",
    "desordenada (sets o diccionarios) y pasarlos a una lista."
   ]
  },
  {
   "cell_type": "code",
   "execution_count": null,
   "metadata": {},
   "outputs": [],
   "source": []
  }
 ],
 "metadata": {
  "kernelspec": {
   "display_name": "Python 3",
   "language": "python",
   "name": "python3"
  },
  "language_info": {
   "codemirror_mode": {
    "name": "ipython",
    "version": 3
   },
   "file_extension": ".py",
   "mimetype": "text/x-python",
   "name": "python",
   "nbconvert_exporter": "python",
   "pygments_lexer": "ipython3",
   "version": "3.8.5"
  }
 },
 "nbformat": 4,
 "nbformat_minor": 4
}
