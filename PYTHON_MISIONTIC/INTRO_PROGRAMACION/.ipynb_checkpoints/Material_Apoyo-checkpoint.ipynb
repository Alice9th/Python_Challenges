{
 "cells": [
  {
   "cell_type": "markdown",
   "metadata": {},
   "source": [
    "# Material de Apoyo:\n",
    "\n",
    "### Estructura de Datos"
   ]
  },
  {
   "cell_type": "markdown",
   "metadata": {},
   "source": [
    "## Listas\n",
    "Una lista es una estructura de datos ordenada, lo cual se puede definir como un tipo de dato conformado por múltiples datos (que pueden ser de diferentes tipos de datos). Las listas suelen interpretarse como una fila de casillas, donde en cada casilla se guarda un dato que se haya ingresado; a cada casilla le corresponde un número de identificación, denominado subíndice.\n",
    "\n",
    "Su acceso se da a través de los indices (que van de 0 a n)\n"
   ]
  },
  {
   "cell_type": "code",
   "execution_count": 4,
   "metadata": {},
   "outputs": [
    {
     "name": "stdout",
     "output_type": "stream",
     "text": [
      "['a', 'c', 'Hello', 18, True]\n"
     ]
    }
   ],
   "source": [
    "my_list = ['a', 'c', 'Hello', 18, True]\n",
    "print(my_list)"
   ]
  },
  {
   "cell_type": "code",
   "execution_count": 5,
   "metadata": {},
   "outputs": [
    {
     "name": "stdout",
     "output_type": "stream",
     "text": [
      "Hello\n"
     ]
    }
   ],
   "source": [
    "print(my_list[2])"
   ]
  },
  {
   "cell_type": "markdown",
   "metadata": {},
   "source": [
    "### Secciones de listas (slicing)\n",
    "\n",
    "Una utilidad presente en las listas es la de poder crear “rebanadas” o secciones de lista a partir de una lista existente, creando así sublistas. La sintaxis para esta tarea es similar a la usada para acceder a un dato, pero en vez de un subíndice se escriben dos números separados por dos puntos “:”. El primer subíndice corresponde al primer dato que hará parte de la nueva lista, y el segundo subíndice corresponde al subíndice del dato siguiente al último dato que hará parte de la lista."
   ]
  },
  {
   "cell_type": "code",
   "execution_count": 9,
   "metadata": {},
   "outputs": [
    {
     "name": "stdout",
     "output_type": "stream",
     "text": [
      "['e', 'l']\n"
     ]
    }
   ],
   "source": [
    "my_list = ['H', 'e', 'l', 'l', 'o']\n",
    "print(my_list[1:3])"
   ]
  },
  {
   "cell_type": "code",
   "execution_count": 10,
   "metadata": {},
   "outputs": [
    {
     "name": "stdout",
     "output_type": "stream",
     "text": [
      "['e', 'l', 'l', 'o']\n",
      "['H', 'e', 'l', 'l']\n",
      "['H', 'e', 'l', 'l', 'o']\n"
     ]
    }
   ],
   "source": [
    "print(my_list[1:])    # Se omite el subíndice derecho\n",
    "print(my_list[:4])    # Se omite el subíndice izquierdo\n",
    "print(my_list[:])     # Se omiten ambos subíndices"
   ]
  },
  {
   "cell_type": "markdown",
   "metadata": {},
   "source": [
    "### Modificar datos de una lista\n",
    "\n",
    "Para modificar el dato en un subíndice específico de una lista, simplemente se asigna el nuevo dato al “acceso del dato”, es decir, se usa la misma sintaxis para acceder a un dato seguido de un signo de asignación “=” y el nuevo valor, de la misma manera que se haría con una variable convencional.\n",
    "\n"
   ]
  },
  {
   "cell_type": "code",
   "execution_count": 12,
   "metadata": {},
   "outputs": [
    {
     "name": "stdout",
     "output_type": "stream",
     "text": [
      "[0, 1, 2, 3, 4]\n",
      "[5, 1, 2, 3, 4]\n"
     ]
    }
   ],
   "source": [
    "my_list = [0, 1, 2, 3, 4]\n",
    "print(my_list)\n",
    "my_list[0] = 5\n",
    "print(my_list)"
   ]
  },
  {
   "cell_type": "code",
   "execution_count": 13,
   "metadata": {},
   "outputs": [
    {
     "name": "stdout",
     "output_type": "stream",
     "text": [
      "[5, 6, 7]\n"
     ]
    }
   ],
   "source": [
    "my_list = [5, 1, 2, 3, 4]\n",
    "my_list[1:] = [6, 7]\n",
    "print(my_list)"
   ]
  },
  {
   "cell_type": "markdown",
   "metadata": {},
   "source": [
    "### Agregar datos a una lista\n",
    "\n",
    "Las listas son un tipo de dato extensible. Esto significa que permiten agregar datos en cualquier momento y existen varias formas en las que se puede concretar esta tarea.\n",
    "\n",
    "1. La primera forma para agregar datos en una lista es utilizando el método append(), lo cual se hace escribiendo el indicador que corresponde a la lista objetivo, seguido de un punto y el llamado del método. Entre paréntesis se escribe el dato que se desea agregar. Esto agregará el dato al final de la lista.\n",
    "\n",
    "2. Si se desea agregar múltiples datos, se debe crear una lista con los datos a agregar y usando el método extend() se envía la lista entre los paréntesis del método. Esto agregará los datos al final de la lista.\n",
    "\n",
    "3. Suma de listas\n",
    "\n",
    "4. Dos formas para añadir datos en medio de una lista. La primer forma consiste en utilizar el método insert(), al cual se le envían entre paréntesis dos datos separados por comas: el primer dato corresponde al subíndice de la lista a partir del cual se van a mover los otros datos para insertar el nuevo dato; el segundo dato es el nuevo dato que se va a insertar.\n",
    "\n",
    "5. La segunda forma de obtener el mismo resultado es usando la modificación de “secciones”, pero se debe insertar una lista de datos (puede ser de un solo dato) y los subíndices serán el mismo número, el cual corresponderá a la posición en la que se desea insertar."
   ]
  },
  {
   "cell_type": "code",
   "execution_count": 14,
   "metadata": {},
   "outputs": [
    {
     "name": "stdout",
     "output_type": "stream",
     "text": [
      "[1, 2, 3]\n"
     ]
    }
   ],
   "source": [
    "my_list = [1, 2]\n",
    "my_list.append(3)\n",
    "print(my_list)"
   ]
  },
  {
   "cell_type": "code",
   "execution_count": 15,
   "metadata": {},
   "outputs": [
    {
     "name": "stdout",
     "output_type": "stream",
     "text": [
      "[1, 2, 3, 4]\n"
     ]
    }
   ],
   "source": [
    "my_list = [1, 2]\n",
    "my_list.extend([3, 4])\n",
    "print(my_list)"
   ]
  },
  {
   "cell_type": "code",
   "execution_count": 16,
   "metadata": {},
   "outputs": [
    {
     "name": "stdout",
     "output_type": "stream",
     "text": [
      "[1, 2, 2, 4]\n"
     ]
    }
   ],
   "source": [
    "my_list = [1, 2]\n",
    "my_list += [2, 4]\n",
    "print(my_list)"
   ]
  },
  {
   "cell_type": "code",
   "execution_count": 17,
   "metadata": {},
   "outputs": [
    {
     "name": "stdout",
     "output_type": "stream",
     "text": [
      "[1, 4, 2, 3]\n"
     ]
    }
   ],
   "source": [
    "my_list = [1, 2, 3]\n",
    "my_list.insert(1, 4)\n",
    "print(my_list)"
   ]
  },
  {
   "cell_type": "code",
   "execution_count": 18,
   "metadata": {},
   "outputs": [
    {
     "name": "stdout",
     "output_type": "stream",
     "text": [
      "[1, 5, 6, 2, 3, 4]\n"
     ]
    }
   ],
   "source": [
    "my_list = [1, 2, 3, 4]\n",
    "my_list[1:1] = [5, 6]\n",
    "print(my_list)"
   ]
  },
  {
   "cell_type": "markdown",
   "metadata": {},
   "source": [
    "### Eliminar datos de una lista"
   ]
  },
  {
   "cell_type": "code",
   "execution_count": 19,
   "metadata": {},
   "outputs": [
    {
     "name": "stdout",
     "output_type": "stream",
     "text": [
      "[1, 3]\n"
     ]
    }
   ],
   "source": [
    "my_list = [1, 2, 3]\n",
    "del my_list[1]\n",
    "print(my_list)"
   ]
  },
  {
   "cell_type": "code",
   "execution_count": 20,
   "metadata": {},
   "outputs": [
    {
     "name": "stdout",
     "output_type": "stream",
     "text": [
      "['H', 'e', 'l', 'l']\n"
     ]
    }
   ],
   "source": [
    "my_list = ['H', 'e', 'l', 'l', 'o']\n",
    "my_list.remove('o')\n",
    "print(my_list)"
   ]
  },
  {
   "cell_type": "markdown",
   "metadata": {},
   "source": [
    "pop(). Entre paréntesis se envía el subíndice del dato que se quiere eliminar y este devolverá el dato que se eliminó"
   ]
  },
  {
   "cell_type": "code",
   "execution_count": 21,
   "metadata": {},
   "outputs": [
    {
     "name": "stdout",
     "output_type": "stream",
     "text": [
      "e\n",
      "['H', 'l', 'l', 'o']\n"
     ]
    }
   ],
   "source": [
    "my_list = ['H', 'e', 'l', 'l', 'o']\n",
    "print(my_list.pop(1))\n",
    "print(my_list)"
   ]
  },
  {
   "cell_type": "code",
   "execution_count": 22,
   "metadata": {},
   "outputs": [
    {
     "name": "stdout",
     "output_type": "stream",
     "text": [
      "['H', 'o']\n"
     ]
    }
   ],
   "source": [
    "my_list = ['H', 'e', 'l', 'l', 'o']\n",
    "my_list[1:4] = []\n",
    "print(my_list)"
   ]
  },
  {
   "cell_type": "markdown",
   "metadata": {},
   "source": [
    "## Tuplas:\n",
    "\n",
    "Las tuplas son una estructura de datos ordenada, muy similares a las listas, también con un subíndice asignado a cada dato, pero la única diferencia que lo caracteriza es su inmutabilidad, lo cual causa que no se pueda modificar la tupla desde su creación, es decir, no se pueden agregar, eliminar ni reasignar datos de la tupla."
   ]
  },
  {
   "cell_type": "code",
   "execution_count": 2,
   "metadata": {},
   "outputs": [],
   "source": [
    "#sets"
   ]
  },
  {
   "cell_type": "code",
   "execution_count": null,
   "metadata": {},
   "outputs": [],
   "source": []
  },
  {
   "cell_type": "code",
   "execution_count": null,
   "metadata": {},
   "outputs": [],
   "source": []
  }
 ],
 "metadata": {
  "kernelspec": {
   "display_name": "Python 3",
   "language": "python",
   "name": "python3"
  },
  "language_info": {
   "codemirror_mode": {
    "name": "ipython",
    "version": 3
   },
   "file_extension": ".py",
   "mimetype": "text/x-python",
   "name": "python",
   "nbconvert_exporter": "python",
   "pygments_lexer": "ipython3",
   "version": "3.8.5"
  }
 },
 "nbformat": 4,
 "nbformat_minor": 4
}
