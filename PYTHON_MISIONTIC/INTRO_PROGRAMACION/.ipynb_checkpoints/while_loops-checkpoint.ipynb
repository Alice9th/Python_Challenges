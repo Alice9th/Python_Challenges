{
 "cells": [
  {
   "cell_type": "markdown",
   "metadata": {},
   "source": [
    "# Ciclo while"
   ]
  },
  {
   "cell_type": "code",
   "execution_count": 6,
   "metadata": {},
   "outputs": [
    {
     "name": "stdin",
     "output_type": "stream",
     "text": [
      "Ingrese un numero entero 2\n"
     ]
    },
    {
     "name": "stdout",
     "output_type": "stream",
     "text": [
      "2-3-3\n"
     ]
    }
   ],
   "source": [
    "n = int(input(\"Ingrese un numero entero\"))\n",
    "s = 0\n",
    "i = 1\n",
    "while i <= n:\n",
    "    s = s + i\n",
    "    i += 1\n",
    "print(n,s, i, sep = \"-\")"
   ]
  },
  {
   "cell_type": "markdown",
   "metadata": {},
   "source": [
    "## Factorial"
   ]
  },
  {
   "cell_type": "code",
   "execution_count": 8,
   "metadata": {},
   "outputs": [
    {
     "name": "stdout",
     "output_type": "stream",
     "text": [
      "el factorial de  2 es:  4\n"
     ]
    }
   ],
   "source": [
    "factorial = 1\n",
    "i = 1\n",
    "while i <= n:\n",
    "    factorial = factorial + i\n",
    "    i += 1\n",
    "print(f\"el factorial de \", n, \"es: \", factorial)"
   ]
  },
  {
   "cell_type": "markdown",
   "metadata": {},
   "source": [
    "## Otro ejercicio"
   ]
  },
  {
   "cell_type": "code",
   "execution_count": 12,
   "metadata": {},
   "outputs": [
    {
     "name": "stdin",
     "output_type": "stream",
     "text": [
      "Ingrese nombre Julia\n",
      "Ingrese salario:  2000\n"
     ]
    },
    {
     "name": "stdout",
     "output_type": "stream",
     "text": [
      "Nombre Julia \tSalario 2000 \tAUmento 0 \tNuevo salario 2000\n"
     ]
    },
    {
     "name": "stdin",
     "output_type": "stream",
     "text": [
      "Ingrese nombre \n"
     ]
    },
    {
     "name": "stdout",
     "output_type": "stream",
     "text": [
      "Ha terminado\n"
     ]
    }
   ],
   "source": [
    "nombre = input(\"Ingrese nombre\")\n",
    "while nombre != \"\":\n",
    "    salario = int(input(\"Ingrese salario: \"))\n",
    "    aumento = 0\n",
    "    if salario < 1000:\n",
    "        aumento = salario * 0.1\n",
    "    nuevosalario = salario + aumento\n",
    "    print(\"Nombre\", nombre, \"\\tSalario\", salario, \"\\tAUmento\", aumento, \"\\tNuevo salario\", nuevosalario)\n",
    "    nombre = input(\"Ingrese nombre\")\n",
    "print(\"Ha terminado\")"
   ]
  },
  {
   "cell_type": "markdown",
   "metadata": {},
   "source": [
    "## Determinar si un numero entero es primo o no\n",
    "\n",
    "Elaboración del algoritmo. El análisis para nuestro algoritmo es:\n",
    "\n",
    " Datos de entrada: número entero: x.\n",
    " Cálculos: hallar el residuo de dividir x por todos los enteros desde 2 hasta o hasta que algún residuo de igual a 0. Estos cálculos implican generar un divisor, que representaremos con la variable i.\n",
    " Datos de salida: el mensaje “es primo” o “no es primo”.\n",
    " \n",
    " --> en este caso x**(0.5) equivale a la raíz cuadrada\n"
   ]
  },
  {
   "cell_type": "code",
   "execution_count": 15,
   "metadata": {},
   "outputs": [
    {
     "name": "stdin",
     "output_type": "stream",
     "text": [
      "Ingrese un numero entero:  4\n"
     ]
    },
    {
     "name": "stdout",
     "output_type": "stream",
     "text": [
      "4 No es un numero primo\n"
     ]
    }
   ],
   "source": [
    "x = int(input(\"Ingrese un numero entero: \"))\n",
    "i = 2\n",
    "while i <= x**(0.5) and x % i != 0:\n",
    "    i += 1\n",
    "if i > x**(0.5) :\n",
    "    print(x, \"Es un numero primo\")\n",
    "else:\n",
    "    print(x, \"No es un numero primo\")   \n",
    "    "
   ]
  },
  {
   "cell_type": "markdown",
   "metadata": {},
   "source": [
    "La condición del ciclo es una condición compuesta y el conector es la conjunción and; por consiguiente, para que la condición compuesta sea verdadera, las dos condiciones deben ser verdaderas: i menor o igual que la raíz cuadrada de x, y x módulo i (x % i) diferente de 0. El ciclo termina cuando una de las dos condiciones sea falsa. Por consiguiente, cuando se salga del ciclo se evalúa cuál condición fue la que resultó falsa."
   ]
  },
  {
   "cell_type": "markdown",
   "metadata": {},
   "source": [
    "## Utilizando el modulo math"
   ]
  },
  {
   "cell_type": "code",
   "execution_count": 43,
   "metadata": {},
   "outputs": [],
   "source": [
    "import math"
   ]
  },
  {
   "cell_type": "code",
   "execution_count": 47,
   "metadata": {},
   "outputs": [
    {
     "name": "stdin",
     "output_type": "stream",
     "text": [
      "entre número entero  3\n"
     ]
    },
    {
     "name": "stdout",
     "output_type": "stream",
     "text": [
      "3 es primo\n"
     ]
    }
   ],
   "source": [
    "x = int(input(\"entre número entero \"))\n",
    "i = 2\n",
    "\n",
    "while i <= math.sqrt(x) and x % i != 0:\n",
    "    i = i + 1\n",
    "if i > math.sqrt(x):\n",
    "        print(x, \"es primo\")\n",
    "else:\n",
    "        print(x, \"NO es primo\")"
   ]
  },
  {
   "cell_type": "markdown",
   "metadata": {},
   "source": [
    "## Mostrar todos los numeros primos desde 3 hasta un entero n"
   ]
  },
  {
   "cell_type": "code",
   "execution_count": 21,
   "metadata": {},
   "outputs": [
    {
     "name": "stdin",
     "output_type": "stream",
     "text": [
      "Ingrese un numero entero:  3\n"
     ]
    },
    {
     "name": "stdout",
     "output_type": "stream",
     "text": [
      "3 Es un numero primo\n"
     ]
    }
   ],
   "source": [
    "n = int(input(\"Ingrese un numero entero: \"))\n",
    "x = 3\n",
    "\n",
    "while x <= n:\n",
    "    i = 2\n",
    "    while i <= x**(0.5) and x % i != 0:\n",
    "        i += 1\n",
    "    if i > x**(0.5):\n",
    "        print(x, \"Es un numero primo\")\n",
    "    x = x + 2"
   ]
  },
  {
   "cell_type": "markdown",
   "metadata": {},
   "source": [
    "## Mostrar todos los numeros primos desde 3 hasta 33"
   ]
  },
  {
   "cell_type": "code",
   "execution_count": 23,
   "metadata": {},
   "outputs": [
    {
     "name": "stdout",
     "output_type": "stream",
     "text": [
      "3 Es un numero primo\n",
      "5 Es un numero primo\n",
      "7 Es un numero primo\n",
      "11 Es un numero primo\n",
      "13 Es un numero primo\n",
      "17 Es un numero primo\n",
      "19 Es un numero primo\n",
      "23 Es un numero primo\n",
      "29 Es un numero primo\n",
      "31 Es un numero primo\n"
     ]
    }
   ],
   "source": [
    "x = 3\n",
    "\n",
    "while x <= 33:\n",
    "    i = 2\n",
    "    while i <= x**(0.5) and x % i != 0:\n",
    "        i += 1\n",
    "    if i > x**(0.5):\n",
    "        print(x, \"Es un numero primo\")\n",
    "    x = x + 2"
   ]
  },
  {
   "cell_type": "markdown",
   "metadata": {},
   "source": [
    "## Contadores"
   ]
  },
  {
   "cell_type": "code",
   "execution_count": 35,
   "metadata": {},
   "outputs": [
    {
     "name": "stdin",
     "output_type": "stream",
     "text": [
      "entre nombre  Julia\n",
      "Julia entre salario  200\n"
     ]
    },
    {
     "name": "stdout",
     "output_type": "stream",
     "text": [
      "Nombre Julia salario 200 Aumento 20.0 Nuevo salario 220.0\n"
     ]
    },
    {
     "name": "stdin",
     "output_type": "stream",
     "text": [
      "entre nombre  Martin\n",
      "Martin entre salario  300\n"
     ]
    },
    {
     "name": "stdout",
     "output_type": "stream",
     "text": [
      "Nombre Martin salario 300 Aumento 30.0 Nuevo salario 330.0\n"
     ]
    },
    {
     "name": "stdin",
     "output_type": "stream",
     "text": [
      "entre nombre  \n"
     ]
    },
    {
     "name": "stdout",
     "output_type": "stream",
     "text": [
      "Total empleados 2\n"
     ]
    }
   ],
   "source": [
    "contador = 0\n",
    "nombre = input(\"entre nombre \")\n",
    "while nombre != \"\":\n",
    "    salario = int(input(f\"{nombre} entre salario \"))\n",
    "    contador = contador + 1\n",
    "    aumento = 0.\n",
    "    if salario < 1000:\n",
    "        aumento = salario * 0.1\n",
    "    nuevoSalario = salario + aumento\n",
    "    print(\"Nombre\", nombre, \"salario\", salario, \"Aumento\", aumento, \"Nuevo salario\",nuevoSalario)\n",
    "    nombre = input(\"entre nombre \")\n",
    "print(\"Total empleados\", contador)"
   ]
  },
  {
   "cell_type": "markdown",
   "metadata": {},
   "source": [
    "## Concepto de acumulador"
   ]
  },
  {
   "cell_type": "code",
   "execution_count": 36,
   "metadata": {},
   "outputs": [
    {
     "name": "stdin",
     "output_type": "stream",
     "text": [
      "entre nombre  Julia\n",
      "Julia entre salario  200\n"
     ]
    },
    {
     "name": "stdout",
     "output_type": "stream",
     "text": [
      "Nombre Julia \tsalario 200 \tAumento\t 20.0 \tNuevo salario\t 220.0\n"
     ]
    },
    {
     "name": "stdin",
     "output_type": "stream",
     "text": [
      "entre nombre  Martin\n",
      "Martin entre salario  300\n"
     ]
    },
    {
     "name": "stdout",
     "output_type": "stream",
     "text": [
      "Nombre Martin \tsalario 300 \tAumento\t 30.0 \tNuevo salario\t 330.0\n"
     ]
    },
    {
     "name": "stdin",
     "output_type": "stream",
     "text": [
      "entre nombre  \n"
     ]
    },
    {
     "name": "stdout",
     "output_type": "stream",
     "text": [
      "Total empleados 2\n",
      "Total salarios anteriores  500.0\n",
      "Total aumentos  50.0\n",
      "Total nuevos salarios  550.0\n"
     ]
    }
   ],
   "source": [
    "tsa = 0.\n",
    "tau = 0.\n",
    "tns = 0.\n",
    "contador = 0\n",
    "nombre = input(\"entre nombre \")\n",
    "while nombre != \"\":\n",
    "    salario = int(input(f\"{nombre} entre salario \"))\n",
    "    tsa = tsa + salario\n",
    "    contador = contador + 1\n",
    "    aumento = 0.\n",
    "    if salario < 1000:\n",
    "        aumento = salario * 0.1\n",
    "        tau = tau + aumento\n",
    "    nuevoSalario = salario + aumento\n",
    "    tns = tns + nuevoSalario\n",
    "    print(\"Nombre\", nombre, \"\\tsalario\", salario, \"\\tAumento\\t\", aumento, \"\\tNuevo salario\\t\", nuevoSalario)\n",
    "    nombre = input(\"entre nombre \")\n",
    "print(\"Total empleados\", contador)\n",
    "print(\"Total salarios anteriores \", tsa)\n",
    "print(\"Total aumentos \", tau)\n",
    "print(\"Total nuevos salarios \", tns)"
   ]
  },
  {
   "cell_type": "markdown",
   "metadata": {},
   "source": [
    "En las primeras tres instrucciones se definen los acumuladores y se inicializan en 0.\n",
    "\n",
    "El total de salarios actuales (tsa) se actualiza tan pronto es leído un salario actual; el total de aumentos (tau) se actualiza cada vez que se calcula un nuevo aumento (es decir, cuando la condición de que el salario actual es menor que 1000); el total de nuevos salarios (tns) se actualiza cada vez que se determina el nuevo salario de un empleado"
   ]
  },
  {
   "cell_type": "markdown",
   "metadata": {},
   "source": [
    "## Aplicación y uso de contadores y acumuladores"
   ]
  },
  {
   "cell_type": "code",
   "execution_count": 37,
   "metadata": {},
   "outputs": [
    {
     "name": "stdin",
     "output_type": "stream",
     "text": [
      "entre nombre  Julia\n",
      "Julia entre salario  200\n"
     ]
    },
    {
     "name": "stdout",
     "output_type": "stream",
     "text": [
      "Nombre Julia salario 200 Aumento 20.0 Nuevo salario 220.0\n"
     ]
    },
    {
     "name": "stdin",
     "output_type": "stream",
     "text": [
      "entre nombre  Martin\n",
      "Martin entre salario  300\n"
     ]
    },
    {
     "name": "stdout",
     "output_type": "stream",
     "text": [
      "Nombre Martin salario 300 Aumento 30.0 Nuevo salario 330.0\n"
     ]
    },
    {
     "name": "stdin",
     "output_type": "stream",
     "text": [
      "entre nombre  \n"
     ]
    },
    {
     "name": "stdout",
     "output_type": "stream",
     "text": [
      "Total empleados 2\n",
      "Total salarios anteriores 500.0 Promedio 250.0\n",
      "Total aumentos  50.0 Promedio 25.0\n",
      "Total nuevos salarios  550.0 Promedio 275.0\n"
     ]
    }
   ],
   "source": [
    "tsa = 0.\n",
    "tau = 0.\n",
    "tns = 0.\n",
    "contador = 0\n",
    "nombre = input(\"entre nombre \")\n",
    "while nombre != \"\":\n",
    "    salario = int(input(f\"{nombre} entre salario \"))\n",
    "    tsa = tsa + salario\n",
    "    contador = contador + 1\n",
    "    aumento = 0.\n",
    "    if salario < 1000:\n",
    "        aumento = salario * 0.1\n",
    "        tau = tau + aumento\n",
    "        nuevoSalario = salario + aumento\n",
    "        tns = tns + nuevoSalario\n",
    "        print(\"Nombre\", nombre, \"salario\", salario, \"Aumento\", aumento, \"Nuevo salario\", nuevoSalario)\n",
    "        nombre = input(\"entre nombre \")\n",
    "        psa = tsa / contador\n",
    "        pau = tau / contador\n",
    "        pns = tns / contador\n",
    "print(\"Total empleados\", contador)\n",
    "print(\"Total salarios anteriores\", tsa, \"Promedio\", psa)\n",
    "print(\"Total aumentos \", tau, \"Promedio\", pau)\n",
    "print(\"Total nuevos salarios \", tns, \"Promedio\", pns)"
   ]
  },
  {
   "cell_type": "markdown",
   "metadata": {},
   "source": [
    "**Atención: los promedios se calculan después de que se ha terminado de ejecutar el ciclo while. Es un error común en los principiantes calcular promedios dentro del ciclo. Los promedios se calculan cuando se tiene el total de los contadores y el total de los acumuladores, y estos datos solo se tienen cuando se ha terminado el ciclo.**"
   ]
  },
  {
   "cell_type": "markdown",
   "metadata": {},
   "source": [
    "# Ciclos anidados"
   ]
  },
  {
   "cell_type": "markdown",
   "metadata": {},
   "source": [
    "### calcular la sumatoria de todos los enteros desde 1 hasta n"
   ]
  },
  {
   "cell_type": "code",
   "execution_count": 39,
   "metadata": {},
   "outputs": [
    {
     "name": "stdin",
     "output_type": "stream",
     "text": [
      "entre número entero:  4\n"
     ]
    },
    {
     "name": "stdout",
     "output_type": "stream",
     "text": [
      "La suma de los enteros desde 1 hasta 4 es 10\n"
     ]
    }
   ],
   "source": [
    "n = int(input(\"entre número entero: \"))\n",
    "\n",
    "suma = 0\n",
    "consecutivo = 1\n",
    "while consecutivo <= n:\n",
    "            suma = suma + consecutivo\n",
    "            consecutivo = consecutivo + 1\n",
    "print(\"La suma de los enteros desde 1 hasta\", n, \"es\", suma)"
   ]
  },
  {
   "cell_type": "markdown",
   "metadata": {},
   "source": [
    "### calcular el factorial de un entero n\n",
    "\n",
    "El factorial de un número entero n se define como la productoria de todos los enteros desde 1 hasta n.\n",
    "Es un algoritmo similar al de la sumatoria, con la diferencia de que, en vez de hacer sumas sucesivas, lo que hacemos es multiplicaciones sucesivas."
   ]
  },
  {
   "cell_type": "code",
   "execution_count": 42,
   "metadata": {},
   "outputs": [
    {
     "name": "stdin",
     "output_type": "stream",
     "text": [
      "entre número entero  3\n"
     ]
    },
    {
     "name": "stdout",
     "output_type": "stream",
     "text": [
      "El factorial de 3 es 6\n"
     ]
    }
   ],
   "source": [
    "n = int(input(\"entre número entero \"))\n",
    "\n",
    "producto = 1\n",
    "consecutivo = 1\n",
    "while consecutivo <= n:\n",
    "            producto = producto * consecutivo\n",
    "            consecutivo = consecutivo + 1\n",
    "\n",
    "print(\"El factorial de\", n, \"es\", producto)"
   ]
  },
  {
   "cell_type": "markdown",
   "metadata": {},
   "source": [
    "## Algoritmo de una tabla de multiplicar. "
   ]
  },
  {
   "cell_type": "code",
   "execution_count": 62,
   "metadata": {},
   "outputs": [
    {
     "name": "stdin",
     "output_type": "stream",
     "text": [
      "Ingrese número entero:  2\n"
     ]
    },
    {
     "name": "stdout",
     "output_type": "stream",
     "text": [
      "2 * 1 = 2\n",
      "2 * 2 = 4\n",
      "2 * 3 = 6\n",
      "2 * 4 = 8\n",
      "2 * 5 = 10\n",
      "2 * 6 = 12\n",
      "2 * 7 = 14\n",
      "2 * 8 = 16\n",
      "2 * 9 = 18\n",
      "2 * 10 = 20\n",
      "\n",
      "La tabla ha terminado\n",
      "\n"
     ]
    }
   ],
   "source": [
    "n = int(input(\"Ingrese número entero: \"))\n",
    "i = 1\n",
    "while i <= 10:\n",
    "    r = n * i\n",
    "    print(n, \"*\", i, \"=\", r)\n",
    "    i +=1\n",
    "print(\"\\nLa tabla ha terminado\\n\")"
   ]
  },
  {
   "cell_type": "markdown",
   "metadata": {},
   "source": [
    "## Algoritmo de varias tablas de multiplica"
   ]
  },
  {
   "cell_type": "markdown",
   "metadata": {},
   "source": [
    "n = int(input(\"entre número entero \"))\n",
    "x = 1\n",
    "\n",
    "while x <= n:\n",
    "    i = 1\n",
    "    while i <= 10:\n",
    "        r = x * i\n",
    "        print(x, \"*\", i, \"=\", r)\n",
    "        i = i + 1\n",
    "    x = x + 1\n",
    "    print(\" \")"
   ]
  },
  {
   "cell_type": "code",
   "execution_count": 65,
   "metadata": {},
   "outputs": [],
   "source": [
    "# Prueba corta"
   ]
  },
  {
   "cell_type": "code",
   "execution_count": 72,
   "metadata": {},
   "outputs": [
    {
     "name": "stdin",
     "output_type": "stream",
     "text": [
      "entre un número  0\n",
      "entre otro número  4\n",
      "entre un tercer número  1\n",
      "entre un cuarto número  2\n"
     ]
    },
    {
     "name": "stdout",
     "output_type": "stream",
     "text": [
      "3,04\n"
     ]
    }
   ],
   "source": [
    "#a = 0; b = 4; c = 1; d = 2\n",
    "a = input(\"entre un número \")\n",
    "b = input(\"entre otro número \")\n",
    "c = int(input(\"entre un tercer número \"))\n",
    "d = int(input(\"entre un cuarto número \"))\n",
    "\n",
    "if  b > a:\n",
    "    print(c+d, end= \",\")\n",
    "    print(a+b)\n",
    "\n",
    "else:\n",
    "    if a == b:          \n",
    "        print(a, d)\n",
    "    else:\n",
    "        print(a, b, c, d, sep = \"\")"
   ]
  },
  {
   "cell_type": "code",
   "execution_count": 73,
   "metadata": {},
   "outputs": [
    {
     "name": "stdin",
     "output_type": "stream",
     "text": [
      "entre un número  3\n",
      "entre otro número  1\n",
      "entre un tercer número  6\n",
      "entre un cuarto número  2\n"
     ]
    },
    {
     "name": "stdout",
     "output_type": "stream",
     "text": [
      "3162\n"
     ]
    }
   ],
   "source": [
    "#a = 3; b = 1; c = 6; d = 2\n",
    "a = input(\"entre un número \")\n",
    "b = input(\"entre otro número \")\n",
    "c = int(input(\"entre un tercer número \"))\n",
    "d = int(input(\"entre un cuarto número \"))\n",
    "\n",
    "if  b > a:\n",
    "    print(c+d, end= \",\")\n",
    "    print(a+b)\n",
    "\n",
    "else:\n",
    "    if a == b:          \n",
    "        print(a, d)\n",
    "    else:\n",
    "        print(a, b, c, d, sep = \"\")"
   ]
  },
  {
   "cell_type": "code",
   "execution_count": null,
   "metadata": {},
   "outputs": [],
   "source": []
  }
 ],
 "metadata": {
  "kernelspec": {
   "display_name": "Python 3",
   "language": "python",
   "name": "python3"
  },
  "language_info": {
   "codemirror_mode": {
    "name": "ipython",
    "version": 3
   },
   "file_extension": ".py",
   "mimetype": "text/x-python",
   "name": "python",
   "nbconvert_exporter": "python",
   "pygments_lexer": "ipython3",
   "version": "3.8.5"
  }
 },
 "nbformat": 4,
 "nbformat_minor": 4
}
