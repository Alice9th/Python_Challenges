{
 "cells": [
  {
   "cell_type": "markdown",
   "metadata": {},
   "source": [
    "# Ciclo while"
   ]
  },
  {
   "cell_type": "code",
   "execution_count": 6,
   "metadata": {},
   "outputs": [
    {
     "name": "stdin",
     "output_type": "stream",
     "text": [
      "Ingrese un numero entero 2\n"
     ]
    },
    {
     "name": "stdout",
     "output_type": "stream",
     "text": [
      "2-3-3\n"
     ]
    }
   ],
   "source": [
    "n = int(input(\"Ingrese un numero entero\"))\n",
    "s = 0\n",
    "i = 1\n",
    "while i <= n:\n",
    "    s = s + i\n",
    "    i += 1\n",
    "print(n,s, i, sep = \"-\")"
   ]
  },
  {
   "cell_type": "markdown",
   "metadata": {},
   "source": [
    "## Factorial"
   ]
  },
  {
   "cell_type": "code",
   "execution_count": 8,
   "metadata": {},
   "outputs": [
    {
     "name": "stdout",
     "output_type": "stream",
     "text": [
      "el factorial de  2 es:  4\n"
     ]
    }
   ],
   "source": [
    "factorial = 1\n",
    "i = 1\n",
    "while i <= n:\n",
    "    factorial = factorial + i\n",
    "    i += 1\n",
    "print(f\"el factorial de \", n, \"es: \", factorial)"
   ]
  },
  {
   "cell_type": "markdown",
   "metadata": {},
   "source": [
    "## Otro ejercicio"
   ]
  },
  {
   "cell_type": "code",
   "execution_count": 12,
   "metadata": {},
   "outputs": [
    {
     "name": "stdin",
     "output_type": "stream",
     "text": [
      "Ingrese nombre Julia\n",
      "Ingrese salario:  2000\n"
     ]
    },
    {
     "name": "stdout",
     "output_type": "stream",
     "text": [
      "Nombre Julia \tSalario 2000 \tAUmento 0 \tNuevo salario 2000\n"
     ]
    },
    {
     "name": "stdin",
     "output_type": "stream",
     "text": [
      "Ingrese nombre \n"
     ]
    },
    {
     "name": "stdout",
     "output_type": "stream",
     "text": [
      "Ha terminado\n"
     ]
    }
   ],
   "source": [
    "nombre = input(\"Ingrese nombre\")\n",
    "while nombre != \"\":\n",
    "    salario = int(input(\"Ingrese salario: \"))\n",
    "    aumento = 0\n",
    "    if salario < 1000:\n",
    "        aumento = salario * 0.1\n",
    "    nuevosalario = salario + aumento\n",
    "    print(\"Nombre\", nombre, \"\\tSalario\", salario, \"\\tAUmento\", aumento, \"\\tNuevo salario\", nuevosalario)\n",
    "    nombre = input(\"Ingrese nombre\")\n",
    "print(\"Ha terminado\")"
   ]
  },
  {
   "cell_type": "markdown",
   "metadata": {},
   "source": [
    "### Determinar si un numero entero es primo o no"
   ]
  },
  {
   "cell_type": "code",
   "execution_count": 15,
   "metadata": {},
   "outputs": [
    {
     "name": "stdin",
     "output_type": "stream",
     "text": [
      "Ingrese un numero entero:  4\n"
     ]
    },
    {
     "name": "stdout",
     "output_type": "stream",
     "text": [
      "4 No es un numero primo\n"
     ]
    }
   ],
   "source": [
    "x = int(input(\"Ingrese un numero entero: \"))\n",
    "i = 2\n",
    "while i <= x**(0.5) and x % i != 0:\n",
    "    i += 1\n",
    "if i > x**(0.5) :\n",
    "    print(x, \"Es un numero primo\")\n",
    "else:\n",
    "    print(x, \"No es un numero primo\")   \n",
    "    "
   ]
  },
  {
   "cell_type": "markdown",
   "metadata": {},
   "source": [
    "## Mostrar todos los numeros primos desde 3 hasta un entero n"
   ]
  },
  {
   "cell_type": "code",
   "execution_count": 21,
   "metadata": {},
   "outputs": [
    {
     "name": "stdin",
     "output_type": "stream",
     "text": [
      "Ingrese un numero entero:  3\n"
     ]
    },
    {
     "name": "stdout",
     "output_type": "stream",
     "text": [
      "3 Es un numero primo\n"
     ]
    }
   ],
   "source": [
    "n = int(input(\"Ingrese un numero entero: \"))\n",
    "x = 3\n",
    "\n",
    "while x <= n:\n",
    "    i = 2\n",
    "    while i <= x**(0.5) and x % i != 0:\n",
    "        i += 1\n",
    "    if i > x**(0.5):\n",
    "        print(x, \"Es un numero primo\")\n",
    "    x = x + 2"
   ]
  },
  {
   "cell_type": "markdown",
   "metadata": {},
   "source": [
    "## Mostrar todos los numeros primos desde 3 hasta 33"
   ]
  },
  {
   "cell_type": "code",
   "execution_count": 23,
   "metadata": {},
   "outputs": [
    {
     "name": "stdout",
     "output_type": "stream",
     "text": [
      "3 Es un numero primo\n",
      "5 Es un numero primo\n",
      "7 Es un numero primo\n",
      "11 Es un numero primo\n",
      "13 Es un numero primo\n",
      "17 Es un numero primo\n",
      "19 Es un numero primo\n",
      "23 Es un numero primo\n",
      "29 Es un numero primo\n",
      "31 Es un numero primo\n"
     ]
    }
   ],
   "source": [
    "x = 3\n",
    "\n",
    "while x <= 33:\n",
    "    i = 2\n",
    "    while i <= x**(0.5) and x % i != 0:\n",
    "        i += 1\n",
    "    if i > x**(0.5):\n",
    "        print(x, \"Es un numero primo\")\n",
    "    x = x + 2"
   ]
  },
  {
   "cell_type": "markdown",
   "metadata": {},
   "source": [
    "## Contadores"
   ]
  },
  {
   "cell_type": "code",
   "execution_count": 35,
   "metadata": {},
   "outputs": [
    {
     "name": "stdin",
     "output_type": "stream",
     "text": [
      "entre nombre  Julia\n",
      "Julia entre salario  200\n"
     ]
    },
    {
     "name": "stdout",
     "output_type": "stream",
     "text": [
      "Nombre Julia salario 200 Aumento 20.0 Nuevo salario 220.0\n"
     ]
    },
    {
     "name": "stdin",
     "output_type": "stream",
     "text": [
      "entre nombre  Martin\n",
      "Martin entre salario  300\n"
     ]
    },
    {
     "name": "stdout",
     "output_type": "stream",
     "text": [
      "Nombre Martin salario 300 Aumento 30.0 Nuevo salario 330.0\n"
     ]
    },
    {
     "name": "stdin",
     "output_type": "stream",
     "text": [
      "entre nombre  \n"
     ]
    },
    {
     "name": "stdout",
     "output_type": "stream",
     "text": [
      "Total empleados 2\n"
     ]
    }
   ],
   "source": [
    "contador = 0\n",
    "nombre = input(\"entre nombre \")\n",
    "while nombre != \"\":\n",
    "    salario = int(input(f\"{nombre} entre salario \"))\n",
    "    contador = contador + 1\n",
    "    aumento = 0.\n",
    "    if salario < 1000:\n",
    "        aumento = salario * 0.1\n",
    "    nuevoSalario = salario + aumento\n",
    "    print(\"Nombre\", nombre, \"salario\", salario, \"Aumento\", aumento, \"Nuevo salario\",nuevoSalario)\n",
    "    nombre = input(\"entre nombre \")\n",
    "print(\"Total empleados\", contador)"
   ]
  },
  {
   "cell_type": "markdown",
   "metadata": {},
   "source": [
    "## Concepto de acumulador"
   ]
  },
  {
   "cell_type": "code",
   "execution_count": 36,
   "metadata": {},
   "outputs": [
    {
     "name": "stdin",
     "output_type": "stream",
     "text": [
      "entre nombre  Julia\n",
      "Julia entre salario  200\n"
     ]
    },
    {
     "name": "stdout",
     "output_type": "stream",
     "text": [
      "Nombre Julia \tsalario 200 \tAumento\t 20.0 \tNuevo salario\t 220.0\n"
     ]
    },
    {
     "name": "stdin",
     "output_type": "stream",
     "text": [
      "entre nombre  Martin\n",
      "Martin entre salario  300\n"
     ]
    },
    {
     "name": "stdout",
     "output_type": "stream",
     "text": [
      "Nombre Martin \tsalario 300 \tAumento\t 30.0 \tNuevo salario\t 330.0\n"
     ]
    },
    {
     "name": "stdin",
     "output_type": "stream",
     "text": [
      "entre nombre  \n"
     ]
    },
    {
     "name": "stdout",
     "output_type": "stream",
     "text": [
      "Total empleados 2\n",
      "Total salarios anteriores  500.0\n",
      "Total aumentos  50.0\n",
      "Total nuevos salarios  550.0\n"
     ]
    }
   ],
   "source": [
    "tsa = 0.\n",
    "tau = 0.\n",
    "tns = 0.\n",
    "contador = 0\n",
    "nombre = input(\"entre nombre \")\n",
    "while nombre != \"\":\n",
    "    salario = int(input(f\"{nombre} entre salario \"))\n",
    "    tsa = tsa + salario\n",
    "    contador = contador + 1\n",
    "    aumento = 0.\n",
    "    if salario < 1000:\n",
    "        aumento = salario * 0.1\n",
    "        tau = tau + aumento\n",
    "    nuevoSalario = salario + aumento\n",
    "    tns = tns + nuevoSalario\n",
    "    print(\"Nombre\", nombre, \"\\tsalario\", salario, \"\\tAumento\\t\", aumento, \"\\tNuevo salario\\t\", nuevoSalario)\n",
    "    nombre = input(\"entre nombre \")\n",
    "print(\"Total empleados\", contador)\n",
    "print(\"Total salarios anteriores \", tsa)\n",
    "print(\"Total aumentos \", tau)\n",
    "print(\"Total nuevos salarios \", tns)"
   ]
  },
  {
   "cell_type": "markdown",
   "metadata": {},
   "source": [
    "En las primeras tres instrucciones se definen los acumuladores y se inicializan en 0.\n",
    "\n",
    "El total de salarios actuales (tsa) se actualiza tan pronto es leído un salario actual; el total de aumentos (tau) se actualiza cada vez que se calcula un nuevo aumento (es decir, cuando la condición de que el salario actual es menor que 1000); el total de nuevos salarios (tns) se actualiza cada vez que se determina el nuevo salario de un empleado"
   ]
  },
  {
   "cell_type": "code",
   "execution_count": null,
   "metadata": {},
   "outputs": [],
   "source": []
  }
 ],
 "metadata": {
  "kernelspec": {
   "display_name": "Python 3",
   "language": "python",
   "name": "python3"
  },
  "language_info": {
   "codemirror_mode": {
    "name": "ipython",
    "version": 3
   },
   "file_extension": ".py",
   "mimetype": "text/x-python",
   "name": "python",
   "nbconvert_exporter": "python",
   "pygments_lexer": "ipython3",
   "version": "3.8.5"
  }
 },
 "nbformat": 4,
 "nbformat_minor": 4
}
