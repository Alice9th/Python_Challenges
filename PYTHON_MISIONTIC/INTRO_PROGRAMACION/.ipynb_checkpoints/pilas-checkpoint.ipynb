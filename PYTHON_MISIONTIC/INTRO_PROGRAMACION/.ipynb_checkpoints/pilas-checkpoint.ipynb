{
 "cells": [
  {
   "cell_type": "code",
   "execution_count": null,
   "metadata": {},
   "outputs": [],
   "source": [
    "class pila(vector):\n",
    "    def __init__(self, n):\n",
    "        vector.__init__(self, n)\n",
    "\n",
    "    def apilar(self, d):\n",
    "        self.agregarDato(d)\n",
    "\n",
    "    def muestraPila(self):\n",
    "        self.imprimeVector()\n",
    "\n",
    "    def desapilar(self):\n",
    "        if self.V[0] == 0:\n",
    "            print(\"Pila vacía\")\n",
    "            return None\n",
    "        d = self.V[self.V[0]]\n",
    "        self.V[0] = self.V[0] - 1\n",
    "        return d"
   ]
  },
  {
   "cell_type": "code",
   "execution_count": null,
   "metadata": {},
   "outputs": [],
   "source": [
    "from claseVector import pila\n",
    "st = pila(10)\n",
    "st.apilar(\"a\")\n",
    "st.apilar(\"b\")\n",
    "st.apilar(316)\n",
    "st.muestraPila()\n",
    "d = st.desapilar()\n",
    "print(d)"
   ]
  },
  {
   "cell_type": "code",
   "execution_count": null,
   "metadata": {},
   "outputs": [],
   "source": []
  }
 ],
 "metadata": {
  "kernelspec": {
   "display_name": "Python 3",
   "language": "python",
   "name": "python3"
  },
  "language_info": {
   "codemirror_mode": {
    "name": "ipython",
    "version": 3
   },
   "file_extension": ".py",
   "mimetype": "text/x-python",
   "name": "python",
   "nbconvert_exporter": "python",
   "pygments_lexer": "ipython3",
   "version": "3.8.5"
  }
 },
 "nbformat": 4,
 "nbformat_minor": 4
}
