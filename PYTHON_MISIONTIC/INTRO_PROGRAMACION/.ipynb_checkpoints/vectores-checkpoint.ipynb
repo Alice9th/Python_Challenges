{
 "cells": [
  {
   "cell_type": "markdown",
   "metadata": {},
   "source": [
    "# Vectores\n",
    "\n",
    "Solucion impráctica para CENSO"
   ]
  },
  {
   "cell_type": "code",
   "execution_count": null,
   "metadata": {},
   "outputs": [],
   "source": [
    "acuMed = 0\n",
    "acuBello = 0\n",
    "acuIta = 0\n",
    "acuEnv = 0\n",
    "mpio = int(input(\"Entre código de municipio \"))\n",
    "\n",
    "while mpio != 0:\n",
    "    np = int(input(\"Entre número de personas \"))\n",
    "    if mpio == 1:\n",
    "        acuMed = acuMed + np\n",
    "    elif mpio == 2:\n",
    "            acuBello = acuBello + np\n",
    "    elif mpio == 3:\n",
    "                acuIta = acuita + np\n",
    "    elif mpio == 4:\n",
    "                    acuEnv = acuEnv + np\n",
    "    else:\n",
    "                        print(\"Código de municipio inválido \")\n",
    "                        mpio = int(input(\"Entre código de municipio \"))\n",
    "print(\"Habitantes Medellín\", acuMed, \"Habitantes Bello\", acuBello)\n",
    "print(\"Habitantes Itaguí\", acuIta, \"Habitantes Envigado\", acuEnv)"
   ]
  },
  {
   "cell_type": "markdown",
   "metadata": {},
   "source": [
    "## Utilizando vectores"
   ]
  },
  {
   "cell_type": "code",
   "execution_count": null,
   "metadata": {},
   "outputs": [],
   "source": [
    "n = 125\n",
    "\n",
    "acmpio = [0] * (n + 1)\n",
    "\n",
    "mpio = int(input(\"Entre código de municipio \"))\n",
    "\n",
    "while mpio != 0:\n",
    "    np = int(input(\"Entre número de personas \"))\n",
    "    acmpio[mpio] = acmpio[mpio] + np\n",
    "    mpio = int(input(\"Entre código de municipio \"))\n",
    "\n",
    "for i in range(1, n + 1):\n",
    "\n",
    "            print(\"Municipio\", i, \"Habitantes = \", acmpio[i])"
   ]
  },
  {
   "cell_type": "markdown",
   "metadata": {},
   "source": [
    "Al vector acmpio lo definimos con la instrucción acmpio = [0] * (n + 1), lo cual significa que la variable acmpio será un vector de 126 elementos, cuyos subíndices van desde 0 hasta 125. Recuerde que son 125 municipios y que los códigos de los municipios empiezan en 1. Es decir, no estamos utilizando la posición 0 del vector. El hecho de usar corchetes en la definición instruye a la máquina para que sepa que la variable acmpio es un arreglo de una dimensión. El 0 entre los corchetes le indica que todos los elementos del vector se inicializan en 0."
   ]
  },
  {
   "cell_type": "markdown",
   "metadata": {},
   "source": [
    "## Programa para procesar n cantidad de municipios"
   ]
  },
  {
   "cell_type": "code",
   "execution_count": null,
   "metadata": {},
   "outputs": [],
   "source": [
    "n = 10\n",
    "for i in range(1, n + 1):\n",
    "    V[i] = 0\n",
    "Lea(mpio)\n",
    "while mpio != 0:\n",
    "    lea(np)\n",
    "    V[mpio] = V[mpio] + np\n",
    "    lea(mpio)\n",
    "for i in range(1, n + 1):\n",
    "    print(V[i], end = \",\")"
   ]
  },
  {
   "cell_type": "code",
   "execution_count": null,
   "metadata": {},
   "outputs": [],
   "source": [
    "n = 10\n",
    "nomMpio = [\"\", \"Medellin\", \"Sabaneta\", \"Rionegro\"]\n",
    "acmpio = [0]*(n+1)\n",
    "mpio = int(input(\"Ingrese el código del municipio: \"))\n",
    "while mpio != 0:\n",
    "    np = int(input(\"Ingrese el numero de personas: \"))\n",
    "    acmpio[mpio] = acmpio[mpio] + np\n",
    "for i in range(1, n+1):\n",
    "    print(\"Municipio\", nmpio[i], \"Habitantes\", acmpio[i])\n",
    "    "
   ]
  },
  {
   "cell_type": "markdown",
   "metadata": {},
   "source": [
    "### Operaciones con vectores\n",
    "\n",
    "1. Mostrar los datos en el vector\n",
    "2. Sumar los datos del vector\n",
    "3. Intercambiar dos datos del vector\n",
    "4. Determinar cuántos datos están almacenados en el vector\n",
    "5. Determinar la posición en la cual se halla el mayor dato\n",
    "6. Determinar la posición en la cual se halla el menor dato\n",
    "7. Ordenar los datos en el vector, sea ascendente o descendentemente\n",
    "8. Agregar un dato al final del vector\n",
    "9. Insertar un dato en un vector cuyos datos están ordenados\n",
    "10. Eliminar un dato del vector\n",
    "\n",
    "### Asignacion: \n",
    "llevar un dato a una posicion específica del vector"
   ]
  },
  {
   "cell_type": "code",
   "execution_count": null,
   "metadata": {},
   "outputs": [],
   "source": [
    "var[i] = dato\n",
    "var[7] = dato"
   ]
  },
  {
   "cell_type": "markdown",
   "metadata": {},
   "source": [
    "### Acceso al dato"
   ]
  },
  {
   "cell_type": "code",
   "execution_count": null,
   "metadata": {},
   "outputs": [],
   "source": [
    "d1 = var[k]\n",
    "d2 = var[7]"
   ]
  },
  {
   "cell_type": "markdown",
   "metadata": {},
   "source": [
    "### Suma"
   ]
  },
  {
   "cell_type": "code",
   "execution_count": null,
   "metadata": {},
   "outputs": [],
   "source": [
    "def sumaVector(V,n):\n",
    "    s = 0\n",
    "    for i in range (1,n):\n",
    "        s = s + V[i]\n",
    "    return s"
   ]
  },
  {
   "cell_type": "code",
   "execution_count": null,
   "metadata": {},
   "outputs": [],
   "source": [
    "def mayorDato(V,n):\n",
    "    mayor = 0\n",
    "    for i in range(n):\n",
    "        if V[i] > V[mayor]:\n",
    "            mayor = 1\n",
    "    return mayor"
   ]
  },
  {
   "cell_type": "code",
   "execution_count": null,
   "metadata": {},
   "outputs": [],
   "source": [
    "n = int(input(“Entre tamaño del vector ”))\n",
    "V = [0] * (n + 1)"
   ]
  },
  {
   "cell_type": "code",
   "execution_count": 1,
   "metadata": {},
   "outputs": [],
   "source": [
    "def construyeVector(V, n):\n",
    "    V[0] = n\n",
    "    for i in range(1, n + 1):\n",
    "        V[i] = random.randint(1, 99)"
   ]
  },
  {
   "cell_type": "markdown",
   "metadata": {},
   "source": [
    "Con ese subprograma se cargan las primeras n posiciones del vector V (desde la posición 1 hasta la n) con datos enteros generados aleatoriamente, cada dato un valor entero entre 1 y 99. En la posición 0 del vector se guarda el número de datos que tiene el vector."
   ]
  },
  {
   "cell_type": "code",
   "execution_count": 2,
   "metadata": {},
   "outputs": [],
   "source": [
    "def imprimeVector(V, mensaje = \"Vector sin nombre\"):\n",
    "    print(\"\\n\", mensaje, end=\" \")\n",
    "    m = V[0] + 1\n",
    "    for i in range(1, m):\n",
    "            print(V[i], end = \", \")"
   ]
  },
  {
   "cell_type": "markdown",
   "metadata": {},
   "source": [
    "Esta función tiene como parámetro el vector V y un mensaje. Observe que a la variable mensaje se le asigna una leyenda. Esto significa que el parámetro mensaje es opcional."
   ]
  },
  {
   "cell_type": "markdown",
   "metadata": {},
   "source": [
    "### Vector vacío"
   ]
  },
  {
   "cell_type": "code",
   "execution_count": 3,
   "metadata": {},
   "outputs": [],
   "source": [
    "def esVacio(V):\n",
    "    if V[0] == 0:\n",
    "        return True\n",
    "    return False"
   ]
  },
  {
   "cell_type": "markdown",
   "metadata": {},
   "source": [
    "### Vector lleno"
   ]
  },
  {
   "cell_type": "code",
   "execution_count": 4,
   "metadata": {},
   "outputs": [],
   "source": [
    "def esLleno(V, n):\n",
    "    if V[0] == n:\n",
    "        return True\n",
    "    return False"
   ]
  },
  {
   "cell_type": "code",
   "execution_count": 5,
   "metadata": {},
   "outputs": [],
   "source": [
    "def agregarDato(d, V, n):\n",
    "    if esLleno(V, n):\n",
    "        return\n",
    "    V[0] = V[0] + 1\n",
    "    V[V[0]] = d"
   ]
  },
  {
   "cell_type": "markdown",
   "metadata": {},
   "source": [
    "La función agregarDato recibe como parámetros el dato a insertar (d), el nombre del vector donde se debe efectuar la inserción y el tamaño del vector. En nuestro algoritmo se controla que el vector no esté lleno. En caso de estarlo, simplemente retorna y no ejecuta ninguna acción. Si no retorna, le suma 1 a V[0] y almacena el dato d en esa posición."
   ]
  },
  {
   "cell_type": "code",
   "execution_count": 7,
   "metadata": {},
   "outputs": [],
   "source": [
    "def insertarDato(d, i, V, n):\n",
    "    if esLleno(V, n):\n",
    "        return\n",
    "    for j in range(V[0], i - 1, -1):\n",
    "        V[j + 1] = V[j]\n",
    "        V[i] = d\n",
    "        V[0] = V[0] + 1"
   ]
  },
  {
   "cell_type": "markdown",
   "metadata": {},
   "source": [
    "función insertarDato. Dicha función tendrá como parámetros el dato a insertar (d), la posición en la cual debe quedar ese dato (i), el vector en el cual hay que efectuar la inserción (V) y el tamaño del vector (n)"
   ]
  },
  {
   "cell_type": "markdown",
   "metadata": {},
   "source": [
    "Intercambiar dos datos en un vector. Es una operación frecuente en manipulación de vectores. Por ejemplo, cuando se desea ordenar los datos de un vector es necesario cambiar los datos de posición, y este cambio se hace por parejas."
   ]
  },
  {
   "cell_type": "code",
   "execution_count": 8,
   "metadata": {},
   "outputs": [],
   "source": [
    "def intercambiar(V, i, j):\n",
    "    aux = V[i]\n",
    "    V[i] = V[j]\n",
    "    V[j] = aux"
   ]
  },
  {
   "cell_type": "markdown",
   "metadata": {},
   "source": [
    "## Operación de inserción en vector ordenado"
   ]
  },
  {
   "cell_type": "code",
   "execution_count": 10,
   "metadata": {},
   "outputs": [],
   "source": [
    "def buscarDondeInsertar(V,d):\n",
    "    k = 1 #posicion\n",
    "    while k <= V[0] and V[k] < d:\n",
    "        k = k + 1\n",
    "    return k      "
   ]
  },
  {
   "cell_type": "code",
   "execution_count": null,
   "metadata": {},
   "outputs": [],
   "source": [
    "def insertar(V,d,k):\n",
    "    for i in range(V[0], k-1,-1):\n",
    "        V[i + 1] = V[i]\n",
    "    V[i] = d\n",
    "    V[0] = V[0] + 1"
   ]
  },
  {
   "cell_type": "markdown",
   "metadata": {},
   "source": [
    "## Operación de borrado en vector"
   ]
  },
  {
   "cell_type": "code",
   "execution_count": 11,
   "metadata": {},
   "outputs": [],
   "source": [
    "def buscarDato(V,d):\n",
    "    i = 1\n",
    "    while i <= V[0] and V[i] != d:\n",
    "        i = i +1\n",
    "    if i <= V[0]:\n",
    "             return i\n",
    "    return -1"
   ]
  },
  {
   "cell_type": "code",
   "execution_count": 12,
   "metadata": {},
   "outputs": [],
   "source": [
    "def borrar(V,i):\n",
    "    for j in range(i,V[0]):\n",
    "        V[j] = V[j + 1]\n",
    "    V[0] = V[0] - 1"
   ]
  },
  {
   "cell_type": "markdown",
   "metadata": {},
   "source": [
    "### Ordenamiento por selección"
   ]
  },
  {
   "cell_type": "code",
   "execution_count": 15,
   "metadata": {},
   "outputs": [],
   "source": [
    "def ordenaAscen(V):\n",
    "    for i in range(1, V[0]):\n",
    "        k = i\n",
    "        for j in range(i+1, V[0] + 1):\n",
    "            if V[j] < V[k]:\n",
    "                k = j\n",
    "                intercambiar(V, i, k)"
   ]
  },
  {
   "cell_type": "markdown",
   "metadata": {},
   "source": [
    " La variable i del primer ciclo for se utiliza para identificar a partir de cuál posición faltan datos por ordenar. Inicialmente el valor de i es 1, ya que inicialmente faltan todos los datos por ordenar y los datos comienzan en la posición 1. Cuando el contenido de la variable i sea 2, significa que faltan por ordenar los datos que hay a partir de la posición 2 del vector; cuando el contenido de la variable i sea 4, significa que faltan por ordenar los datos que hay a partir de la posición 4; cuando el contenido de la variable i sea V[0], significa que estamos en el último elemento del vector, el cual, obviamente, estará en su sitio, pues no hay más datos con los cuales se pueda comparar.\n",
    " \n",
    " La instrucción if dentro del ciclo interno compara el dato que se halla en la posición j del vector con el dato que se halla en la posición k. Si el contenido de la posición j es menor que el contenido de la posición k, se reemplaza el contenido de la variable k por j. De esta manera, en la variable k siempre estará la posición en la cual se encuentra el menor dato.\n",
    " "
   ]
  },
  {
   "cell_type": "markdown",
   "metadata": {},
   "source": [
    "## Ordenamiento ascendente de los datos de un vector utilizando el método burbuja\n",
    "\n",
    "de los datos que faltan por ordenar, desplazar el mayor a que ocupe la última posición del conjunto de datos que falta por ordenar. La forma como se desplaza el mayor dato hacia la última posición es comparando dos datos consecutivos y ordenarlos ascendentemente, es decir, si el primer dato es mayor que el segundo, se intercambian dichos datos, de lo contrario se dejan tal cual están.\n",
    "En general, el proceso de comparaciones es: el primer dato con el segundo, el segundo dato con el tercero, el tercer dato con el cuarto, el cuarto dato con el quinto y así sucesivamente.\n",
    " Como resultado de estas comparaciones y los intercambios que se hagan, el resultado es que en la última posición quedará el mayor dato en el vector"
   ]
  },
  {
   "cell_type": "code",
   "execution_count": 16,
   "metadata": {},
   "outputs": [],
   "source": [
    "def ordenaAscen(V):\n",
    "    for i in range(1, V[0]):\n",
    "        for j in range(1, V[0] - i + 1):\n",
    "             if V[j] > V[j + 1]:\n",
    "                    intercambiar(V, j, j + 1)"
   ]
  },
  {
   "cell_type": "markdown",
   "metadata": {},
   "source": [
    "### Busqueda Binaria:"
   ]
  },
  {
   "cell_type": "code",
   "execution_count": 20,
   "metadata": {},
   "outputs": [],
   "source": [
    "def busbin(self, d):\n",
    "    inicio = 1\n",
    "    fin = self.V[0]\n",
    "    while inicio <= fin:\n",
    "        mitad = (inicio + fin) // 2\n",
    "        if self.V[mitad] == d:\n",
    "            return mitad\n",
    "        if d < self.V[mitad]:\n",
    "            fin = mitad - 1\n",
    "        else:\n",
    "             inicio = mitad + 1\n",
    "    return -1"
   ]
  },
  {
   "cell_type": "code",
   "execution_count": 23,
   "metadata": {},
   "outputs": [],
   "source": [
    "def burbuja(V):\n",
    "    for i in range(1, V[0]):\n",
    "        for j in range(1, V[0 - i + 1]):\n",
    "            if V[j] > V[j+1]:\n",
    "                intercambiar(V, j, j+1)"
   ]
  },
  {
   "cell_type": "markdown",
   "metadata": {},
   "source": [
    "### Algoritmos ordenamiento por inserción"
   ]
  },
  {
   "cell_type": "code",
   "execution_count": 30,
   "metadata": {},
   "outputs": [],
   "source": [
    "def insercion(V):\n",
    "    for i in range(2,V[0] +1):\n",
    "        d = V[i]\n",
    "        j = i -1\n",
    "    while j > 0 and V[j] > d:\n",
    "        V[j+1] = V[j]\n",
    "        j = j-1\n",
    "    V[j+1] = d\n",
    "    "
   ]
  },
  {
   "cell_type": "code",
   "execution_count": null,
   "metadata": {},
   "outputs": [],
   "source": []
  }
 ],
 "metadata": {
  "kernelspec": {
   "display_name": "Python 3",
   "language": "python",
   "name": "python3"
  },
  "language_info": {
   "codemirror_mode": {
    "name": "ipython",
    "version": 3
   },
   "file_extension": ".py",
   "mimetype": "text/x-python",
   "name": "python",
   "nbconvert_exporter": "python",
   "pygments_lexer": "ipython3",
   "version": "3.8.5"
  }
 },
 "nbformat": 4,
 "nbformat_minor": 4
}
