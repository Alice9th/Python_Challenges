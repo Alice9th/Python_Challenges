{
 "cells": [
  {
   "cell_type": "code",
   "execution_count": 2,
   "metadata": {},
   "outputs": [],
   "source": [
    "class Auto():\n",
    "    \"\"\"\n",
    "    Metodos y atributos de un coche \n",
    "    \"\"\"\n",
    "    #Atributos\n",
    "    ruedas = 4\n",
    "    rueda_repuesto = 1\n",
    "    volante = 1\n",
    "\n",
    "#Constructor\n",
    "def __init__(self, color, aceleracion, velocidad, motor, marca):\n",
    "    self.color = color\n",
    "    self.aceleracion = aceleracion\n",
    "    self.velocidad = velocidad\n",
    "    self.motor = motor\n",
    "    self.marca = marca\n",
    "\n",
    "#Metodos\n",
    "def acelerar(self):\n",
    "    self.velocidad = self.velocidad + self.aceleracion\n",
    "\n",
    "def frenar(self):\n",
    "    velocidad_total = self.velocidad - self.aceleracion\n",
    "    if velocidad_total < 0:\n",
    "        print(\"El carro viajo en el tiempo :0\")"
   ]
  },
  {
   "cell_type": "code",
   "execution_count": null,
   "metadata": {},
   "outputs": [],
   "source": []
  }
 ],
 "metadata": {
  "kernelspec": {
   "display_name": "Python 3",
   "language": "python",
   "name": "python3"
  },
  "language_info": {
   "codemirror_mode": {
    "name": "ipython",
    "version": 3
   },
   "file_extension": ".py",
   "mimetype": "text/x-python",
   "name": "python",
   "nbconvert_exporter": "python",
   "pygments_lexer": "ipython3",
   "version": "3.8.5"
  }
 },
 "nbformat": 4,
 "nbformat_minor": 4
}
