{
 "cells": [
  {
   "cell_type": "code",
   "execution_count": 3,
   "metadata": {},
   "outputs": [
    {
     "name": "stdin",
     "output_type": "stream",
     "text": [
      "entre un número  36\n",
      "entre otro número  48\n"
     ]
    },
    {
     "name": "stdout",
     "output_type": "stream",
     "text": [
      "36,48:36,48\n",
      "12,144\n"
     ]
    }
   ],
   "source": [
    "x = int(input(\"entre un número \"))\n",
    "y = int(input(\"entre otro número \"))\n",
    "z = x % y\n",
    "print(x, y, end=\":\", sep=\",\")\n",
    "\n",
    "xx = x\n",
    "\n",
    "yy = y\n",
    "\n",
    "while z != 0:\n",
    "    xx = yy\n",
    "    yy = z\n",
    "    z = xx % yy\n",
    "    bb = x * y // yy\n",
    "    print(yy, bb, sep=\",\")"
   ]
  },
  {
   "cell_type": "markdown",
   "metadata": {},
   "source": [
    "### Vectores"
   ]
  },
  {
   "cell_type": "code",
   "execution_count": 5,
   "metadata": {},
   "outputs": [
    {
     "name": "stdout",
     "output_type": "stream",
     "text": [
      "85947261"
     ]
    }
   ],
   "source": [
    " V = [8, 3, 1, 6, 2, 7, 4, 9, 5]\n",
    "        \n",
    "for i in range(1, 5):\n",
    "    a = V[i]\n",
    "    V[i] = V[8-i+1]\n",
    "    V[8-i+1] = a\n",
    "for i in range(0, 8):\n",
    "        print(V[i], end=\"\", sep=\",\")"
   ]
  },
  {
   "cell_type": "code",
   "execution_count": 1,
   "metadata": {},
   "outputs": [
    {
     "name": "stdout",
     "output_type": "stream",
     "text": [
      "3 3 1 6 2 7 4 9 "
     ]
    }
   ],
   "source": [
    "V = [8, 3, 1, 6, 2, 7, 4, 9, 5]\n",
    "for i in range(8, 1, -1):\n",
    "        V[i] = V[(i-1)%8]\n",
    "for i in range(1, 9):\n",
    "        print(V[i], sep=\",\", end=\" \")"
   ]
  },
  {
   "cell_type": "code",
   "execution_count": 6,
   "metadata": {},
   "outputs": [
    {
     "name": "stdout",
     "output_type": "stream",
     "text": [
      "9 4 7 2 6 1 3 "
     ]
    }
   ],
   "source": [
    "V = [8, 3, 1, 6, 2, 7, 4, 9, 5]\n",
    "for i in range(8, 1, -1):\n",
    "        V[i] = V[(i-1)%8]\n",
    "        print(V[i], sep=\",\", end=\" \")"
   ]
  },
  {
   "cell_type": "code",
   "execution_count": 7,
   "metadata": {},
   "outputs": [
    {
     "name": "stdout",
     "output_type": "stream",
     "text": [
      "3 1 6 2 7 4 9 5 "
     ]
    }
   ],
   "source": [
    "V = [8, 3, 1, 6, 2, 7, 4, 9, 5]\n",
    "for i in range(1, 9):\n",
    "        print(V[i], sep=\",\", end=\" \")"
   ]
  },
  {
   "cell_type": "code",
   "execution_count": null,
   "metadata": {},
   "outputs": [],
   "source": []
  }
 ],
 "metadata": {
  "kernelspec": {
   "display_name": "Python 3",
   "language": "python",
   "name": "python3"
  },
  "language_info": {
   "codemirror_mode": {
    "name": "ipython",
    "version": 3
   },
   "file_extension": ".py",
   "mimetype": "text/x-python",
   "name": "python",
   "nbconvert_exporter": "python",
   "pygments_lexer": "ipython3",
   "version": "3.8.5"
  }
 },
 "nbformat": 4,
 "nbformat_minor": 4
}
