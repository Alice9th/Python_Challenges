{
 "cells": [
  {
   "cell_type": "markdown",
   "metadata": {},
   "source": [
    "# For loops"
   ]
  },
  {
   "cell_type": "markdown",
   "metadata": {},
   "source": [
    "## Suma de los enteros desde 1 hasta n"
   ]
  },
  {
   "cell_type": "code",
   "execution_count": 8,
   "metadata": {},
   "outputs": [
    {
     "name": "stdin",
     "output_type": "stream",
     "text": [
      "Ingrese un numero entero:  5\n"
     ]
    },
    {
     "name": "stdout",
     "output_type": "stream",
     "text": [
      "la suma de los enteros desde 1 hasta n con parametros 1, n+1, 1 es:  5  y su suma  15\n"
     ]
    }
   ],
   "source": [
    "n = int(input(\"Ingrese un numero entero: \"))\n",
    "suma = 0\n",
    "for i in range(1, n+1, 1):\n",
    "    suma = suma + i\n",
    "print(\"la suma de los enteros desde 1 hasta n con parametros 1, n+1, 1 es: \", n, \" y su suma \", suma)"
   ]
  },
  {
   "cell_type": "markdown",
   "metadata": {},
   "source": [
    "Este apartado incluye el valor de n"
   ]
  },
  {
   "cell_type": "code",
   "execution_count": 9,
   "metadata": {},
   "outputs": [
    {
     "name": "stdout",
     "output_type": "stream",
     "text": [
      "la suma de los enteros desde 1 hasta n con parametros 1, n, 1 es:  5  y su suma  10\n"
     ]
    }
   ],
   "source": [
    "suma = 0\n",
    "for i in range(1, n, 1):\n",
    "    suma = suma + i\n",
    "print(\"la suma de los enteros desde 1 hasta n con parametros 1, n, 1 es: \", n, \" y su suma \", suma)"
   ]
  },
  {
   "cell_type": "markdown",
   "metadata": {},
   "source": [
    "##### Este apartado NO incluye el valor de n"
   ]
  },
  {
   "cell_type": "code",
   "execution_count": 10,
   "metadata": {},
   "outputs": [
    {
     "name": "stdout",
     "output_type": "stream",
     "text": [
      "la suma de los enteros desde 1 hasta n con parametros n+1, es:  5  y su suma  15\n"
     ]
    }
   ],
   "source": [
    "suma = 0\n",
    "for i in range(n+1):\n",
    "    suma = suma + i\n",
    "print(\"la suma de los enteros desde 1 hasta n con parametros n+1, es: \", n, \" y su suma \", suma)"
   ]
  },
  {
   "cell_type": "markdown",
   "metadata": {},
   "source": [
    "## El factorial de un entero n"
   ]
  },
  {
   "cell_type": "code",
   "execution_count": 15,
   "metadata": {},
   "outputs": [
    {
     "name": "stdout",
     "output_type": "stream",
     "text": [
      "El factor de los enteros desde 1 hasta n con parametros 1, n+1, 1 es:  5  y su factor  120\n"
     ]
    }
   ],
   "source": [
    "factorial = 1\n",
    "for i in range(1, n+1, 1):\n",
    "    factorial = factorial * i\n",
    "print(\"El factor de los enteros desde 1 hasta n con parametros 1, n+1, 1 es: \", n, \" y su factor \", factorial)"
   ]
  },
  {
   "cell_type": "code",
   "execution_count": 20,
   "metadata": {},
   "outputs": [
    {
     "name": "stdout",
     "output_type": "stream",
     "text": [
      "El factor de los enteros desde 1 hasta n con parametros 1, n, 1 es:  5  y su factor  24\n"
     ]
    }
   ],
   "source": [
    "factorial = 1\n",
    "for i in range(1, n, 1):\n",
    "    factorial = factorial * i\n",
    "print(\"El factor de los enteros desde 1 hasta n con parametros 1, n, 1 es: \", n, \" y su factor \", factorial)"
   ]
  },
  {
   "cell_type": "code",
   "execution_count": 19,
   "metadata": {},
   "outputs": [
    {
     "name": "stdout",
     "output_type": "stream",
     "text": [
      "El factorial de n es:  5  y su factor  0\n"
     ]
    }
   ],
   "source": [
    "factorial = 1\n",
    "for i in range(n+1):\n",
    "    factorial = factorial * i\n",
    "print(\"El factorial de n es: \", n, \" y su factor \", factorial)"
   ]
  },
  {
   "cell_type": "markdown",
   "metadata": {},
   "source": [
    "Porque el valor inicial de la i por defecto es 0"
   ]
  },
  {
   "cell_type": "markdown",
   "metadata": {},
   "source": [
    "## Ejemplo de la instruccion Break con un for"
   ]
  },
  {
   "cell_type": "code",
   "execution_count": 1,
   "metadata": {},
   "outputs": [
    {
     "name": "stdin",
     "output_type": "stream",
     "text": [
      "Ingrese un numero entero:  10\n"
     ]
    },
    {
     "name": "stdout",
     "output_type": "stream",
     "text": [
      "10 NO es un numero primo, es un numero par\n",
      "10 Es un numero primo\n"
     ]
    }
   ],
   "source": [
    "x = int(input(\"Ingrese un numero entero: \"))\n",
    "if x % 2 == 0:\n",
    "    print(x, \"NO es un numero primo, es un numero par\")\n",
    "    exit(0)   \n",
    "i = 2\n",
    "for i in range(3,int(x**(.5)) + 1,2):\n",
    "    if x%i == 0:\n",
    "        print(x, \"NO es un numero primo porque es divisible por: \", i)\n",
    "        break\n",
    "if x%i != 0:\n",
    "    print(x, \"Es un numero primo\")"
   ]
  },
  {
   "cell_type": "markdown",
   "metadata": {},
   "source": [
    "##  Ejemplos de aplicación de la instrucción for"
   ]
  },
  {
   "cell_type": "markdown",
   "metadata": {},
   "source": [
    "## Programar las siguientes escaleras:\n",
    "\n",
    "1\n",
    "\n",
    "22\n",
    "\n",
    "333\n",
    "\n",
    "4444\n",
    "\n",
    "55555\n",
    "\n",
    "666666\n",
    "\n",
    "666666\n",
    "\n",
    "55555\n",
    "\n",
    "4444\n",
    "\n",
    "333\n",
    "\n",
    "22\n",
    "\n",
    "1\n",
    "\n",
    "\n",
    "\n"
   ]
  },
  {
   "cell_type": "code",
   "execution_count": 14,
   "metadata": {},
   "outputs": [
    {
     "name": "stdin",
     "output_type": "stream",
     "text": [
      "Ingrese un numero entero:  6\n"
     ]
    },
    {
     "name": "stdout",
     "output_type": "stream",
     "text": [
      "1\n",
      "22\n",
      "333\n",
      "4444\n",
      "55555\n",
      "666666\n",
      "\n"
     ]
    }
   ],
   "source": [
    "n = int(input(\"Ingrese un numero entero: \"))\n",
    "\n",
    "for i in range(1, n+1):\n",
    "    for j in range(1, i+1):\n",
    "        print(i, end = \"\")\n",
    "    print(\"\")\n",
    "print(\"\")"
   ]
  },
  {
   "cell_type": "markdown",
   "metadata": {},
   "source": [
    "***Explicacion*** : mi numero n se va a repetir j veces, las j veces que van desde 1 hasta i + 1 (es decir i). El ciclo interno me va a contar el número de veces que escriba la i. Cuantas veces? se escribe j veces, que llega hasta i \n",
    "\n",
    "end =\"\" para que la i se escriban en la misma linea"
   ]
  },
  {
   "cell_type": "code",
   "execution_count": 30,
   "metadata": {},
   "outputs": [
    {
     "name": "stdin",
     "output_type": "stream",
     "text": [
      "Ingrese un numero entero:  6\n"
     ]
    },
    {
     "name": "stdout",
     "output_type": "stream",
     "text": [
      "666666\n",
      "55555\n",
      "4444\n",
      "333\n",
      "22\n",
      "\n"
     ]
    }
   ],
   "source": [
    "n = int(input(\"Ingrese un numero entero: \"))\n",
    "\n",
    "for i in range(n, 1, -1):\n",
    "    for j in range(1, i+1):\n",
    "        print(i, end = \"\")\n",
    "    print(\"\")\n",
    "print(\"\")"
   ]
  },
  {
   "cell_type": "markdown",
   "metadata": {},
   "source": [
    "## Programar las siguientes escaleras:\n",
    "\n",
    "\n",
    "1\n",
    "\n",
    "12\n",
    "\n",
    "123\n",
    "\n",
    "1234\n",
    "\n",
    "12345\n",
    "\n",
    "123456\n",
    "\n",
    "654321\n",
    "\n",
    "54321\n",
    "\n",
    "4321\n",
    "\n",
    "321\n",
    "\n",
    "21\n",
    "\n",
    "1"
   ]
  },
  {
   "cell_type": "code",
   "execution_count": 9,
   "metadata": {},
   "outputs": [
    {
     "name": "stdin",
     "output_type": "stream",
     "text": [
      "Ingrese un numero entero:  6\n"
     ]
    },
    {
     "name": "stdout",
     "output_type": "stream",
     "text": [
      "1\n",
      "12\n",
      "123\n",
      "1234\n",
      "12345\n",
      "123456\n",
      "\n"
     ]
    }
   ],
   "source": [
    "n = int(input(\"Ingrese un numero entero: \"))\n",
    "\n",
    "for i in range(1, n+1):\n",
    "    for j in range(1, i+1):\n",
    "        print(j, end = \"\")\n",
    "    print(\"\")\n",
    "print(\"\")"
   ]
  },
  {
   "cell_type": "markdown",
   "metadata": {},
   "source": [
    "***Explicacion*** escribe la j, que varia desde 1 hasta i. si j = 1 , escribe 1, si j = 2, escribe 1 2"
   ]
  },
  {
   "cell_type": "code",
   "execution_count": 32,
   "metadata": {},
   "outputs": [
    {
     "name": "stdin",
     "output_type": "stream",
     "text": [
      "Ingrese un numero entero:  6\n"
     ]
    },
    {
     "name": "stdout",
     "output_type": "stream",
     "text": [
      "654321\n",
      "54321\n",
      "4321\n",
      "321\n",
      "21\n",
      "\n"
     ]
    }
   ],
   "source": [
    "n = int(input(\"Ingrese un numero entero: \"))\n",
    "\n",
    "for i in range(n, 1, -1):\n",
    "    for j in range(i,0, -1):\n",
    "        print(j, end = \"\")\n",
    "    print(\"\")\n",
    "print(\"\")"
   ]
  },
  {
   "cell_type": "markdown",
   "metadata": {},
   "source": [
    "## Ejemplos\n",
    "\n",
    "Elaborar programa en Python que imprima los enteros del 1 al 100:"
   ]
  },
  {
   "cell_type": "code",
   "execution_count": 33,
   "metadata": {},
   "outputs": [
    {
     "name": "stdout",
     "output_type": "stream",
     "text": [
      "1\n",
      "2\n",
      "3\n",
      "4\n",
      "5\n",
      "6\n",
      "7\n",
      "8\n",
      "9\n",
      "10\n",
      "11\n",
      "12\n",
      "13\n",
      "14\n",
      "15\n",
      "16\n",
      "17\n",
      "18\n",
      "19\n",
      "20\n",
      "21\n",
      "22\n",
      "23\n",
      "24\n",
      "25\n",
      "26\n",
      "27\n",
      "28\n",
      "29\n",
      "30\n",
      "31\n",
      "32\n",
      "33\n",
      "34\n",
      "35\n",
      "36\n",
      "37\n",
      "38\n",
      "39\n",
      "40\n",
      "41\n",
      "42\n",
      "43\n",
      "44\n",
      "45\n",
      "46\n",
      "47\n",
      "48\n",
      "49\n",
      "50\n",
      "51\n",
      "52\n",
      "53\n",
      "54\n",
      "55\n",
      "56\n",
      "57\n",
      "58\n",
      "59\n",
      "60\n",
      "61\n",
      "62\n",
      "63\n",
      "64\n",
      "65\n",
      "66\n",
      "67\n",
      "68\n",
      "69\n",
      "70\n",
      "71\n",
      "72\n",
      "73\n",
      "74\n",
      "75\n",
      "76\n",
      "77\n",
      "78\n",
      "79\n",
      "80\n",
      "81\n",
      "82\n",
      "83\n",
      "84\n",
      "85\n",
      "86\n",
      "87\n",
      "88\n",
      "89\n",
      "90\n",
      "91\n",
      "92\n",
      "93\n",
      "94\n",
      "95\n",
      "96\n",
      "97\n",
      "98\n",
      "99\n",
      "100\n"
     ]
    }
   ],
   "source": [
    "for i in range(1,101):\n",
    "    print(i)"
   ]
  },
  {
   "cell_type": "markdown",
   "metadata": {},
   "source": [
    "## Ejemplo dos: \n",
    "\n",
    "Elaborar un algoritmo que imprima todos los enteros impares desde 1 hasta 100."
   ]
  },
  {
   "cell_type": "code",
   "execution_count": 35,
   "metadata": {},
   "outputs": [
    {
     "name": "stdout",
     "output_type": "stream",
     "text": [
      "1\n",
      "3\n",
      "5\n",
      "7\n",
      "9\n",
      "11\n",
      "13\n",
      "15\n",
      "17\n",
      "19\n",
      "21\n",
      "23\n",
      "25\n",
      "27\n",
      "29\n",
      "31\n",
      "33\n",
      "35\n",
      "37\n",
      "39\n",
      "41\n",
      "43\n",
      "45\n",
      "47\n",
      "49\n",
      "51\n",
      "53\n",
      "55\n",
      "57\n",
      "59\n",
      "61\n",
      "63\n",
      "65\n",
      "67\n",
      "69\n",
      "71\n",
      "73\n",
      "75\n",
      "77\n",
      "79\n",
      "81\n",
      "83\n",
      "85\n",
      "87\n",
      "89\n",
      "91\n",
      "93\n",
      "95\n",
      "97\n",
      "99\n"
     ]
    }
   ],
   "source": [
    "for i in range(1, 101, 2):\n",
    "    print(i)"
   ]
  },
  {
   "cell_type": "markdown",
   "metadata": {},
   "source": [
    "## Ejemplo tres:\n",
    "Elaborar un algoritmo que imprima todos los enteros desde 100 hasta 1 de forma negativa"
   ]
  },
  {
   "cell_type": "code",
   "execution_count": 40,
   "metadata": {},
   "outputs": [
    {
     "name": "stdout",
     "output_type": "stream",
     "text": [
      "100\n",
      "99\n",
      "98\n",
      "97\n",
      "96\n",
      "95\n",
      "94\n",
      "93\n",
      "92\n",
      "91\n",
      "90\n",
      "89\n",
      "88\n",
      "87\n",
      "86\n",
      "85\n",
      "84\n",
      "83\n",
      "82\n",
      "81\n",
      "80\n",
      "79\n",
      "78\n",
      "77\n",
      "76\n",
      "75\n",
      "74\n",
      "73\n",
      "72\n",
      "71\n",
      "70\n",
      "69\n",
      "68\n",
      "67\n",
      "66\n",
      "65\n",
      "64\n",
      "63\n",
      "62\n",
      "61\n",
      "60\n",
      "59\n",
      "58\n",
      "57\n",
      "56\n",
      "55\n",
      "54\n",
      "53\n",
      "52\n",
      "51\n",
      "50\n",
      "49\n",
      "48\n",
      "47\n",
      "46\n",
      "45\n",
      "44\n",
      "43\n",
      "42\n",
      "41\n",
      "40\n",
      "39\n",
      "38\n",
      "37\n",
      "36\n",
      "35\n",
      "34\n",
      "33\n",
      "32\n",
      "31\n",
      "30\n",
      "29\n",
      "28\n",
      "27\n",
      "26\n",
      "25\n",
      "24\n",
      "23\n",
      "22\n",
      "21\n",
      "20\n",
      "19\n",
      "18\n",
      "17\n",
      "16\n",
      "15\n",
      "14\n",
      "13\n",
      "12\n",
      "11\n",
      "10\n",
      "9\n",
      "8\n",
      "7\n",
      "6\n",
      "5\n",
      "4\n",
      "3\n",
      "2\n",
      "1\n"
     ]
    }
   ],
   "source": [
    "for i in range(100, 0, -1):\n",
    "    print(i)"
   ]
  },
  {
   "cell_type": "markdown",
   "metadata": {},
   "source": [
    "## Ejemplo 4:\n",
    "Elaborar un algoritmo que imprima todos los enteros comprendidos entre dos enteros leídos, con una variación también leída."
   ]
  },
  {
   "cell_type": "code",
   "execution_count": 42,
   "metadata": {},
   "outputs": [
    {
     "name": "stdin",
     "output_type": "stream",
     "text": [
      "Entre un entero  15\n",
      "Entre otro entero  78\n",
      "Entre un tercer entero  6\n"
     ]
    },
    {
     "name": "stdout",
     "output_type": "stream",
     "text": [
      "15\n",
      "21\n",
      "27\n",
      "33\n",
      "39\n",
      "45\n",
      "51\n",
      "57\n",
      "63\n",
      "69\n",
      "75\n"
     ]
    }
   ],
   "source": [
    "inicio = int(input(\"Entre un entero \"))\n",
    "fin = int(input(\"Entre otro entero \"))\n",
    "variacion = int(input(\"Entre un tercer entero \"))\n",
    "for i in range(inicio, fin, variacion):\n",
    "        print(i)"
   ]
  },
  {
   "cell_type": "markdown",
   "metadata": {},
   "source": [
    "Al ejecutar la instrucción for, la variable i toma un valor de 15 y lo compara con el valor final, que es 78. El resultado es verdadero; por tanto, ejecuta la instrucción print(i), con la cual escribe el contenido de la variable i, que es 15.\n",
    "\n",
    "Como no hay más instrucciones indentadas, es decir, que pertenezcan al ciclo for, incrementa la variable i en 6 y regresa a la instrucción for a comparar el valor de i con el valor final, que es 78. Como el contenido de la variable i es 21, que es menor que 78, ejecuta de nuevo la instrucción print(i), imprimiendo el número 21. Nuevamente se da cuenta de que llegó a la instrucción final del ciclo e incrementa el valor de la i en 6 y regresa a ejecutar nuevamente la instrucción for. Este proceso lo repite hasta que el valor de la i sea mayor o igual que 78. \n",
    "\n",
    "\n",
    "***Atención:***\n",
    "\n",
    "\n",
    "1.Cuando la variación es positiva, el valor final debe ser mayor o igual que el valor inicial. \n",
    "\n",
    "\n",
    "2.Cuando la variación es negativa, el valor final debe ser menor o igual que el valor inicial.\n",
    "\n",
    "\n",
    "3.Si no se cumple ninguna de las dos condiciones anteriores, no entra a ejecutar las instrucciones del ciclo."
   ]
  },
  {
   "cell_type": "markdown",
   "metadata": {},
   "source": [
    "## Algoritmo para generar e imprimir las tablas de multiplicar de un número dado con for:"
   ]
  },
  {
   "cell_type": "code",
   "execution_count": 60,
   "metadata": {},
   "outputs": [
    {
     "name": "stdin",
     "output_type": "stream",
     "text": [
      "Entre un entero:  2\n"
     ]
    },
    {
     "name": "stdout",
     "output_type": "stream",
     "text": [
      "2 * 1 = 2\n",
      "2 * 2 = 4\n",
      "2 * 3 = 6\n",
      "2 * 4 = 8\n",
      "2 * 5 = 10\n",
      "2 * 6 = 12\n",
      "2 * 7 = 14\n",
      "2 * 8 = 16\n",
      "2 * 9 = 18\n"
     ]
    }
   ],
   "source": [
    "x = int(input(\"Entre un entero: \"))\n",
    "for i in range(1,10):\n",
    "    r = x * i\n",
    "    print(x, \"*\", i, \"=\", r)"
   ]
  },
  {
   "cell_type": "markdown",
   "metadata": {},
   "source": [
    "## Algoritmo para generar e imprimir las tablas de multiplicar desde 1 hasta n, siendo n un valor leído"
   ]
  },
  {
   "cell_type": "code",
   "execution_count": 64,
   "metadata": {},
   "outputs": [
    {
     "name": "stdin",
     "output_type": "stream",
     "text": [
      "entre un entero  2\n"
     ]
    },
    {
     "name": "stdout",
     "output_type": "stream",
     "text": [
      "1 * 1 = 1\n",
      "1 * 2 = 2\n",
      "1 * 3 = 3\n",
      "1 * 4 = 4\n",
      "1 * 5 = 5\n",
      "1 * 6 = 6\n",
      "1 * 7 = 7\n",
      "1 * 8 = 8\n",
      "1 * 9 = 9\n",
      "1 * 10 = 10\n",
      "2 * 1 = 2\n",
      "2 * 2 = 4\n",
      "2 * 3 = 6\n",
      "2 * 4 = 8\n",
      "2 * 5 = 10\n",
      "2 * 6 = 12\n",
      "2 * 7 = 14\n",
      "2 * 8 = 16\n",
      "2 * 9 = 18\n",
      "2 * 10 = 20\n"
     ]
    }
   ],
   "source": [
    "n = int(input(\"entre un entero \"))\n",
    "\n",
    "for x in range(1, n + 1):\n",
    "            for i in range(1, 11):\n",
    "                        r = i * x\n",
    "                        print(x, \"*\", i, \"=\", r)"
   ]
  },
  {
   "cell_type": "code",
   "execution_count": null,
   "metadata": {},
   "outputs": [],
   "source": []
  }
 ],
 "metadata": {
  "kernelspec": {
   "display_name": "Python 3",
   "language": "python",
   "name": "python3"
  },
  "language_info": {
   "codemirror_mode": {
    "name": "ipython",
    "version": 3
   },
   "file_extension": ".py",
   "mimetype": "text/x-python",
   "name": "python",
   "nbconvert_exporter": "python",
   "pygments_lexer": "ipython3",
   "version": "3.8.5"
  }
 },
 "nbformat": 4,
 "nbformat_minor": 4
}
