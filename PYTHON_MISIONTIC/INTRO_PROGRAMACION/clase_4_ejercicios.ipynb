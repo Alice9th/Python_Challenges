{
 "cells": [
  {
   "cell_type": "markdown",
   "metadata": {},
   "source": [
    "# Ejercicios clase 4:"
   ]
  },
  {
   "cell_type": "code",
   "execution_count": 1,
   "metadata": {},
   "outputs": [
    {
     "name": "stdin",
     "output_type": "stream",
     "text": [
      "Ingrese un numero:  4\n"
     ]
    },
    {
     "name": "stdout",
     "output_type": "stream",
     "text": [
      "Es un numero par\n"
     ]
    }
   ],
   "source": [
    "numero_usuario = int(input(\"Ingrese un numero: \"))\n",
    "tiene_residuo = numero_usuario%2\n",
    "\n",
    "if tiene_residuo:\n",
    "    print(\"Es un numero impar\")\n",
    "else:\n",
    "    print(\"Es un numero par\")"
   ]
  },
  {
   "cell_type": "markdown",
   "metadata": {},
   "source": [
    "## Pizza"
   ]
  },
  {
   "cell_type": "code",
   "execution_count": 9,
   "metadata": {},
   "outputs": [
    {
     "name": "stdin",
     "output_type": "stream",
     "text": [
      "Ingrese 0 si quiere una pizza vegetariana o 1 para una no vegetariana:  1\n"
     ]
    },
    {
     "name": "stdout",
     "output_type": "stream",
     "text": [
      "Su orden es para una pizza no vegetariana, los ingredientes disponibles son:  ['Pepperoni', 'Jamón', 'Salmón']\n",
      "Su orden es para una pizza no vegetariana, los ingredientes disponibles son:  ['Pimenton', 'Tofu']\n"
     ]
    },
    {
     "name": "stdin",
     "output_type": "stream",
     "text": [
      "Escoja los ingredientes: 1 para Pepperoni, 2 para Jamón, 3 para Salmón o 4 para combinada:  4\n"
     ]
    },
    {
     "name": "stdout",
     "output_type": "stream",
     "text": [
      "Ha escogido una pizza combinada, escoja la combinación: \n"
     ]
    },
    {
     "name": "stdin",
     "output_type": "stream",
     "text": [
      "Ingrese el primer ingrediente de la combinación:  1\n",
      "Ingrese el segundo ingrediente de la combinación:  3\n"
     ]
    },
    {
     "name": "stdout",
     "output_type": "stream",
     "text": [
      "Usted ha escogido una pizza combinada de:  Jamón Salmón\n",
      "SU orden ha terminado\n"
     ]
    }
   ],
   "source": [
    "ingredientes_vegetarianos = [\"Pimenton\", \"Tofu\"]\n",
    "ingredientes_no_vegetarianos = [\"Pepperoni\", \"Jamón\", \"Salmón\"]\n",
    "\n",
    "ingr_veg1 = \"Pimentón\"\n",
    "ingr_veg2 = \"Tofu\"\n",
    "\n",
    "ingr_no_veg1 = \"Pepperoni\"\n",
    "ingr_no_veg2 = \"Jamón\"\n",
    "ingr_no_veg3 = \"Salmón\"\n",
    "\n",
    "orden = int(input(\"Ingrese 0 si quiere una pizza vegetariana o 1 para una no vegetariana: \"))\n",
    "\n",
    "if orden == 0:\n",
    "    print(f\"Su orden es para una pizza vegetariana, los ingredientes disponibles son: \", ingredientes_vegetarianos)\n",
    "    ingredientes = int(input(\"Escoja los ingredientes: 1 para Pimentón, 2 para Tofu o 3 para ambos: \"))\n",
    "    if ingredientes == 1:\n",
    "        print(f\"Ha escogido su pizza con \", ingr_veg1)\n",
    "    elif ingredientes == 2:\n",
    "        print(f\"Ha escogido su pizza con \", ingr_veg2)\n",
    "    else:\n",
    "        print(\"Su pizza contendrá todos los ingredientes\")\n",
    "        \n",
    "else:\n",
    "    print(f\"Su orden es para una pizza no vegetariana, los ingredientes disponibles son: \", ingredientes_no_vegetarianos)\n",
    "    print(f\"Su orden es para una pizza no vegetariana, los ingredientes disponibles son: \", ingredientes_vegetarianos)\n",
    "    ingredientes = int(input(\"Escoja los ingredientes: 1 para Pepperoni, 2 para Jamón, 3 para Salmón o 4 para combinada: \"))\n",
    "    if ingredientes == 1:\n",
    "        print(f\"Ha escogido su pizza con \", ingr_no_veg1)\n",
    "    elif ingredientes == 2:\n",
    "        print(f\"Ha escogido su pizza con \", ingr_no_veg2)\n",
    "    elif ingredientes == 3:\n",
    "        print(f\"Ha escogido su pizza con \", ingr_no_veg3)\n",
    "    else:\n",
    "        print(\"Ha escogido una pizza combinada, escoja la combinación: \")\n",
    "        combinado_ing1 = int(input(\"Ingrese el primer ingrediente de la combinación: \"))\n",
    "        combinado_ing2 = int(input(\"Ingrese el segundo ingrediente de la combinación: \"))\n",
    "        if combinado_ing1 == 1 and combinado_ing2 == 2:\n",
    "            print(\"Usted ha escogido una pizza combinada de: \", ingr_no_veg1, ingr_no_veg2)\n",
    "        elif combinado_ing2 and combinado_ing2 == 3:\n",
    "            print(\"Usted ha escogido una pizza combinada de: \", ingr_no_veg2, ingr_no_veg3)\n",
    "        elif combinado_ing1 == 3 and combinado_ing2 == 1:\n",
    "            print(\"Usted ha escogido una pizza combinada de: \", ingr_no_veg3, ingr_no_veg1)\n",
    "        else:\n",
    "            print(\"Su orden contendrá todos los ingredientes\")\n",
    "print(\"Su orden ha terminado\")\n",
    "            "
   ]
  },
  {
   "cell_type": "code",
   "execution_count": null,
   "metadata": {},
   "outputs": [],
   "source": []
  }
 ],
 "metadata": {
  "kernelspec": {
   "display_name": "Python 3",
   "language": "python",
   "name": "python3"
  },
  "language_info": {
   "codemirror_mode": {
    "name": "ipython",
    "version": 3
   },
   "file_extension": ".py",
   "mimetype": "text/x-python",
   "name": "python",
   "nbconvert_exporter": "python",
   "pygments_lexer": "ipython3",
   "version": "3.8.5"
  }
 },
 "nbformat": 4,
 "nbformat_minor": 4
}
