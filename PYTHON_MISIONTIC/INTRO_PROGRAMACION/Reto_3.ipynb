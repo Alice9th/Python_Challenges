{
 "cells": [
  {
   "cell_type": "code",
   "execution_count": 3,
   "metadata": {},
   "outputs": [],
   "source": [
    "\n",
    "def traductor_a_morse(mensaje_a_traducir):\n",
    "    #PROGRAMA ACÁ TU SOLUCIÓN\n",
    "    dict_morse = {\n",
    "        \"A\" : \".-\",\n",
    "        \"B\" : \"-...\",\n",
    "        \"C\" : \"-.-.\",\n",
    "        \"D\" : \"-..\",\n",
    "        \"E\" : \".\",\n",
    "        \"F\" : \"..-.\",\n",
    "        \"G\" : \"--.\",\n",
    "        \"H\" : \"....\",\n",
    "        \"I\" : \"..\",\n",
    "        \"J\" : \".---\",\n",
    "        \"K\" : \"-.-\",\n",
    "        \"L\" : \".-..\",\n",
    "        \"M\" : \"--\",\n",
    "        \"N\" : \"-.\",\n",
    "        \"O\" : \"---\",\n",
    "        \"P\" : \".--.\",\n",
    "        \"Q\" : \"--.-\",\n",
    "        \"R\" : \".-.\",\n",
    "        \"S\" : \"...\",\n",
    "        \"T\" : \"-\",\n",
    "        \"U\" : \"..-\",\n",
    "        \"V\" : \"...-\",\n",
    "        \"W\" : \".--\",\n",
    "        \"X\" : \"-..-\",\n",
    "        \"Y\" : \"-.--\",\n",
    "        \"Z\" : \"--..\",\n",
    "        \" \" : \"/\"\n",
    "    }\n",
    "    \n",
    "    mensaje_traducido = \"\"\n",
    "    \n",
    "    for i in mensaje_a_traducir[0:-1]:\n",
    "         mensaje_traducido += dict_morse[i.upper()] + \" \"\n",
    "    mensaje_traducido += dict_morse[mensaje_a_traducir[-1].upper()]\n",
    "\n",
    "    \n",
    "    return mensaje_traducido\n"
   ]
  },
  {
   "cell_type": "code",
   "execution_count": 4,
   "metadata": {},
   "outputs": [
    {
     "data": {
      "text/plain": [
       "'.... --- .-.. .- / -- ..- -. -.. ---'"
      ]
     },
     "execution_count": 4,
     "metadata": {},
     "output_type": "execute_result"
    }
   ],
   "source": [
    "traductor_a_morse(\"Hola Mundo\")"
   ]
  },
  {
   "cell_type": "code",
   "execution_count": null,
   "metadata": {},
   "outputs": [],
   "source": []
  }
 ],
 "metadata": {
  "kernelspec": {
   "display_name": "Python 3",
   "language": "python",
   "name": "python3"
  },
  "language_info": {
   "codemirror_mode": {
    "name": "ipython",
    "version": 3
   },
   "file_extension": ".py",
   "mimetype": "text/x-python",
   "name": "python",
   "nbconvert_exporter": "python",
   "pygments_lexer": "ipython3",
   "version": "3.8.5"
  }
 },
 "nbformat": 4,
 "nbformat_minor": 4
}
