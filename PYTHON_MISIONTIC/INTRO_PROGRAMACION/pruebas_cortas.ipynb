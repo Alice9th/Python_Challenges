{
 "cells": [
  {
   "cell_type": "code",
   "execution_count": 3,
   "metadata": {},
   "outputs": [
    {
     "name": "stdin",
     "output_type": "stream",
     "text": [
      "entre un número  36\n",
      "entre otro número  48\n"
     ]
    },
    {
     "name": "stdout",
     "output_type": "stream",
     "text": [
      "36,48:36,48\n",
      "12,144\n"
     ]
    }
   ],
   "source": [
    "x = int(input(\"entre un número \"))\n",
    "y = int(input(\"entre otro número \"))\n",
    "z = x % y\n",
    "print(x, y, end=\":\", sep=\",\")\n",
    "\n",
    "xx = x\n",
    "\n",
    "yy = y\n",
    "\n",
    "while z != 0:\n",
    "    xx = yy\n",
    "    yy = z\n",
    "    z = xx % yy\n",
    "    bb = x * y // yy\n",
    "    print(yy, bb, sep=\",\")"
   ]
  },
  {
   "cell_type": "code",
   "execution_count": null,
   "metadata": {},
   "outputs": [],
   "source": []
  }
 ],
 "metadata": {
  "kernelspec": {
   "display_name": "Python 3",
   "language": "python",
   "name": "python3"
  },
  "language_info": {
   "codemirror_mode": {
    "name": "ipython",
    "version": 3
   },
   "file_extension": ".py",
   "mimetype": "text/x-python",
   "name": "python",
   "nbconvert_exporter": "python",
   "pygments_lexer": "ipython3",
   "version": "3.8.5"
  }
 },
 "nbformat": 4,
 "nbformat_minor": 4
}
