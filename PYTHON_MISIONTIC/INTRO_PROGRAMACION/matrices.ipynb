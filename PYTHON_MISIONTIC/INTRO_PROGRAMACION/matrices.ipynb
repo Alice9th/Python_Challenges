{
 "cells": [
  {
   "cell_type": "markdown",
   "metadata": {},
   "source": [
    "Se llama matriz de orden m * n a todo conjunto rectangular de elementos aij dispuestos en m líneas horizontales (filas) y n líneas verticales (columnas"
   ]
  },
  {
   "cell_type": "code",
   "execution_count": 52,
   "metadata": {},
   "outputs": [],
   "source": [
    "mat = []*6\n",
    "for i in range(6):\n",
    "    a = [0]*8\n",
    "    mat.append(a)"
   ]
  },
  {
   "cell_type": "code",
   "execution_count": 53,
   "metadata": {},
   "outputs": [
    {
     "data": {
      "text/plain": [
       "[[0, 0, 0, 0, 0, 0, 0, 0],\n",
       " [0, 0, 0, 0, 0, 0, 0, 0],\n",
       " [0, 0, 0, 0, 0, 0, 0, 0],\n",
       " [0, 0, 0, 0, 0, 0, 0, 0],\n",
       " [0, 0, 0, 0, 0, 0, 0, 0],\n",
       " [0, 0, 0, 0, 0, 0, 0, 0]]"
      ]
     },
     "execution_count": 53,
     "metadata": {},
     "output_type": "execute_result"
    }
   ],
   "source": [
    "mat"
   ]
  },
  {
   "cell_type": "code",
   "execution_count": 11,
   "metadata": {},
   "outputs": [
    {
     "data": {
      "text/plain": [
       "6"
      ]
     },
     "execution_count": 11,
     "metadata": {},
     "output_type": "execute_result"
    }
   ],
   "source": [
    "m = len(mat)\n",
    "m"
   ]
  },
  {
   "cell_type": "code",
   "execution_count": 12,
   "metadata": {},
   "outputs": [
    {
     "data": {
      "text/plain": [
       "8"
      ]
     },
     "execution_count": 12,
     "metadata": {},
     "output_type": "execute_result"
    }
   ],
   "source": [
    "n = len(mat[0])\n",
    "n"
   ]
  },
  {
   "cell_type": "code",
   "execution_count": 14,
   "metadata": {},
   "outputs": [
    {
     "name": "stdin",
     "output_type": "stream",
     "text": [
      "\n",
      "Entre número de filas de la matriz:  2\n",
      "\n",
      "Entre número de columnas de la matriz:  3\n"
     ]
    }
   ],
   "source": [
    "import random\n",
    "m = int(input(\"\\nEntre número de filas de la matriz: \"))\n",
    "n = int(input(\"\\nEntre número de columnas de la matriz: \"))\n",
    "mat = [] * (m+1)\n",
    "for i in range(m+1):\n",
    "    a = [0]*(n+1)\n",
    "    mat.append(a)\n",
    "for i in range(1, m + 1):\n",
    "    for j in range(1, n + 1):\n",
    "            mat[i][j] = random.randint(0, 9)"
   ]
  },
  {
   "cell_type": "code",
   "execution_count": 46,
   "metadata": {},
   "outputs": [
    {
     "data": {
      "text/plain": [
       "[[0, 0, 0, 0], [0, 5, 6, 5], [0, 8, 1, 5]]"
      ]
     },
     "execution_count": 46,
     "metadata": {},
     "output_type": "execute_result"
    }
   ],
   "source": [
    "mat"
   ]
  },
  {
   "cell_type": "code",
   "execution_count": 22,
   "metadata": {},
   "outputs": [],
   "source": [
    "def __init__(self, m, n):\n",
    "    self.m = m\n",
    "    self.n = n\n",
    "    self.mat = [] * (m + 1)\n",
    "    for i in range(m + 1):\n",
    "        a = [0] * (n + 1)\n",
    "    self.mat.append(a)"
   ]
  },
  {
   "cell_type": "code",
   "execution_count": 24,
   "metadata": {},
   "outputs": [
    {
     "ename": "TypeError",
     "evalue": "'list' object is not callable",
     "output_type": "error",
     "traceback": [
      "\u001b[0;31m---------------------------------------------------------------------------\u001b[0m",
      "\u001b[0;31mTypeError\u001b[0m                                 Traceback (most recent call last)",
      "\u001b[0;32m<ipython-input-24-28430cba4201>\u001b[0m in \u001b[0;36m<module>\u001b[0;34m\u001b[0m\n\u001b[0;32m----> 1\u001b[0;31m \u001b[0ma\u001b[0m \u001b[0;34m=\u001b[0m \u001b[0mmat\u001b[0m\u001b[0;34m(\u001b[0m\u001b[0;36m6\u001b[0m\u001b[0;34m,\u001b[0m \u001b[0;36m8\u001b[0m\u001b[0;34m)\u001b[0m\u001b[0;34m\u001b[0m\u001b[0;34m\u001b[0m\u001b[0m\n\u001b[0m",
      "\u001b[0;31mTypeError\u001b[0m: 'list' object is not callable"
     ]
    }
   ],
   "source": [
    "a = mat(6, 8)"
   ]
  },
  {
   "cell_type": "code",
   "execution_count": 26,
   "metadata": {},
   "outputs": [],
   "source": [
    "def construyeMatriz(self, r = 100):\n",
    "       for i in range(1, self.m + 1):\n",
    "             for j in range(1, self.n +1):\n",
    "                      self.mat[i][j] = random.randint(1, r)"
   ]
  },
  {
   "cell_type": "markdown",
   "metadata": {},
   "source": [
    "## Recorrido por filas"
   ]
  },
  {
   "cell_type": "code",
   "execution_count": 30,
   "metadata": {},
   "outputs": [],
   "source": [
    "def imprimeMatrizPorFilas(self, mensaje=\"Matriz sin nombre \"):\n",
    "    print(\"\\n\", mensaje)\n",
    "    for i in range(1, self.m + 1):\n",
    "        for j in range(1, self.n + 1):\n",
    "            print(self.mat[i][j], \"\\t\", end=\"\")\n",
    "            print()"
   ]
  },
  {
   "cell_type": "markdown",
   "metadata": {},
   "source": [
    "## Recorrido por columnas"
   ]
  },
  {
   "cell_type": "code",
   "execution_count": 38,
   "metadata": {},
   "outputs": [],
   "source": [
    "def imprimeMatrizPorColumnas(self, mensaje=\"Matriz sin nombre \"):\n",
    "    print(\"\\n\", mensaje)\n",
    "    for i in range(1, self.n + 1):\n",
    "        for j in range(1, self.m + 1):\n",
    "            print(self.mat[j][i], \"\\t\", end=\"\")\n",
    "            print()"
   ]
  },
  {
   "cell_type": "markdown",
   "metadata": {},
   "source": [
    "Según la forma, las matrices pueden ser rectangulares o cuadradas. Matrices rectangulares son aquellas en las que el número de filas es diferente del número de columnas, y matrices cuadradas son aquellas en las que el número de filas es igual al número de columnas. \n",
    "\n",
    "Según la distribución de sus datos, existen muchas clases de matrices. Entre ellas podemos destacar las siguientes: \n",
    "\n",
    "\n",
    "1. Matriz simétrica: es una matriz cuadrada en la que el dato de una celda de la fila i columna j es igual al dato de la fila j columna i.\n",
    "\n",
    "\n",
    "2. Matriz identidad: es una matriz cuadrada en la que todos los elementos son 0, excepto los de la diagonal principal, que son 1. Los elementos de la diagonal principal son aquellos en los cuales la fila es igual a la columna.\n",
    "\n",
    "\n",
    "3. Matriz triangular inferior: es una matriz cuadrada en la que los únicos elementos diferentes de 0 son los de la diagonal principal y los que están debajo de ella.\n",
    "\n",
    "\n",
    "4. Matriz triangular superior: es una matriz cuadrada en la que los únicos elementos diferentes de 0 son los de la diagonal principal y los que están por encima de ella.\n",
    "\n",
    "\n",
    "5. Matriz diagonal: es una matriz cuadrada en la que los únicos elementos diferentes de 0 son los de la diagonal principal."
   ]
  },
  {
   "cell_type": "code",
   "execution_count": 67,
   "metadata": {},
   "outputs": [],
   "source": [
    "class matriz:\n",
    "    def __init__(self,m,n):\n",
    "        self.m = m\n",
    "        self.n = n\n",
    "        self.mat = []*(m +1)\n",
    "        for i in range(m + 1):\n",
    "            a = [0]*(n + 1)\n",
    "            self.mat.append(a)\n",
    "            \n",
    "    def sumarFilas(self):\n",
    "        v = vector(self.m)\n",
    "        for i in range(1, self.m + 1):\n",
    "            s = 0\n",
    "            for j in range(1, self.n + 1):\n",
    "                s += self.mat[i][j]\n",
    "                v.agregarDato(s)\n",
    "        return v"
   ]
  },
  {
   "cell_type": "markdown",
   "metadata": {},
   "source": [
    "Siendo m el numero de filas y n el numero de columnas\n",
    "Los atributos son el arreglo de dos dimensiones que llamamos mat y las dimensiones de la matriz (m y n)"
   ]
  },
  {
   "cell_type": "markdown",
   "metadata": {},
   "source": [
    "## Suma de los datos de cada fila de una matriz."
   ]
  },
  {
   "cell_type": "code",
   "execution_count": 66,
   "metadata": {},
   "outputs": [],
   "source": [
    "def sumarFilas(self):\n",
    "    v = vector(self.n)\n",
    "    for i in range(1, self.m + 1):\n",
    "        s = 0\n",
    "        for j in range(1, self.n + 1):\n",
    "            s =  self.mat[i][j]\n",
    "            #print(\"El total de la fila “, i, “ es: \", s)\n",
    "            v.agregarDato(s)\n",
    "            return v"
   ]
  },
  {
   "cell_type": "markdown",
   "metadata": {},
   "source": [
    "## Suma de los datos de cada columna de una matriz. "
   ]
  },
  {
   "cell_type": "code",
   "execution_count": 59,
   "metadata": {},
   "outputs": [],
   "source": [
    "lista = ['lo', 'que', 'sea']"
   ]
  },
  {
   "cell_type": "code",
   "execution_count": 60,
   "metadata": {},
   "outputs": [
    {
     "data": {
      "text/plain": [
       "list"
      ]
     },
     "execution_count": 60,
     "metadata": {},
     "output_type": "execute_result"
    }
   ],
   "source": [
    "type(lista)"
   ]
  },
  {
   "cell_type": "code",
   "execution_count": 61,
   "metadata": {},
   "outputs": [
    {
     "name": "stdout",
     "output_type": "stream",
     "text": [
      "Meh\n"
     ]
    }
   ],
   "source": [
    "if type(lista) == list:\n",
    "    print(\"Meh\")"
   ]
  },
  {
   "cell_type": "code",
   "execution_count": 69,
   "metadata": {},
   "outputs": [],
   "source": [
    "mat = matriz(4,5)"
   ]
  },
  {
   "cell_type": "code",
   "execution_count": null,
   "metadata": {},
   "outputs": [],
   "source": [
    "mat.sumarFilas()"
   ]
  },
  {
   "cell_type": "code",
   "execution_count": null,
   "metadata": {},
   "outputs": [],
   "source": [
    "def sumarColumnas(self):\n",
    "       v = vector(self.n)\n",
    "        for i in range(1, self.n + 1):\n",
    "            s = 0\n",
    "            for j in range(1, self.m + 1):\n",
    "                s = s + self.mat[j][i]\n",
    "                v.agregarDato(s)\n",
    "            return v"
   ]
  },
  {
   "cell_type": "markdown",
   "metadata": {},
   "source": [
    "Atención: la instrucción para acumular los datos en el recorrido por filas es s = s + mat[i][j], mientras que en el recorrido por columnas es s = s + mat[j][i]. En el recorrido por filas, para cualquier valor de la fila (i) se recorren todos los valores de la columna(j), mientras que en el recorrido por columnas, para cualquier valor de la columna (i) se recorren todos los valores de la fila (j)."
   ]
  },
  {
   "cell_type": "markdown",
   "metadata": {},
   "source": [
    "## Suma de dos matrices\n",
    "\n",
    "Para sumar dos matrices la única condición que se debe cumplir es que tengan el mismo número de filas y columnas. "
   ]
  },
  {
   "cell_type": "code",
   "execution_count": 71,
   "metadata": {},
   "outputs": [],
   "source": [
    "def __add__(self, b):\n",
    "    c = matriz(self.m, self.n)\n",
    "    if self.m != b.m or self.n != b.n:\n",
    "        print(\"Matrices no se pueden sumar. Son de dimensiones diferentes\")\n",
    "    return c\n",
    "    for i in range(1, self.m + 1):\n",
    "        for j in range(1, self.n + 1):\n",
    "            c.mat[i][j] = self.mat[i][j] + b.mat[i][j]\n",
    "    return c"
   ]
  },
  {
   "cell_type": "markdown",
   "metadata": {},
   "source": [
    "En nuestra función recargamos nuevamente el operador +. Se crea una nueva matriz (c), que tiene las mismas dimensiones de las matrices a sumar. Luego se controla que las matrices tengan las mismas dimensiones. Recuerde que self se refiere al objeto que invocó el método. Entonces se controla que el numero de filas (m) y el número de columnas sean iguales, de lo contrario se produce el mensaje de que no se pueden sumar y retorna la matriz resultado vacía. Para sumar, simplemente se recorren simultáneamente, por filas, ambas matrices, sumando los datos uno a uno. Por último, retorna la matriz construida (c)."
   ]
  },
  {
   "cell_type": "markdown",
   "metadata": {},
   "source": [
    "## Producto de los datos en la diagonal principal"
   ]
  },
  {
   "cell_type": "code",
   "execution_count": 72,
   "metadata": {},
   "outputs": [],
   "source": [
    "def productoDiagonalPrincipal(self):\n",
    "    f = 1\n",
    "    for i in range(1, self.m + 1):\n",
    "        f = f * self.mat[i][i]\n",
    "    return f"
   ]
  },
  {
   "cell_type": "markdown",
   "metadata": {},
   "source": [
    "Es importante notar que para poder efectuar esta función la matriz debe ser cuadrada."
   ]
  },
  {
   "cell_type": "code",
   "execution_count": null,
   "metadata": {},
   "outputs": [],
   "source": []
  }
 ],
 "metadata": {
  "kernelspec": {
   "display_name": "Python 3",
   "language": "python",
   "name": "python3"
  },
  "language_info": {
   "codemirror_mode": {
    "name": "ipython",
    "version": 3
   },
   "file_extension": ".py",
   "mimetype": "text/x-python",
   "name": "python",
   "nbconvert_exporter": "python",
   "pygments_lexer": "ipython3",
   "version": "3.8.5"
  }
 },
 "nbformat": 4,
 "nbformat_minor": 4
}
