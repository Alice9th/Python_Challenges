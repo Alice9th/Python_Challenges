{
 "cells": [
  {
   "cell_type": "markdown",
   "metadata": {},
   "source": [
    "# Subprogramas"
   ]
  },
  {
   "cell_type": "code",
   "execution_count": 9,
   "metadata": {},
   "outputs": [
    {
     "name": "stdin",
     "output_type": "stream",
     "text": [
      "Entre valor de n  8\n",
      "Entre valor de r  5\n"
     ]
    },
    {
     "name": "stdout",
     "output_type": "stream",
     "text": [
      "n = 8  r = 5  Factorial de n = 40320 Factorial de r = 120  Factorial de n - r = 6  Número de combinaciones = 56\n"
     ]
    }
   ],
   "source": [
    "n = int(input(\"Entre valor de n \"))\n",
    "r = int(input(\"Entre valor de r \"))\n",
    "fn = 1\n",
    "for i in range(1, n + 1):\n",
    "    fn = fn * i\n",
    "fr = 1\n",
    "for i in range(1, r + 1):\n",
    "    fr = fr * i\n",
    "fnr = 1\n",
    "for i in range(1, n - r + 1):\n",
    "    fnr = fnr * i\n",
    "nc = fn // fr // fnr\n",
    "print(\"n =\", n, \" r =\", r, \" Factorial de n =\", fn, \"Factorial de r =\", fr, \" Factorial de n - r =\", fnr, \" Número de combinaciones =\", nc)"
   ]
  },
  {
   "cell_type": "markdown",
   "metadata": {},
   "source": [
    "## Definiendo una función"
   ]
  },
  {
   "cell_type": "code",
   "execution_count": 11,
   "metadata": {},
   "outputs": [
    {
     "name": "stdin",
     "output_type": "stream",
     "text": [
      "Entre valor de n  8\n",
      "Entre valor de r  5\n"
     ]
    },
    {
     "name": "stdout",
     "output_type": "stream",
     "text": [
      "n = 8  r = 5  Factorial de n = 40320 Factorial de r = 120  Factorial de n − r = 6  Número de combinaciones = 56\n"
     ]
    }
   ],
   "source": [
    "def factorial(n):\n",
    "    f = 1\n",
    "    for i in range(1, n + 1): #   instrucciones para calcular el factorial de n\n",
    "        f = f * i\n",
    "    return f\n",
    "n = int(input(\"Entre valor de n \"))\n",
    "r = int(input(\"Entre valor de r \"))\n",
    "\n",
    "fn = factorial(n) #   fn es la variable donde se almacenará el factorial de n\n",
    "fr = factorial(r)\n",
    "fnr = factorial(n - r)\n",
    "\n",
    "nc = fn // fr // fnr\n",
    "print(\"n =\", n, \" r =\", r, \" Factorial de n =\", fn, \"Factorial de r =\", fr, \" Factorial de n − r =\", fnr, \" Número de combinaciones =\", nc)"
   ]
  },
  {
   "cell_type": "markdown",
   "metadata": {},
   "source": [
    "Observe que el subprograma llamado factorial está precedido de la palabra def. Esta es una palabra reservada de Python que indica que a continuación viene el nombre de un subprograma, el cual entre paréntesis tendrá definidos los datos con los que debe trabajar. A estos datos se los denomina parámetros. Después del cierre de paréntesis siempre habrá que poner dos puntos.\n",
    "\n",
    "***OJO: todo subprograma se tiene que escribir antes de cualquier programa que lo utilice. En general, uno puede definir tantos subprogramas como desee.***"
   ]
  },
  {
   "cell_type": "code",
   "execution_count": null,
   "metadata": {},
   "outputs": [],
   "source": []
  }
 ],
 "metadata": {
  "kernelspec": {
   "display_name": "Python 3",
   "language": "python",
   "name": "python3"
  },
  "language_info": {
   "codemirror_mode": {
    "name": "ipython",
    "version": 3
   },
   "file_extension": ".py",
   "mimetype": "text/x-python",
   "name": "python",
   "nbconvert_exporter": "python",
   "pygments_lexer": "ipython3",
   "version": "3.8.5"
  }
 },
 "nbformat": 4,
 "nbformat_minor": 4
}
