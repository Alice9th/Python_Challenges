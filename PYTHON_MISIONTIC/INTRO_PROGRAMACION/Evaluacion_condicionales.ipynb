{
 "cells": [
  {
   "cell_type": "markdown",
   "metadata": {},
   "source": [
    "# Evaluacion"
   ]
  },
  {
   "cell_type": "markdown",
   "metadata": {},
   "source": [
    "Con los siguientes datos de entrada:\n",
    "\n",
    "a = 5\n",
    "\n",
    "b = 7\n",
    "\n",
    "c = 2\n",
    "\n",
    "d = 9\n"
   ]
  },
  {
   "cell_type": "code",
   "execution_count": 4,
   "metadata": {},
   "outputs": [
    {
     "name": "stdin",
     "output_type": "stream",
     "text": [
      "entre un número  7\n",
      "entre otro número  2\n",
      "entre un tercer número  5\n",
      "entre un cuarto número  9\n"
     ]
    },
    {
     "name": "stdout",
     "output_type": "stream",
     "text": [
      "7214\n"
     ]
    }
   ],
   "source": [
    "b = input(\"entre un número \")\n",
    "c = input(\"entre otro número \")\n",
    "a = int(input(\"entre un tercer número \"))\n",
    "d = int(input(\"entre un cuarto número \"))\n",
    "\n",
    "print(b+c, end=\"\")\n",
    "print(a+d)"
   ]
  },
  {
   "cell_type": "code",
   "execution_count": null,
   "metadata": {},
   "outputs": [],
   "source": []
  }
 ],
 "metadata": {
  "kernelspec": {
   "display_name": "Python 3",
   "language": "python",
   "name": "python3"
  },
  "language_info": {
   "codemirror_mode": {
    "name": "ipython",
    "version": 3
   },
   "file_extension": ".py",
   "mimetype": "text/x-python",
   "name": "python",
   "nbconvert_exporter": "python",
   "pygments_lexer": "ipython3",
   "version": "3.8.5"
  }
 },
 "nbformat": 4,
 "nbformat_minor": 4
}
