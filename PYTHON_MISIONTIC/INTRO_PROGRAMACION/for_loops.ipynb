{
 "cells": [
  {
   "cell_type": "markdown",
   "metadata": {},
   "source": [
    "# For loops"
   ]
  },
  {
   "cell_type": "code",
   "execution_count": 8,
   "metadata": {},
   "outputs": [
    {
     "name": "stdin",
     "output_type": "stream",
     "text": [
      "Ingrese un numero entero:  5\n"
     ]
    },
    {
     "name": "stdout",
     "output_type": "stream",
     "text": [
      "la suma de los enteros desde 1 hasta n con parametros 1, n+1, 1 es:  5  y su suma  15\n"
     ]
    }
   ],
   "source": [
    "n = int(input(\"Ingrese un numero entero: \"))\n",
    "suma = 0\n",
    "for i in range(1, n+1, 1):\n",
    "    suma = suma + i\n",
    "print(\"la suma de los enteros desde 1 hasta n con parametros 1, n+1, 1 es: \", n, \" y su suma \", suma)"
   ]
  },
  {
   "cell_type": "markdown",
   "metadata": {},
   "source": [
    "Este apartado incluye el valor de n"
   ]
  },
  {
   "cell_type": "code",
   "execution_count": 9,
   "metadata": {},
   "outputs": [
    {
     "name": "stdout",
     "output_type": "stream",
     "text": [
      "la suma de los enteros desde 1 hasta n con parametros 1, n, 1 es:  5  y su suma  10\n"
     ]
    }
   ],
   "source": [
    "suma = 0\n",
    "for i in range(1, n, 1):\n",
    "    suma = suma + i\n",
    "print(\"la suma de los enteros desde 1 hasta n con parametros 1, n, 1 es: \", n, \" y su suma \", suma)"
   ]
  },
  {
   "cell_type": "markdown",
   "metadata": {},
   "source": [
    "##### Este apartado NO incluye el valor de n"
   ]
  },
  {
   "cell_type": "code",
   "execution_count": 10,
   "metadata": {},
   "outputs": [
    {
     "name": "stdout",
     "output_type": "stream",
     "text": [
      "la suma de los enteros desde 1 hasta n con parametros n+1, es:  5  y su suma  15\n"
     ]
    }
   ],
   "source": [
    "suma = 0\n",
    "for i in range(n+1):\n",
    "    suma = suma + i\n",
    "print(\"la suma de los enteros desde 1 hasta n con parametros n+1, es: \", n, \" y su suma \", suma)"
   ]
  },
  {
   "cell_type": "markdown",
   "metadata": {},
   "source": [
    "## Factorial"
   ]
  },
  {
   "cell_type": "code",
   "execution_count": 15,
   "metadata": {},
   "outputs": [
    {
     "name": "stdout",
     "output_type": "stream",
     "text": [
      "El factor de los enteros desde 1 hasta n con parametros 1, n+1, 1 es:  5  y su factor  120\n"
     ]
    }
   ],
   "source": [
    "factorial = 1\n",
    "for i in range(1, n+1, 1):\n",
    "    factorial = factorial * i\n",
    "print(\"El factor de los enteros desde 1 hasta n con parametros 1, n+1, 1 es: \", n, \" y su factor \", factorial)"
   ]
  },
  {
   "cell_type": "code",
   "execution_count": 20,
   "metadata": {},
   "outputs": [
    {
     "name": "stdout",
     "output_type": "stream",
     "text": [
      "El factor de los enteros desde 1 hasta n con parametros 1, n, 1 es:  5  y su factor  24\n"
     ]
    }
   ],
   "source": [
    "factorial = 1\n",
    "for i in range(1, n, 1):\n",
    "    factorial = factorial * i\n",
    "print(\"El factor de los enteros desde 1 hasta n con parametros 1, n, 1 es: \", n, \" y su factor \", factorial)"
   ]
  },
  {
   "cell_type": "code",
   "execution_count": 19,
   "metadata": {},
   "outputs": [
    {
     "name": "stdout",
     "output_type": "stream",
     "text": [
      "El factorial de n es:  5  y su factor  0\n"
     ]
    }
   ],
   "source": [
    "factorial = 1\n",
    "for i in range(n+1):\n",
    "    factorial = factorial * i\n",
    "print(\"El factorial de n es: \", n, \" y su factor \", factorial)"
   ]
  },
  {
   "cell_type": "markdown",
   "metadata": {},
   "source": [
    "Porque el valor inicial de la i por defecto es 0"
   ]
  },
  {
   "cell_type": "code",
   "execution_count": null,
   "metadata": {},
   "outputs": [],
   "source": []
  }
 ],
 "metadata": {
  "kernelspec": {
   "display_name": "Python 3",
   "language": "python",
   "name": "python3"
  },
  "language_info": {
   "codemirror_mode": {
    "name": "ipython",
    "version": 3
   },
   "file_extension": ".py",
   "mimetype": "text/x-python",
   "name": "python",
   "nbconvert_exporter": "python",
   "pygments_lexer": "ipython3",
   "version": "3.8.5"
  }
 },
 "nbformat": 4,
 "nbformat_minor": 4
}
