{
 "cells": [
  {
   "cell_type": "code",
   "execution_count": 1,
   "metadata": {},
   "outputs": [],
   "source": [
    "import csv\n",
    "import pandas as pd"
   ]
  },
  {
   "cell_type": "code",
   "execution_count": 2,
   "metadata": {},
   "outputs": [],
   "source": [
    "\"\"\"Inicio espacio para programar funciones propias\"\"\"\n",
    "#En este espacio podrás programar las funciones que deseas usar en la función solución (ES OPCIONAL)\n",
    "def calculo(cantidad):\n",
    "    texto = \"\"\n",
    "    if (cantidad < 200):\n",
    "        texto = \"MUY BAJO\"\n",
    "    elif (200 <= cantidad < 300):\n",
    "        texto = \"BAJO\"\n",
    "    elif (300 <= cantidad < 500):\n",
    "        texto = \"MEDIO\"\n",
    "    elif (500 <= cantidad < 600):\n",
    "        texto = \"ALTO\"\n",
    "    else: texto = \"MUY ALTO\"\n",
    "        \n",
    "    return texto\n",
    "            \n",
    "\n",
    "\n",
    "\"\"\"Fin espacio para programar funciones propias\"\"\"\n",
    "\n",
    "def solucion():\n",
    "    #ESTA ES LA FUNCIÓN A LA QUE LE DEBES GARANTIZAR LOS RETORNOS REQUERIDOS EN EL ENUNCIADO.\n",
    "    conjunto_datos = pd.read_csv(\"TSLA.csv\", sep = \",\")\n",
    "    conjunto_datos['Concepto'] = conjunto_datos[\"Close\"].apply(calculo)\n",
    "    \n",
    "    conjunto_datos.rename(columns = {\"Date\": \"Fecha\"}, inplace = True)\n",
    "    conjunto_datos[[\"Fecha\", \"Concepto\"]].to_csv(\"analisis_archivo.csv\", sep = \"\\t\", index = False)\n",
    "    \n",
    "    mascara_min = conjunto_datos[\"Low\"] == conjunto_datos[\"Low\"].min()\n",
    "    fila_min = conjunto_datos[mascara_min]\n",
    "    mascara_max = conjunto_datos[\"High\"] == conjunto_datos[\"High\"].max()\n",
    "    fila_max = conjunto_datos[mascara_max]\n",
    "    \n",
    "    return fila_min[\"Fecha\"].values[0], fila_min[\"Low\"].values[0], fila_max[\"Fecha\"].values[0], fila_max[\"High\"].values[0]\n",
    "\"\"\""
   ]
  },
  {
   "cell_type": "code",
   "execution_count": null,
   "metadata": {},
   "outputs": [],
   "source": []
  }
 ],
 "metadata": {
  "kernelspec": {
   "display_name": "Python 3",
   "language": "python",
   "name": "python3"
  },
  "language_info": {
   "codemirror_mode": {
    "name": "ipython",
    "version": 3
   },
   "file_extension": ".py",
   "mimetype": "text/x-python",
   "name": "python",
   "nbconvert_exporter": "python",
   "pygments_lexer": "ipython3",
   "version": "3.8.5"
  }
 },
 "nbformat": 4,
 "nbformat_minor": 4
}
