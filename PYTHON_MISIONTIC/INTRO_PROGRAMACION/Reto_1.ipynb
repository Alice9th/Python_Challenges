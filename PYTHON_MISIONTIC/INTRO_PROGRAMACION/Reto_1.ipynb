{
 "cells": [
  {
   "cell_type": "markdown",
   "metadata": {},
   "source": [
    "El siguiente código ha perdido algunas de sus líneas.  Su trabajo es completar las líneas de código que faltan, las cuales están marcadas claramente con textos que describen lo que la línea debe hacer.  Estas líneas faltantes son de color verde y empiezan por #.\n",
    "\n",
    "Todo el programa realiza las siguientes acciones:\n",
    "\n",
    "Se genera un entero entre 15 y 30; luego se construye un objeto de la clase vector (esta clase ya existe) tal como la definida en el curso.  El tamaño del vector es el número generado inicialmente. Luego, se llena el vector con números enteros entre 1 y 99999 generados aleatoriamente.\n",
    "\n",
    "Con el vector creado se suman los datos que sean números capicúa o que comiencen con dígito par.\n",
    "\n",
    "Recuerde que un número es capicúa, es aquel que se lee igual de izquierda a derecha que de derecha a izquierda, por ejemplo, el 32523. \n",
    "\n",
    "Ejemplo:\n",
    "\n",
    "Vector 154, 6412, 74595, 77877, 4862, 96325. Note que los números que comienzan por un dígito par son 6412, 4862 y es capicúa el número 77877 por lo tanto estos son los números a sumar.\n",
    "\n",
    "Suma = 6412 + 77877 + 4862 = 89151"
   ]
  },
  {
   "cell_type": "code",
   "execution_count": 3,
   "metadata": {},
   "outputs": [
    {
     "name": "stdout",
     "output_type": "stream",
     "text": [
      "Collecting vector\n",
      "  Downloading vector-0.8.2-py3-none-any.whl (154 kB)\n",
      "\u001b[K     |████████████████████████████████| 154 kB 667 kB/s eta 0:00:01\n",
      "\u001b[?25hRequirement already satisfied: packaging>=19.0 in /home/monica/anaconda3/lib/python3.8/site-packages (from vector) (20.4)\n",
      "Requirement already satisfied: numpy>=1.13.3 in /home/monica/anaconda3/lib/python3.8/site-packages (from vector) (1.19.2)\n",
      "Requirement already satisfied: pyparsing>=2.0.2 in /home/monica/anaconda3/lib/python3.8/site-packages (from packaging>=19.0->vector) (2.4.7)\n",
      "Requirement already satisfied: six in /home/monica/anaconda3/lib/python3.8/site-packages (from packaging>=19.0->vector) (1.15.0)\n",
      "Installing collected packages: vector\n",
      "Successfully installed vector-0.8.2\n"
     ]
    }
   ],
   "source": [
    "!pip install vector"
   ]
  },
  {
   "cell_type": "code",
   "execution_count": 5,
   "metadata": {},
   "outputs": [],
   "source": [
    "import vector\n",
    "import random\n",
    "import math\n",
    "\n",
    "\"\"\"Esta funcion invierte un número, osea, 3456 invertido sería 6543\"\"\"\n",
    "def invierteNumero(n): \n",
    "    nunu = 0\n",
    "    m = n\n",
    "    while m > 0:\n",
    "        digito = m % 10\n",
    "        nunu = nunu * 10 + digito\n",
    "        m = m // 10\n",
    "    return nunu\n",
    "    \n",
    "\"\"\"Esta función retorna el primer digito de el número x\"\"\"\n",
    "def comienzaCon(x):\n",
    "    pd = x\n",
    "    while pd > 9:\n",
    "        pd = pd // 10\n",
    "    return pd\n",
    "\n",
    "\"\"\"Funcion que contiene la solución al problema que será calificado\"\"\"\n",
    "def solucion():\n",
    "    \"\"\"Se genera aleatoriamente un número entero entre 15 y 30\"\"\"\n",
    "    n = random.randit(15, 30) #numero random entre 15 y 30, Use random.randint()\n",
    "    \"\"\"A 's' se le asigna un 0, esta variable va ser donde se almacena la suma como esta descrito en el enunciado\"\"\"\n",
    "    s = 0 \n",
    "    \"\"\"Se crea un objeto vector que tiene como tamaño el valor n\"\"\"\n",
    "    vec4 = vector(n)\n",
    "    \"\"\"Usamos un ciclo para llenar el vector con número del 1 al 99999\"\"\"\n",
    "    for i in range(1, n + 1):\n",
    "        \"\"\"Se genera aleatoriamente un número entero entre 1 y 99999\"\"\"\n",
    "        vec4.V[i] = random.randint(1,99999) #numero random entre 1 y 99999, Use random.randint()\n",
    "        \"\"\"Se actualiza el valor de la primera posición del vector indicando cuantas posiciones\n",
    "        son usadas (En este caso es igual al tamaño del vector)\"\"\"\n",
    "        vec4.V[0] = n\n",
    "    \"\"\"Usamos un ciclo para recorrer el vector\"\"\"\n",
    "    for i in range(1, vec4.V[0] + 1):\n",
    "        \"\"\"En la variable 'nunu' sea almacena el numero invertido de la posición i del vector\"\"\"\n",
    "        nunu = invierteNumero(vec4.V[i])\n",
    "        \"\"\"Se pregunta si al invertir el numero sige siendo el mismo(capicua) o si el numero compienza por un dígito par\"\"\"\n",
    "        if vec4.V[i] == nunu or comienzaCon(vec4.V[i]) % 2 == 0:\n",
    "            \"\"\"Se realiza la suma de la suma acumulada\n",
    "            con el dato en la posición i\"\"\"\n",
    "            s += vec4.V[i] #Acumule la suma\n",
    "    \"\"\"Se retornan los objetos requeridos para efectuar la\n",
    "    calificación de la solución\"\"\"\n",
    "    return vec4, s"
   ]
  },
  {
   "cell_type": "code",
   "execution_count": null,
   "metadata": {},
   "outputs": [],
   "source": []
  }
 ],
 "metadata": {
  "kernelspec": {
   "display_name": "Python 3",
   "language": "python",
   "name": "python3"
  },
  "language_info": {
   "codemirror_mode": {
    "name": "ipython",
    "version": 3
   },
   "file_extension": ".py",
   "mimetype": "text/x-python",
   "name": "python",
   "nbconvert_exporter": "python",
   "pygments_lexer": "ipython3",
   "version": "3.8.5"
  }
 },
 "nbformat": 4,
 "nbformat_minor": 4
}
