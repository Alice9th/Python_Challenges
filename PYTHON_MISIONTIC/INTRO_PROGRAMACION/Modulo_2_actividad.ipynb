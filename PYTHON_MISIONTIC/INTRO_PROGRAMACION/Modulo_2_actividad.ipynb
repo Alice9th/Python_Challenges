{
 "cells": [
  {
   "cell_type": "markdown",
   "metadata": {},
   "source": [
    "## Actividad Práctica"
   ]
  },
  {
   "cell_type": "markdown",
   "metadata": {},
   "source": [
    "Cree una aplicación con la cual se pueda mantener un pequeño registro\n",
    "de los cultivos que se hallan en la huerta estudiantil. \n",
    "Este proceso se realizará creando como mínimo cuatro variables por cultivo:"
   ]
  },
  {
   "cell_type": "markdown",
   "metadata": {},
   "source": [
    "### Definiendo variables: \n",
    "\n",
    "\n",
    "En este caso se hará directamente para mostrar las diferencias al asignar las variables y al pedir que se ingrese la información por consola"
   ]
  },
  {
   "cell_type": "markdown",
   "metadata": {},
   "source": [
    "### Una variable que almacene el nombre del cultivo\n",
    "\n",
    "Para el caso del nombre, se recurrirá a datos tipo str, que nos permiten almacenar texto"
   ]
  },
  {
   "cell_type": "code",
   "execution_count": 8,
   "metadata": {},
   "outputs": [],
   "source": [
    "nombre_cultivo1 = \"Cebolla\"\n",
    "nombre_cultivo2 = \"Peras\"\n",
    "nombre_cultivo3 = \"Zanahorias\"\n",
    "nombre_cultivo4 = \"Repollo\""
   ]
  },
  {
   "cell_type": "markdown",
   "metadata": {},
   "source": [
    "### Una variable que almacene la cantidad del cultivo\n",
    "\n",
    "Para las variables de cantidad se tomarán datos del tipo int, números enteros"
   ]
  },
  {
   "cell_type": "code",
   "execution_count": 9,
   "metadata": {},
   "outputs": [],
   "source": [
    "cantidad_cultivo1 = 35\n",
    "cantidad_cultivo2 = 43\n",
    "cantidad_cultivo3 = 16\n",
    "cantidad_cultivo4 = 27"
   ]
  },
  {
   "cell_type": "markdown",
   "metadata": {},
   "source": [
    "### Una variable que almacene el tiempo que ha estado cultivado en meses\n",
    "\n",
    "Ya que se pueden tomar meses incluyendo decimales, se utilizarán datos tipo float"
   ]
  },
  {
   "cell_type": "code",
   "execution_count": 11,
   "metadata": {},
   "outputs": [],
   "source": [
    "tiempo_cultivo1 = 3.5\n",
    "tiempo_cultivo2 = 18.9\n",
    "tiempo_cultivo3 = 2.2\n",
    "tiempo_cultivo4 = 4.1"
   ]
  },
  {
   "cell_type": "markdown",
   "metadata": {},
   "source": [
    "### Una variable que almacene si existe algún problema con el cultivo o no\n",
    "\n",
    "Ya que sólo se requiere saber si hay o no problemas, se utilizarán los datos de tipo boolean.\n",
    "Para determinar si hay problemas se usará 1 (True)\n",
    "Para determinar si no hay problemas se usará 0 (False)"
   ]
  },
  {
   "cell_type": "code",
   "execution_count": 83,
   "metadata": {},
   "outputs": [],
   "source": [
    "problemas_cultivo1 = 0\n",
    "problemas_cultivo2 = 1\n",
    "problemas_cultivo3 = 0\n",
    "problemas_cultivo4 = 0"
   ]
  },
  {
   "cell_type": "markdown",
   "metadata": {},
   "source": [
    "# Ingresando los datos por consola e impresión de datos\n",
    "\n",
    "## Cultivo 1:"
   ]
  },
  {
   "cell_type": "code",
   "execution_count": 14,
   "metadata": {},
   "outputs": [
    {
     "name": "stdin",
     "output_type": "stream",
     "text": [
      "Ingrese el nombre del cultivo Cebolla\n"
     ]
    }
   ],
   "source": [
    "#INgresamos el nombre del cultivo\n",
    "nombre_cultivo1 = input(\"Ingrese el nombre del cultivo\")"
   ]
  },
  {
   "cell_type": "code",
   "execution_count": 46,
   "metadata": {},
   "outputs": [
    {
     "name": "stdout",
     "output_type": "stream",
     "text": [
      "Cebolla\n"
     ]
    }
   ],
   "source": [
    "#Confirmamos que el dato se haya guardado correctamente\n",
    "print(nombre_cultivo1)"
   ]
  },
  {
   "cell_type": "code",
   "execution_count": 40,
   "metadata": {},
   "outputs": [
    {
     "data": {
      "text/plain": [
       "str"
      ]
     },
     "execution_count": 40,
     "metadata": {},
     "output_type": "execute_result"
    }
   ],
   "source": [
    "#Confirmamos que el dato sea del tipo esperado\n",
    "type(nombre_cultivo1)"
   ]
  },
  {
   "cell_type": "code",
   "execution_count": 28,
   "metadata": {},
   "outputs": [
    {
     "name": "stdin",
     "output_type": "stream",
     "text": [
      "Ingrese la cantidad del cultivo 35\n"
     ]
    }
   ],
   "source": [
    "#Ingresamos la cantidad de los cultivos\n",
    "cantidad_cultivo1 = int(input(\"Ingrese la cantidad del cultivo\"))"
   ]
  },
  {
   "cell_type": "code",
   "execution_count": 45,
   "metadata": {},
   "outputs": [
    {
     "name": "stdout",
     "output_type": "stream",
     "text": [
      "35\n"
     ]
    }
   ],
   "source": [
    "#Confirmamos que el dato se haya guardado correctamente\n",
    "print(cantidad_cultivo1)"
   ]
  },
  {
   "cell_type": "code",
   "execution_count": 41,
   "metadata": {},
   "outputs": [
    {
     "data": {
      "text/plain": [
       "int"
      ]
     },
     "execution_count": 41,
     "metadata": {},
     "output_type": "execute_result"
    }
   ],
   "source": [
    "#Confirmamos que el dato sea del tipo esperado\n",
    "type(cantidad_cultivo1)"
   ]
  },
  {
   "cell_type": "code",
   "execution_count": 22,
   "metadata": {},
   "outputs": [
    {
     "name": "stdin",
     "output_type": "stream",
     "text": [
      "Ingrese el almacene el tiempo que ha estado cultivado en meses 3.5\n"
     ]
    }
   ],
   "source": [
    "#Preguntamos por el tiempo que lleva el cultivo\n",
    "tiempo_cultivo1 = float(input(\"Ingrese el almacene el tiempo que ha estado cultivado en meses\"))"
   ]
  },
  {
   "cell_type": "code",
   "execution_count": 44,
   "metadata": {},
   "outputs": [
    {
     "name": "stdout",
     "output_type": "stream",
     "text": [
      "3.5\n"
     ]
    }
   ],
   "source": [
    "#Confirmamos que el dato se haya guardado correctamente\n",
    "print(tiempo_cultivo1)"
   ]
  },
  {
   "cell_type": "code",
   "execution_count": 42,
   "metadata": {},
   "outputs": [
    {
     "data": {
      "text/plain": [
       "float"
      ]
     },
     "execution_count": 42,
     "metadata": {},
     "output_type": "execute_result"
    }
   ],
   "source": [
    "#Confirmamos que el dato sea del tipo esperado\n",
    "type(tiempo_cultivo1)"
   ]
  },
  {
   "cell_type": "code",
   "execution_count": 64,
   "metadata": {},
   "outputs": [
    {
     "name": "stdin",
     "output_type": "stream",
     "text": [
      "Ingrese 1 si hay un problema con el cultivo o 0 en caso contrario: 0\n"
     ]
    }
   ],
   "source": [
    "#Hay algún problema con el cultivo? \n",
    "#En este caso se utiliza en conjunto bool e int, ya que si sólo se utiliza int, \n",
    "#el resultado dará True sin importar qué se ingrese (python)\n",
    "\n",
    "\"\"\"\n",
    "Python considers any non-empty string True. So doing bool(input()) is basically the same as doing input() != ''.\n",
    "Both return true even if the input wasn't \"True\n",
    "\"\"\"\"\n",
    "\n",
    "problemas_cultivo1 = bool(int(input(\"Ingrese 1 si hay un problema con el cultivo o 0 en caso contrario: \")))"
   ]
  },
  {
   "cell_type": "code",
   "execution_count": 65,
   "metadata": {},
   "outputs": [
    {
     "name": "stdout",
     "output_type": "stream",
     "text": [
      "False\n"
     ]
    }
   ],
   "source": [
    "#Confirmamos que el dato se haya guardado correctamente\n",
    "print(problemas_cultivo1)"
   ]
  },
  {
   "cell_type": "code",
   "execution_count": 43,
   "metadata": {},
   "outputs": [
    {
     "data": {
      "text/plain": [
       "bool"
      ]
     },
     "execution_count": 43,
     "metadata": {},
     "output_type": "execute_result"
    }
   ],
   "source": [
    "#Confirmamos que el dato sea del tipo esperado\n",
    "type(problemas_cultivo1)"
   ]
  },
  {
   "cell_type": "markdown",
   "metadata": {},
   "source": [
    "## Cultivo 2\n",
    "\n",
    "Para los cultivos 2,3 y 4 se repetirán los pasos estipulados para el Cultivo 1. Se omitirán los controles (como la impresión de la variable y su tipo) ya que se ha comprobado que el código funciona y que la información guardada en ellas es del tipo esperado"
   ]
  },
  {
   "cell_type": "code",
   "execution_count": 26,
   "metadata": {},
   "outputs": [
    {
     "name": "stdin",
     "output_type": "stream",
     "text": [
      "Ingrese el nombre del cultivo Peras\n"
     ]
    }
   ],
   "source": [
    "#Ingresamos el nombre del cultivo\n",
    "nombre_cultivo2 = input(\"Ingrese el nombre del cultivo\")"
   ]
  },
  {
   "cell_type": "code",
   "execution_count": 33,
   "metadata": {},
   "outputs": [
    {
     "name": "stdin",
     "output_type": "stream",
     "text": [
      "Ingrese la cantidad del cultivo 43\n"
     ]
    }
   ],
   "source": [
    "#Ingresamos la cantidad de los cultivos\n",
    "cantidad_cultivo2 = int(input(\"Ingrese la cantidad del cultivo\"))"
   ]
  },
  {
   "cell_type": "code",
   "execution_count": 29,
   "metadata": {},
   "outputs": [
    {
     "name": "stdin",
     "output_type": "stream",
     "text": [
      "Ingrese el almacene el tiempo que ha estado cultivado en meses 18.9\n"
     ]
    }
   ],
   "source": [
    "#Preguntamos por el tiempo que lleva el cultivo\n",
    "tiempo_cultivo2 = float(input(\"Ingrese el almacene el tiempo que ha estado cultivado en meses\"))"
   ]
  },
  {
   "cell_type": "code",
   "execution_count": 82,
   "metadata": {},
   "outputs": [
    {
     "name": "stdin",
     "output_type": "stream",
     "text": [
      "Ingrese 1 si hay un problema con el cultivo o 0 en caso contrario:  1\n"
     ]
    }
   ],
   "source": [
    "#Hay algún problema con el cultivo?\n",
    "problemas_cultivo2 = bool(int(input(\"Ingrese 1 si hay un problema con el cultivo o 0 en caso contrario: \")))"
   ]
  },
  {
   "cell_type": "markdown",
   "metadata": {},
   "source": [
    "## Cultivo 3"
   ]
  },
  {
   "cell_type": "code",
   "execution_count": 31,
   "metadata": {},
   "outputs": [
    {
     "name": "stdin",
     "output_type": "stream",
     "text": [
      "Ingrese el nombre del cultivo Zanahorias\n"
     ]
    }
   ],
   "source": [
    "nombre_cultivo3 = input(\"Ingrese el nombre del cultivo\")"
   ]
  },
  {
   "cell_type": "code",
   "execution_count": 32,
   "metadata": {},
   "outputs": [
    {
     "name": "stdin",
     "output_type": "stream",
     "text": [
      "Ingrese la cantidad del cultivo 16\n"
     ]
    }
   ],
   "source": [
    "#Ingresamos la cantidad de los cultivos\n",
    "cantidad_cultivo3 = int(input(\"Ingrese la cantidad del cultivo\"))"
   ]
  },
  {
   "cell_type": "code",
   "execution_count": 34,
   "metadata": {},
   "outputs": [
    {
     "name": "stdin",
     "output_type": "stream",
     "text": [
      "Ingrese el almacene el tiempo que ha estado cultivado en meses 2.2\n"
     ]
    }
   ],
   "source": [
    "#Preguntamos por el tiempo que lleva el cultivo\n",
    "tiempo_cultivo3 = float(input(\"Ingrese el almacene el tiempo que ha estado cultivado en meses\"))"
   ]
  },
  {
   "cell_type": "code",
   "execution_count": 71,
   "metadata": {},
   "outputs": [
    {
     "name": "stdin",
     "output_type": "stream",
     "text": [
      "Ingrese 1 si hay un problema con el cultivo o 0 en caso contrario:  0\n"
     ]
    }
   ],
   "source": [
    "#Hay algún problema con el cultivo?\n",
    "problemas_cultivo3 = bool(input(\"Ingrese 1 si hay un problema con el cultivo o 0 en caso contrario: \"))"
   ]
  },
  {
   "cell_type": "markdown",
   "metadata": {},
   "source": [
    "## Cultivo 4"
   ]
  },
  {
   "cell_type": "code",
   "execution_count": 36,
   "metadata": {},
   "outputs": [
    {
     "name": "stdin",
     "output_type": "stream",
     "text": [
      "Ingrese el nombre del cultivo Repollo\n"
     ]
    }
   ],
   "source": [
    "nombre_cultivo4 = input(\"Ingrese el nombre del cultivo\")"
   ]
  },
  {
   "cell_type": "code",
   "execution_count": 37,
   "metadata": {},
   "outputs": [
    {
     "name": "stdin",
     "output_type": "stream",
     "text": [
      "Ingrese la cantidad del cultivo 27\n"
     ]
    }
   ],
   "source": [
    "#Ingresamos la cantidad de los cultivos\n",
    "cantidad_cultivo4 = int(input(\"Ingrese la cantidad del cultivo\"))"
   ]
  },
  {
   "cell_type": "code",
   "execution_count": 38,
   "metadata": {},
   "outputs": [
    {
     "name": "stdin",
     "output_type": "stream",
     "text": [
      "Ingrese el almacene el tiempo que ha estado cultivado en meses 4.1\n"
     ]
    }
   ],
   "source": [
    "#Preguntamos por el tiempo que lleva el cultivo\n",
    "tiempo_cultivo4 = float(input(\"Ingrese el almacene el tiempo que ha estado cultivado en meses\"))"
   ]
  },
  {
   "cell_type": "code",
   "execution_count": 72,
   "metadata": {},
   "outputs": [
    {
     "name": "stdin",
     "output_type": "stream",
     "text": [
      "Ingrese 1 si hay un problema con el cultivo o 0 en caso contrario:  0\n"
     ]
    }
   ],
   "source": [
    "#Hay algún problema con el cultivo?\n",
    "problemas_cultivo4 = bool(int(input(\"Ingrese 1 si hay un problema con el cultivo o 0 en caso contrario: \")))"
   ]
  },
  {
   "cell_type": "markdown",
   "metadata": {},
   "source": [
    "### Imprimir toda la información correspondiente a cada uno de los cultivos en ​strings​ concatenados."
   ]
  },
  {
   "cell_type": "code",
   "execution_count": 85,
   "metadata": {},
   "outputs": [
    {
     "name": "stdout",
     "output_type": "stream",
     "text": [
      "Los cultivos que se hallan en la huerta estudiantil son: Cebolla con una cantidad de 35, Peras con una cantidad de 43, Zanahorias con una cantidad de 16, Repollo con una cantidad de 27. Los tiempos de cultivo para cada cultivo en el orden respectivo fueron de: 3.5, 18.9, 2.2, 4.1. A continuación se presentan los resultados para determinar si los cultivos presentan problemas (determinado por un 1) o si no presentan problemas (determinado por un 0): Cebolla: 0, Peras:1, Zanahorias:0, Repollo:0.\n"
     ]
    }
   ],
   "source": [
    "print(f\"Los cultivos que se hallan en la huerta estudiantil son: {nombre_cultivo1} con una cantidad de {cantidad_cultivo1}, {nombre_cultivo2} con una cantidad de {cantidad_cultivo2}, {nombre_cultivo3} con una cantidad de {cantidad_cultivo3}, {nombre_cultivo4} con una cantidad de {cantidad_cultivo4}. Los tiempos de cultivo para cada cultivo en el orden respectivo fueron de: {tiempo_cultivo1}, {tiempo_cultivo2}, {tiempo_cultivo3}, {tiempo_cultivo4}. A continuación se presentan los resultados para determinar si los cultivos presentan problemas (determinado por un 1) o si no presentan problemas (determinado por un 0): {nombre_cultivo1}: {problemas_cultivo1}, {nombre_cultivo2}:{problemas_cultivo2}, {nombre_cultivo3}:{problemas_cultivo3}, {nombre_cultivo4}:{problemas_cultivo4}.\")"
   ]
  },
  {
   "cell_type": "code",
   "execution_count": null,
   "metadata": {},
   "outputs": [],
   "source": []
  }
 ],
 "metadata": {
  "kernelspec": {
   "display_name": "Python 3",
   "language": "python",
   "name": "python3"
  },
  "language_info": {
   "codemirror_mode": {
    "name": "ipython",
    "version": 3
   },
   "file_extension": ".py",
   "mimetype": "text/x-python",
   "name": "python",
   "nbconvert_exporter": "python",
   "pygments_lexer": "ipython3",
   "version": "3.8.5"
  }
 },
 "nbformat": 4,
 "nbformat_minor": 4
}
